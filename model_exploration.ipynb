{
 "cells": [
  {
   "cell_type": "markdown",
   "metadata": {},
   "source": [
    "# Model Exploration"
   ]
  },
  {
   "cell_type": "markdown",
   "metadata": {},
   "source": [
    "| Date | User | Change Type | Remarks |  \n",
    "| ---- | ---- | ----------- | ------- |\n",
    "| 07/04/2025   | Martin | Create  | Notebook created for model exploration. Completed baseline model - Score: 13.29 | \n",
    "| 09/04/2025   | Martin | Update  | Completed XGBoost + PCA - Score: 14.55 | \n",
    "| 17/04/2025   | Martin | Update  | Completed TruncSVD + LGBM - Score: 13.51 | "
   ]
  },
  {
   "cell_type": "markdown",
   "metadata": {
    "vscode": {
     "languageId": "plaintext"
    }
   },
   "source": [
    "# Content\n",
    "\n",
    "* [Data Preparation](#data-preparation)\n",
    "* [XGBoost Vanilla](#xgboost-vanilla)\n",
    "* [PCA + XGBoost](#pca--xgboost)"
   ]
  },
  {
   "cell_type": "markdown",
   "metadata": {},
   "source": [
    "# Data Preparation"
   ]
  },
  {
   "cell_type": "markdown",
   "metadata": {},
   "source": [
    "Prepare the training and testing data for model building"
   ]
  },
  {
   "cell_type": "code",
   "execution_count": 1,
   "metadata": {},
   "outputs": [],
   "source": [
    "import numpy as np\n",
    "import polars as pl\n",
    "\n",
    "from utils.util import clean_data\n",
    "from sklearn.model_selection import train_test_split"
   ]
  },
  {
   "cell_type": "code",
   "execution_count": 2,
   "metadata": {},
   "outputs": [],
   "source": [
    "# Load all datasets\n",
    "train = pl.read_csv('data/train.csv')\n",
    "test = pl.read_csv('data/test.csv')\n",
    "additional = pl.read_csv('data/podcast_dataset.csv')"
   ]
  },
  {
   "cell_type": "code",
   "execution_count": 4,
   "metadata": {},
   "outputs": [
    {
     "data": {
      "text/html": [
       "<div><style>\n",
       ".dataframe > thead > tr,\n",
       ".dataframe > tbody > tr {\n",
       "  text-align: right;\n",
       "  white-space: pre-wrap;\n",
       "}\n",
       "</style>\n",
       "<small>shape: (5, 12)</small><table border=\"1\" class=\"dataframe\"><thead><tr><th>id</th><th>Podcast_Name</th><th>Episode_Title</th><th>Episode_Length_minutes</th><th>Genre</th><th>Host_Popularity_percentage</th><th>Publication_Day</th><th>Publication_Time</th><th>Guest_Popularity_percentage</th><th>Number_of_Ads</th><th>Episode_Sentiment</th><th>Listening_Time_minutes</th></tr><tr><td>i64</td><td>str</td><td>str</td><td>f64</td><td>str</td><td>f64</td><td>str</td><td>str</td><td>f64</td><td>f64</td><td>str</td><td>f64</td></tr></thead><tbody><tr><td>0</td><td>&quot;Mystery Matters&quot;</td><td>&quot;Episode 98&quot;</td><td>null</td><td>&quot;True Crime&quot;</td><td>74.81</td><td>&quot;Thursday&quot;</td><td>&quot;Night&quot;</td><td>null</td><td>0.0</td><td>&quot;Positive&quot;</td><td>31.41998</td></tr><tr><td>1</td><td>&quot;Joke Junction&quot;</td><td>&quot;Episode 26&quot;</td><td>119.8</td><td>&quot;Comedy&quot;</td><td>66.95</td><td>&quot;Saturday&quot;</td><td>&quot;Afternoon&quot;</td><td>75.95</td><td>2.0</td><td>&quot;Negative&quot;</td><td>88.01241</td></tr><tr><td>2</td><td>&quot;Study Sessions&quot;</td><td>&quot;Episode 16&quot;</td><td>73.9</td><td>&quot;Education&quot;</td><td>69.97</td><td>&quot;Tuesday&quot;</td><td>&quot;Evening&quot;</td><td>8.97</td><td>0.0</td><td>&quot;Negative&quot;</td><td>44.92531</td></tr><tr><td>3</td><td>&quot;Digital Digest&quot;</td><td>&quot;Episode 45&quot;</td><td>67.17</td><td>&quot;Technology&quot;</td><td>57.22</td><td>&quot;Monday&quot;</td><td>&quot;Morning&quot;</td><td>78.7</td><td>2.0</td><td>&quot;Positive&quot;</td><td>46.27824</td></tr><tr><td>4</td><td>&quot;Mind &amp; Body&quot;</td><td>&quot;Episode 86&quot;</td><td>110.51</td><td>&quot;Health&quot;</td><td>80.07</td><td>&quot;Monday&quot;</td><td>&quot;Afternoon&quot;</td><td>58.68</td><td>3.0</td><td>&quot;Neutral&quot;</td><td>75.61031</td></tr></tbody></table></div>"
      ],
      "text/plain": [
       "shape: (5, 12)\n",
       "┌─────┬────────────┬────────────┬────────────┬───┬────────────┬────────────┬───────────┬───────────┐\n",
       "│ id  ┆ Podcast_Na ┆ Episode_Ti ┆ Episode_Le ┆ … ┆ Guest_Popu ┆ Number_of_ ┆ Episode_S ┆ Listening │\n",
       "│ --- ┆ me         ┆ tle        ┆ ngth_minut ┆   ┆ larity_per ┆ Ads        ┆ entiment  ┆ _Time_min │\n",
       "│ i64 ┆ ---        ┆ ---        ┆ es         ┆   ┆ centage    ┆ ---        ┆ ---       ┆ utes      │\n",
       "│     ┆ str        ┆ str        ┆ ---        ┆   ┆ ---        ┆ f64        ┆ str       ┆ ---       │\n",
       "│     ┆            ┆            ┆ f64        ┆   ┆ f64        ┆            ┆           ┆ f64       │\n",
       "╞═════╪════════════╪════════════╪════════════╪═══╪════════════╪════════════╪═══════════╪═══════════╡\n",
       "│ 0   ┆ Mystery    ┆ Episode 98 ┆ null       ┆ … ┆ null       ┆ 0.0        ┆ Positive  ┆ 31.41998  │\n",
       "│     ┆ Matters    ┆            ┆            ┆   ┆            ┆            ┆           ┆           │\n",
       "│ 1   ┆ Joke       ┆ Episode 26 ┆ 119.8      ┆ … ┆ 75.95      ┆ 2.0        ┆ Negative  ┆ 88.01241  │\n",
       "│     ┆ Junction   ┆            ┆            ┆   ┆            ┆            ┆           ┆           │\n",
       "│ 2   ┆ Study      ┆ Episode 16 ┆ 73.9       ┆ … ┆ 8.97       ┆ 0.0        ┆ Negative  ┆ 44.92531  │\n",
       "│     ┆ Sessions   ┆            ┆            ┆   ┆            ┆            ┆           ┆           │\n",
       "│ 3   ┆ Digital    ┆ Episode 45 ┆ 67.17      ┆ … ┆ 78.7       ┆ 2.0        ┆ Positive  ┆ 46.27824  │\n",
       "│     ┆ Digest     ┆            ┆            ┆   ┆            ┆            ┆           ┆           │\n",
       "│ 4   ┆ Mind &     ┆ Episode 86 ┆ 110.51     ┆ … ┆ 58.68      ┆ 3.0        ┆ Neutral   ┆ 75.61031  │\n",
       "│     ┆ Body       ┆            ┆            ┆   ┆            ┆            ┆           ┆           │\n",
       "└─────┴────────────┴────────────┴────────────┴───┴────────────┴────────────┴───────────┴───────────┘"
      ]
     },
     "execution_count": 4,
     "metadata": {},
     "output_type": "execute_result"
    }
   ],
   "source": [
    "train.head()"
   ]
  },
  {
   "cell_type": "code",
   "execution_count": 5,
   "metadata": {},
   "outputs": [
    {
     "data": {
      "text/html": [
       "<div><style>\n",
       ".dataframe > thead > tr,\n",
       ".dataframe > tbody > tr {\n",
       "  text-align: right;\n",
       "  white-space: pre-wrap;\n",
       "}\n",
       "</style>\n",
       "<small>shape: (5, 11)</small><table border=\"1\" class=\"dataframe\"><thead><tr><th>id</th><th>Podcast_Name</th><th>Episode_Title</th><th>Episode_Length_minutes</th><th>Genre</th><th>Host_Popularity_percentage</th><th>Publication_Day</th><th>Publication_Time</th><th>Guest_Popularity_percentage</th><th>Number_of_Ads</th><th>Episode_Sentiment</th></tr><tr><td>i64</td><td>str</td><td>str</td><td>f64</td><td>str</td><td>f64</td><td>str</td><td>str</td><td>f64</td><td>f64</td><td>str</td></tr></thead><tbody><tr><td>750000</td><td>&quot;Educational Nuggets&quot;</td><td>&quot;Episode 73&quot;</td><td>78.96</td><td>&quot;Education&quot;</td><td>38.11</td><td>&quot;Saturday&quot;</td><td>&quot;Evening&quot;</td><td>53.33</td><td>1.0</td><td>&quot;Neutral&quot;</td></tr><tr><td>750001</td><td>&quot;Sound Waves&quot;</td><td>&quot;Episode 23&quot;</td><td>27.87</td><td>&quot;Music&quot;</td><td>71.29</td><td>&quot;Sunday&quot;</td><td>&quot;Morning&quot;</td><td>null</td><td>0.0</td><td>&quot;Neutral&quot;</td></tr><tr><td>750002</td><td>&quot;Joke Junction&quot;</td><td>&quot;Episode 11&quot;</td><td>69.1</td><td>&quot;Comedy&quot;</td><td>67.89</td><td>&quot;Friday&quot;</td><td>&quot;Evening&quot;</td><td>97.51</td><td>0.0</td><td>&quot;Positive&quot;</td></tr><tr><td>750003</td><td>&quot;Comedy Corner&quot;</td><td>&quot;Episode 73&quot;</td><td>115.39</td><td>&quot;Comedy&quot;</td><td>23.4</td><td>&quot;Sunday&quot;</td><td>&quot;Morning&quot;</td><td>51.75</td><td>2.0</td><td>&quot;Positive&quot;</td></tr><tr><td>750004</td><td>&quot;Life Lessons&quot;</td><td>&quot;Episode 50&quot;</td><td>72.32</td><td>&quot;Lifestyle&quot;</td><td>58.1</td><td>&quot;Wednesday&quot;</td><td>&quot;Morning&quot;</td><td>11.3</td><td>2.0</td><td>&quot;Neutral&quot;</td></tr></tbody></table></div>"
      ],
      "text/plain": [
       "shape: (5, 11)\n",
       "┌────────┬────────────┬────────────┬───────────┬───┬───────────┬───────────┬───────────┬───────────┐\n",
       "│ id     ┆ Podcast_Na ┆ Episode_Ti ┆ Episode_L ┆ … ┆ Publicati ┆ Guest_Pop ┆ Number_of ┆ Episode_S │\n",
       "│ ---    ┆ me         ┆ tle        ┆ ength_min ┆   ┆ on_Time   ┆ ularity_p ┆ _Ads      ┆ entiment  │\n",
       "│ i64    ┆ ---        ┆ ---        ┆ utes      ┆   ┆ ---       ┆ ercentage ┆ ---       ┆ ---       │\n",
       "│        ┆ str        ┆ str        ┆ ---       ┆   ┆ str       ┆ ---       ┆ f64       ┆ str       │\n",
       "│        ┆            ┆            ┆ f64       ┆   ┆           ┆ f64       ┆           ┆           │\n",
       "╞════════╪════════════╪════════════╪═══════════╪═══╪═══════════╪═══════════╪═══════════╪═══════════╡\n",
       "│ 750000 ┆ Educationa ┆ Episode 73 ┆ 78.96     ┆ … ┆ Evening   ┆ 53.33     ┆ 1.0       ┆ Neutral   │\n",
       "│        ┆ l Nuggets  ┆            ┆           ┆   ┆           ┆           ┆           ┆           │\n",
       "│ 750001 ┆ Sound      ┆ Episode 23 ┆ 27.87     ┆ … ┆ Morning   ┆ null      ┆ 0.0       ┆ Neutral   │\n",
       "│        ┆ Waves      ┆            ┆           ┆   ┆           ┆           ┆           ┆           │\n",
       "│ 750002 ┆ Joke       ┆ Episode 11 ┆ 69.1      ┆ … ┆ Evening   ┆ 97.51     ┆ 0.0       ┆ Positive  │\n",
       "│        ┆ Junction   ┆            ┆           ┆   ┆           ┆           ┆           ┆           │\n",
       "│ 750003 ┆ Comedy     ┆ Episode 73 ┆ 115.39    ┆ … ┆ Morning   ┆ 51.75     ┆ 2.0       ┆ Positive  │\n",
       "│        ┆ Corner     ┆            ┆           ┆   ┆           ┆           ┆           ┆           │\n",
       "│ 750004 ┆ Life       ┆ Episode 50 ┆ 72.32     ┆ … ┆ Morning   ┆ 11.3      ┆ 2.0       ┆ Neutral   │\n",
       "│        ┆ Lessons    ┆            ┆           ┆   ┆           ┆           ┆           ┆           │\n",
       "└────────┴────────────┴────────────┴───────────┴───┴───────────┴───────────┴───────────┴───────────┘"
      ]
     },
     "execution_count": 5,
     "metadata": {},
     "output_type": "execute_result"
    }
   ],
   "source": [
    "test.head()"
   ]
  },
  {
   "cell_type": "code",
   "execution_count": 6,
   "metadata": {},
   "outputs": [
    {
     "data": {
      "text/plain": [
       "['id',\n",
       " 'Podcast_Name',\n",
       " 'Episode_Title',\n",
       " 'Episode_Length_minutes',\n",
       " 'Genre',\n",
       " 'Host_Popularity_percentage',\n",
       " 'Publication_Day',\n",
       " 'Publication_Time',\n",
       " 'Guest_Popularity_percentage',\n",
       " 'Number_of_Ads',\n",
       " 'Episode_Sentiment',\n",
       " 'Listening_Time_minutes']"
      ]
     },
     "execution_count": 6,
     "metadata": {},
     "output_type": "execute_result"
    }
   ],
   "source": [
    "train.columns"
   ]
  },
  {
   "cell_type": "code",
   "execution_count": 7,
   "metadata": {},
   "outputs": [
    {
     "data": {
      "text/plain": [
       "['Podcast_Name',\n",
       " 'Episode_Title',\n",
       " 'Episode_Length_minutes',\n",
       " 'Genre',\n",
       " 'Host_Popularity_percentage',\n",
       " 'Publication_Day',\n",
       " 'Publication_Time',\n",
       " 'Guest_Popularity_percentage',\n",
       " 'Number_of_Ads',\n",
       " 'Episode_Sentiment',\n",
       " 'Listening_Time_minutes']"
      ]
     },
     "execution_count": 7,
     "metadata": {},
     "output_type": "execute_result"
    }
   ],
   "source": [
    "additional.columns"
   ]
  },
  {
   "cell_type": "code",
   "execution_count": 30,
   "metadata": {},
   "outputs": [
    {
     "data": {
      "text/html": [
       "<div><style>\n",
       ".dataframe > thead > tr,\n",
       ".dataframe > tbody > tr {\n",
       "  text-align: right;\n",
       "  white-space: pre-wrap;\n",
       "}\n",
       "</style>\n",
       "<small>shape: (5, 12)</small><table border=\"1\" class=\"dataframe\"><thead><tr><th>id</th><th>Podcast_Name</th><th>Episode_Title</th><th>Episode_Length_minutes</th><th>Genre</th><th>Host_Popularity_percentage</th><th>Publication_Day</th><th>Publication_Time</th><th>Guest_Popularity_percentage</th><th>Number_of_Ads</th><th>Episode_Sentiment</th><th>Listening_Time_minutes</th></tr><tr><td>i64</td><td>str</td><td>str</td><td>f64</td><td>str</td><td>f64</td><td>str</td><td>str</td><td>f64</td><td>f64</td><td>str</td><td>f64</td></tr></thead><tbody><tr><td>750000</td><td>&quot;Healthy Living&quot;</td><td>&quot;Episode 77&quot;</td><td>99.25</td><td>&quot;Health&quot;</td><td>21.37</td><td>&quot;Thursday&quot;</td><td>&quot;Night&quot;</td><td>70.22</td><td>3.0</td><td>&quot;Positive&quot;</td><td>55.158695</td></tr><tr><td>750001</td><td>&quot;Mystery Matters&quot;</td><td>&quot;Episode 6&quot;</td><td>19.43</td><td>&quot;True Crime&quot;</td><td>47.19</td><td>&quot;Friday&quot;</td><td>&quot;Evening&quot;</td><td>75.15</td><td>1.0</td><td>&quot;Neutral&quot;</td><td>7.686559</td></tr><tr><td>750002</td><td>&quot;Current Affairs&quot;</td><td>&quot;Episode 1&quot;</td><td>117.03</td><td>&quot;News&quot;</td><td>96.33</td><td>&quot;Sunday&quot;</td><td>&quot;Night&quot;</td><td>57.95</td><td>3.0</td><td>&quot;Neutral&quot;</td><td>110.064645</td></tr><tr><td>750003</td><td>&quot;Mystery Matters&quot;</td><td>&quot;Episode 38&quot;</td><td>16.97</td><td>&quot;True Crime&quot;</td><td>25.73</td><td>&quot;Monday&quot;</td><td>&quot;Night&quot;</td><td>24.19</td><td>0.0</td><td>&quot;Positive&quot;</td><td>12.00038</td></tr><tr><td>750004</td><td>&quot;Humor Hub&quot;</td><td>&quot;Episode 73&quot;</td><td>83.48</td><td>&quot;Comedy&quot;</td><td>76.69</td><td>&quot;Tuesday&quot;</td><td>&quot;Afternoon&quot;</td><td>42.31</td><td>3.0</td><td>&quot;Positive&quot;</td><td>45.560293</td></tr></tbody></table></div>"
      ],
      "text/plain": [
       "shape: (5, 12)\n",
       "┌────────┬────────────┬────────────┬───────────┬───┬───────────┬───────────┬───────────┬───────────┐\n",
       "│ id     ┆ Podcast_Na ┆ Episode_Ti ┆ Episode_L ┆ … ┆ Guest_Pop ┆ Number_of ┆ Episode_S ┆ Listening │\n",
       "│ ---    ┆ me         ┆ tle        ┆ ength_min ┆   ┆ ularity_p ┆ _Ads      ┆ entiment  ┆ _Time_min │\n",
       "│ i64    ┆ ---        ┆ ---        ┆ utes      ┆   ┆ ercentage ┆ ---       ┆ ---       ┆ utes      │\n",
       "│        ┆ str        ┆ str        ┆ ---       ┆   ┆ ---       ┆ f64       ┆ str       ┆ ---       │\n",
       "│        ┆            ┆            ┆ f64       ┆   ┆ f64       ┆           ┆           ┆ f64       │\n",
       "╞════════╪════════════╪════════════╪═══════════╪═══╪═══════════╪═══════════╪═══════════╪═══════════╡\n",
       "│ 750000 ┆ Healthy    ┆ Episode 77 ┆ 99.25     ┆ … ┆ 70.22     ┆ 3.0       ┆ Positive  ┆ 55.158695 │\n",
       "│        ┆ Living     ┆            ┆           ┆   ┆           ┆           ┆           ┆           │\n",
       "│ 750001 ┆ Mystery    ┆ Episode 6  ┆ 19.43     ┆ … ┆ 75.15     ┆ 1.0       ┆ Neutral   ┆ 7.686559  │\n",
       "│        ┆ Matters    ┆            ┆           ┆   ┆           ┆           ┆           ┆           │\n",
       "│ 750002 ┆ Current    ┆ Episode 1  ┆ 117.03    ┆ … ┆ 57.95     ┆ 3.0       ┆ Neutral   ┆ 110.06464 │\n",
       "│        ┆ Affairs    ┆            ┆           ┆   ┆           ┆           ┆           ┆ 5         │\n",
       "│ 750003 ┆ Mystery    ┆ Episode 38 ┆ 16.97     ┆ … ┆ 24.19     ┆ 0.0       ┆ Positive  ┆ 12.00038  │\n",
       "│        ┆ Matters    ┆            ┆           ┆   ┆           ┆           ┆           ┆           │\n",
       "│ 750004 ┆ Humor Hub  ┆ Episode 73 ┆ 83.48     ┆ … ┆ 42.31     ┆ 3.0       ┆ Positive  ┆ 45.560293 │\n",
       "└────────┴────────────┴────────────┴───────────┴───┴───────────┴───────────┴───────────┴───────────┘"
      ]
     },
     "execution_count": 30,
     "metadata": {},
     "output_type": "execute_result"
    }
   ],
   "source": [
    "additional = additional.insert_column(\n",
    "  0,\n",
    "  pl.Series('id', list(range(train['id'][-1]+1, train['id'][-1]+1+additional.shape[0])))\n",
    ")\n",
    "additional = additional.with_columns(\n",
    "  pl.col('Number_of_Ads').cast(pl.Float64)\n",
    ")\n",
    "# Fill Nulls\n",
    "additional = additional.fill_null(strategy='mean')\n",
    "additional.head()"
   ]
  },
  {
   "cell_type": "code",
   "execution_count": 7,
   "metadata": {},
   "outputs": [],
   "source": [
    "SEED = 42"
   ]
  },
  {
   "cell_type": "code",
   "execution_count": 32,
   "metadata": {},
   "outputs": [],
   "source": [
    "# Optional to add additional data\n",
    "train = pl.concat([train, additional], how='vertical')"
   ]
  },
  {
   "cell_type": "code",
   "execution_count": 3,
   "metadata": {},
   "outputs": [],
   "source": [
    "cl_train = clean_data(train)\n",
    "cl_test = clean_data(test)\n",
    "\n",
    "# Remove ids\n",
    "cl_train = cl_train.drop('id')\n",
    "test_id = cl_test['id']\n",
    "cl_test = cl_test.drop('id')"
   ]
  },
  {
   "cell_type": "markdown",
   "metadata": {},
   "source": [
    "We will have 2 versions of the data - one where the target variable is separated from the features using sklearn's `train_test_split` and another where the dataframe remains intact but is randomly sampled\n",
    "\n",
    "* train - 80%\n",
    "* validation - 20%\n",
    "* test - submission to Kaggle"
   ]
  },
  {
   "cell_type": "code",
   "execution_count": 8,
   "metadata": {},
   "outputs": [],
   "source": [
    "# sklearns train test_split\n",
    "y = cl_train['listening_time_minutes']\n",
    "X = cl_train.drop('listening_time_minutes')\n",
    "X_train, X_valid, y_train, y_valid = train_test_split(X, y, test_size=0.2, random_state=SEED)"
   ]
  },
  {
   "cell_type": "code",
   "execution_count": 9,
   "metadata": {},
   "outputs": [],
   "source": [
    "# Standard split\n",
    "temp = cl_train.sample(fraction=1, shuffle=True, seed=SEED)\n",
    "test_size = int(0.2 * temp.shape[0])\n",
    "cl_valid_samp, cl_train_samp = temp.head(test_size), temp.tail(-test_size)"
   ]
  },
  {
   "cell_type": "markdown",
   "metadata": {},
   "source": [
    "---"
   ]
  },
  {
   "cell_type": "markdown",
   "metadata": {},
   "source": [
    "# XGBoost Vanilla"
   ]
  },
  {
   "cell_type": "markdown",
   "metadata": {},
   "source": [
    "This model will serve as a baseline. XGBoost is a gradient boosting algorithm that has shown to provide good performance across many different tasks. Here we are using it as a regressor"
   ]
  },
  {
   "cell_type": "code",
   "execution_count": 6,
   "metadata": {},
   "outputs": [],
   "source": [
    "import xgboost as xgb\n",
    "import wandb\n",
    "\n",
    "from sklearn.metrics import mean_absolute_error, mean_squared_error, root_mean_squared_error, r2_score\n",
    "\n",
    "wandb.login()"
   ]
  },
  {
   "cell_type": "code",
   "execution_count": 15,
   "metadata": {},
   "outputs": [],
   "source": [
    "def wandb_track(\n",
    "  config: dict,\n",
    "  y_test: np.array,\n",
    "  y_pred: np.array,\n",
    "  train_error: np.array,\n",
    "  test_error: np.array,\n",
    "  tags: list = [],\n",
    "  notes: str = \"\"\n",
    ") -> None:\n",
    "  run = wandb.init(\n",
    "    project=\"podcast-listening-time\",\n",
    "    notes=notes,\n",
    "    tags=tags,\n",
    "    config={\n",
    "      'dataset': \"Podcast-listening-time-kaggle\"\n",
    "    }\n",
    "  )\n",
    "\n",
    "  # Plot general metrics\n",
    "  metrics = {\n",
    "    'mae': mean_absolute_error(y_test, y_pred),\n",
    "    'mse': mean_squared_error(y_test, y_pred),\n",
    "    'rmse': root_mean_squared_error(y_test, y_pred),\n",
    "    'r2': r2_score(y_test, y_pred),\n",
    "  }\n",
    "  run.log({\n",
    "    **metrics\n",
    "  })\n",
    "\n",
    "  # Plot Training and Evaluation rmse\n",
    "  data = [[x, y] for x, y in zip(range(len(train_error)), train_error)]\n",
    "  table = wandb.Table(data=data, columns=['round', 'rmse'])\n",
    "  run.log({\n",
    "    'train_error': wandb.plot.line(\n",
    "      table, 'round', 'rmse', title=\"Training Error\"\n",
    "    )\n",
    "  })\n",
    "\n",
    "  data = [[x, y] for x, y in zip(range(len(test_error)), test_error)]\n",
    "  table = wandb.Table(data=data, columns=['round', 'rmse'])\n",
    "  run.log({\n",
    "    'test_error': wandb.plot.line(\n",
    "      table, 'round', 'rmse', title=\"Testing Error\"\n",
    "    )\n",
    "  })\n",
    "\n",
    "  # Update config with run details\n",
    "  run.config.update(config)\n",
    "\n",
    "  # Finish run\n",
    "  run.finish()\n"
   ]
  },
  {
   "cell_type": "code",
   "execution_count": 10,
   "metadata": {},
   "outputs": [],
   "source": [
    "NUM_ROUNDS = 50\n",
    "params = {\n",
    "  'device': 'cuda',\n",
    "  'objective': 'reg:squarederror',\n",
    "  'max_depth': 8,\n",
    "  'learning_rate': 0.3,\n",
    "  'eval_metric': 'rmse',\n",
    "}\n",
    "results = {}\n",
    "\n",
    "# Declare DMatrix data format\n",
    "dtrain = xgb.DMatrix(X_train, label=y_train)\n",
    "dvalid = xgb.DMatrix(X_valid, label=y_valid)\n",
    "\n",
    "# Define evaluation data format\n",
    "evallist = [(dtrain, 'train'), (dvalid, 'eval')]"
   ]
  },
  {
   "cell_type": "code",
   "execution_count": 11,
   "metadata": {},
   "outputs": [
    {
     "name": "stdout",
     "output_type": "stream",
     "text": [
      "[0]\ttrain-rmse:21.21406\teval-rmse:21.19730\n",
      "[1]\ttrain-rmse:17.58723\teval-rmse:17.56956\n",
      "[2]\ttrain-rmse:15.49432\teval-rmse:15.47977\n",
      "[3]\ttrain-rmse:14.34746\teval-rmse:14.33688\n",
      "[4]\ttrain-rmse:13.74140\teval-rmse:13.73807\n",
      "[5]\ttrain-rmse:13.42417\teval-rmse:13.42652\n",
      "[6]\ttrain-rmse:13.25729\teval-rmse:13.26685\n",
      "[7]\ttrain-rmse:13.16617\teval-rmse:13.18553\n",
      "[8]\ttrain-rmse:13.11222\teval-rmse:13.14045\n",
      "[9]\ttrain-rmse:13.07957\teval-rmse:13.11648\n",
      "[10]\ttrain-rmse:13.05481\teval-rmse:13.10065\n",
      "[11]\ttrain-rmse:13.03365\teval-rmse:13.08846\n",
      "[12]\ttrain-rmse:13.01960\teval-rmse:13.08372\n",
      "[13]\ttrain-rmse:13.00783\teval-rmse:13.08087\n",
      "[14]\ttrain-rmse:12.98774\teval-rmse:13.07489\n",
      "[15]\ttrain-rmse:12.96970\teval-rmse:13.06773\n",
      "[16]\ttrain-rmse:12.95725\teval-rmse:13.06609\n",
      "[17]\ttrain-rmse:12.94711\teval-rmse:13.06235\n",
      "[18]\ttrain-rmse:12.93253\teval-rmse:13.06046\n",
      "[19]\ttrain-rmse:12.92361\teval-rmse:13.05923\n",
      "[20]\ttrain-rmse:12.91100\teval-rmse:13.05661\n",
      "[21]\ttrain-rmse:12.89930\teval-rmse:13.05441\n",
      "[22]\ttrain-rmse:12.88905\teval-rmse:13.05399\n",
      "[23]\ttrain-rmse:12.87886\teval-rmse:13.05058\n",
      "[24]\ttrain-rmse:12.86917\teval-rmse:13.05053\n",
      "[25]\ttrain-rmse:12.86027\teval-rmse:13.04976\n",
      "[26]\ttrain-rmse:12.84997\teval-rmse:13.04788\n",
      "[27]\ttrain-rmse:12.83802\teval-rmse:13.04627\n",
      "[28]\ttrain-rmse:12.82991\teval-rmse:13.04439\n",
      "[29]\ttrain-rmse:12.81837\teval-rmse:13.04140\n",
      "[30]\ttrain-rmse:12.81046\teval-rmse:13.04077\n",
      "[31]\ttrain-rmse:12.79750\teval-rmse:13.03737\n",
      "[32]\ttrain-rmse:12.78899\teval-rmse:13.03748\n",
      "[33]\ttrain-rmse:12.78196\teval-rmse:13.03545\n",
      "[34]\ttrain-rmse:12.77250\teval-rmse:13.03305\n",
      "[35]\ttrain-rmse:12.76557\teval-rmse:13.03348\n",
      "[36]\ttrain-rmse:12.75213\teval-rmse:13.03031\n",
      "[37]\ttrain-rmse:12.74505\teval-rmse:13.03051\n",
      "[38]\ttrain-rmse:12.73135\teval-rmse:13.02855\n",
      "[39]\ttrain-rmse:12.72284\teval-rmse:13.02811\n",
      "[40]\ttrain-rmse:12.71330\teval-rmse:13.02742\n",
      "[41]\ttrain-rmse:12.70472\teval-rmse:13.02513\n",
      "[42]\ttrain-rmse:12.69378\teval-rmse:13.02232\n",
      "[43]\ttrain-rmse:12.68420\teval-rmse:13.02112\n",
      "[44]\ttrain-rmse:12.67763\teval-rmse:13.02073\n",
      "[45]\ttrain-rmse:12.67039\teval-rmse:13.02139\n",
      "[46]\ttrain-rmse:12.66144\teval-rmse:13.02232\n",
      "[47]\ttrain-rmse:12.64936\teval-rmse:13.02100\n",
      "[48]\ttrain-rmse:12.63849\teval-rmse:13.02145\n",
      "[49]\ttrain-rmse:12.63257\teval-rmse:13.02031\n"
     ]
    }
   ],
   "source": [
    "best_model = xgb.train(\n",
    "  params=params,\n",
    "  dtrain=dtrain,\n",
    "  num_boost_round=NUM_ROUNDS,\n",
    "  evals=evallist,\n",
    "  evals_result=results\n",
    ")"
   ]
  },
  {
   "cell_type": "code",
   "execution_count": 35,
   "metadata": {},
   "outputs": [
    {
     "data": {
      "text/plain": [
       "<Axes: title={'center': 'Feature importance'}, xlabel='Importance score', ylabel='Features'>"
      ]
     },
     "execution_count": 35,
     "metadata": {},
     "output_type": "execute_result"
    },
    {
     "data": {
      "image/png": "[encoded data removed]",
      "text/plain": [
       "<Figure size 640x480 with 1 Axes>"
      ]
     },
     "metadata": {},
     "output_type": "display_data"
    }
   ],
   "source": [
    "xgb.plot_importance(best_model)"
   ]
  },
  {
   "cell_type": "code",
   "execution_count": 38,
   "metadata": {},
   "outputs": [
    {
     "data": {
      "text/plain": [
       "<Axes: >"
      ]
     },
     "execution_count": 38,
     "metadata": {},
     "output_type": "execute_result"
    },
    {
     "data": {
      "image/png": "[encoded data removed]",
      "text/plain": [
       "<Figure size 640x480 with 1 Axes>"
      ]
     },
     "metadata": {},
     "output_type": "display_data"
    }
   ],
   "source": [
    "xgb.plot_tree(best_model)"
   ]
  },
  {
   "cell_type": "code",
   "execution_count": 36,
   "metadata": {},
   "outputs": [
    {
     "data": {
      "text/html": [
       "Tracking run with wandb version 0.19.9"
      ],
      "text/plain": [
       "<IPython.core.display.HTML object>"
      ]
     },
     "metadata": {},
     "output_type": "display_data"
    },
    {
     "data": {
      "text/html": [
       "Run data is saved locally in <code>/mnt/d/Projects/podcast-listening-time/wandb/run-20250409_180309-14to5vod</code>"
      ],
      "text/plain": [
       "<IPython.core.display.HTML object>"
      ]
     },
     "metadata": {},
     "output_type": "display_data"
    },
    {
     "data": {
      "text/html": [
       "Syncing run <strong><a href='https://wandb.ai/minimartzz/podcast-listening-time/runs/14to5vod' target=\"_blank\">different-paper-2</a></strong> to <a href='https://wandb.ai/minimartzz/podcast-listening-time' target=\"_blank\">Weights & Biases</a> (<a href='https://wandb.me/developer-guide' target=\"_blank\">docs</a>)<br>"
      ],
      "text/plain": [
       "<IPython.core.display.HTML object>"
      ]
     },
     "metadata": {},
     "output_type": "display_data"
    },
    {
     "data": {
      "text/html": [
       " View project at <a href='https://wandb.ai/minimartzz/podcast-listening-time' target=\"_blank\">https://wandb.ai/minimartzz/podcast-listening-time</a>"
      ],
      "text/plain": [
       "<IPython.core.display.HTML object>"
      ]
     },
     "metadata": {},
     "output_type": "display_data"
    },
    {
     "data": {
      "text/html": [
       " View run at <a href='https://wandb.ai/minimartzz/podcast-listening-time/runs/14to5vod' target=\"_blank\">https://wandb.ai/minimartzz/podcast-listening-time/runs/14to5vod</a>"
      ],
      "text/plain": [
       "<IPython.core.display.HTML object>"
      ]
     },
     "metadata": {},
     "output_type": "display_data"
    },
    {
     "data": {
      "text/html": [],
      "text/plain": [
       "<IPython.core.display.HTML object>"
      ]
     },
     "metadata": {},
     "output_type": "display_data"
    },
    {
     "data": {
      "text/html": [
       "<br>    <style><br>        .wandb-row {<br>            display: flex;<br>            flex-direction: row;<br>            flex-wrap: wrap;<br>            justify-content: flex-start;<br>            width: 100%;<br>        }<br>        .wandb-col {<br>            display: flex;<br>            flex-direction: column;<br>            flex-basis: 100%;<br>            flex: 1;<br>            padding: 10px;<br>        }<br>    </style><br><div class=\"wandb-row\"><div class=\"wandb-col\"><h3>Run history:</h3><br/><table class=\"wandb\"><tr><td>mae</td><td>▁</td></tr><tr><td>mse</td><td>▁</td></tr><tr><td>r2</td><td>▁</td></tr><tr><td>rmse</td><td>▁</td></tr></table><br/></div><div class=\"wandb-col\"><h3>Run summary:</h3><br/><table class=\"wandb\"><tr><td>mae</td><td>9.45814</td></tr><tr><td>mse</td><td>169.52855</td></tr><tr><td>r2</td><td>0.76961</td></tr><tr><td>rmse</td><td>13.02031</td></tr></table><br/></div></div>"
      ],
      "text/plain": [
       "<IPython.core.display.HTML object>"
      ]
     },
     "metadata": {},
     "output_type": "display_data"
    },
    {
     "data": {
      "text/html": [
       " View run <strong style=\"color:#cdcd00\">different-paper-2</strong> at: <a href='https://wandb.ai/minimartzz/podcast-listening-time/runs/14to5vod' target=\"_blank\">https://wandb.ai/minimartzz/podcast-listening-time/runs/14to5vod</a><br> View project at: <a href='https://wandb.ai/minimartzz/podcast-listening-time' target=\"_blank\">https://wandb.ai/minimartzz/podcast-listening-time</a><br>Synced 5 W&B file(s), 2 media file(s), 4 artifact file(s) and 0 other file(s)"
      ],
      "text/plain": [
       "<IPython.core.display.HTML object>"
      ]
     },
     "metadata": {},
     "output_type": "display_data"
    },
    {
     "data": {
      "text/html": [
       "Find logs at: <code>./wandb/run-20250409_180309-14to5vod/logs</code>"
      ],
      "text/plain": [
       "<IPython.core.display.HTML object>"
      ]
     },
     "metadata": {},
     "output_type": "display_data"
    }
   ],
   "source": [
    "# Get metrics to submit to wandb\n",
    "train_errors = np.array(results['train']['rmse'])\n",
    "eval_errors = np.array(results['eval']['rmse'])\n",
    "y_pred = best_model.predict(dvalid)\n",
    "\n",
    "tags = ['baseline', 'xgboost']\n",
    "notes = 'Baseline XGBoost model'\n",
    "\n",
    "wandb_track(\n",
    "  config=params,\n",
    "  y_test=y_valid,\n",
    "  y_pred=y_pred,\n",
    "  train_error=train_errors,\n",
    "  test_error=eval_errors,\n",
    "  tags=tags,\n",
    "  notes=notes\n",
    ")"
   ]
  },
  {
   "cell_type": "markdown",
   "metadata": {},
   "source": [
    "---"
   ]
  },
  {
   "cell_type": "markdown",
   "metadata": {},
   "source": [
    "# PCA + XGBoost"
   ]
  },
  {
   "cell_type": "markdown",
   "metadata": {},
   "source": [
    "Dimensionality reduction together with normalising the data will hopefully help to improve performance"
   ]
  },
  {
   "cell_type": "code",
   "execution_count": 38,
   "metadata": {},
   "outputs": [],
   "source": [
    "from sklearn.preprocessing import StandardScaler\n",
    "from sklearn.decomposition import PCA"
   ]
  },
  {
   "cell_type": "code",
   "execution_count": 120,
   "metadata": {},
   "outputs": [],
   "source": [
    "N_COMPONENTS = 50\n",
    "\n",
    "# # Data transformation\n",
    "# train_f = cl_train.select(\n",
    "#   pl.col(pl.Float64)\n",
    "# )\n",
    "# test_f = cl_test.select(\n",
    "#   pl.col(pl.Float64)\n",
    "# )\n",
    "\n",
    "# # Temporarily remove target variable from training data\n",
    "# train_f = train_f.drop('listening_time_minutes')\n",
    "\n",
    "# If applied to the whole dataframe\n",
    "target = cl_train['listening_time_minutes']\n",
    "train_f = cl_train.drop('listening_time_minutes')\n",
    "test_f = cl_test.clone()\n",
    "\n",
    "# Apply the standard scaler and \n",
    "ss = StandardScaler()\n",
    "train_data = ss.fit_transform(train_f)\n",
    "test_data = ss.transform(test_f)\n",
    "train_data[np.isnan(train_data)] = 0\n",
    "\n",
    "# Apply PCA\n",
    "pca = PCA(n_components=N_COMPONENTS)\n",
    "train_data = pca.fit_transform(train_data)\n",
    "test_data = pca.transform(test_data)\n",
    "\n",
    "# Form the data\n",
    "pca_train = pl.DataFrame(train_data, schema=[f\"pca_{i}\" for i in range(N_COMPONENTS)])\n",
    "pca_test = pl.DataFrame(test_data, schema=[f\"pca_{i}\" for i in range(N_COMPONENTS)])\n",
    "\n",
    "# # Remove original columns from data\n",
    "# cl_train_pca = cl_train.drop(train_f.columns)\n",
    "# cl_test_pca = cl_test.drop(test_f.columns)\n",
    "\n",
    "# # Add new pca columns to data\n",
    "# cl_train_pca = cl_train_pca.with_columns(\n",
    "#   pca_train\n",
    "# )\n",
    "# cl_test_pca = cl_test_pca.with_columns(\n",
    "#   pca_test\n",
    "# )\n",
    "\n",
    "# Final data\n",
    "cl_train_pca = pca_train.with_columns(\n",
    "  target\n",
    ")\n",
    "cl_test_pca = pca_test.clone()"
   ]
  },
  {
   "cell_type": "code",
   "execution_count": 114,
   "metadata": {},
   "outputs": [
    {
     "data": {
      "text/html": [
       "<div><style>\n",
       ".dataframe > thead > tr,\n",
       ".dataframe > tbody > tr {\n",
       "  text-align: right;\n",
       "  white-space: pre-wrap;\n",
       "}\n",
       "</style>\n",
       "<small>shape: (5, 20)</small><table border=\"1\" class=\"dataframe\"><thead><tr><th>pca_0</th><th>pca_1</th><th>pca_2</th><th>pca_3</th><th>pca_4</th><th>pca_5</th><th>pca_6</th><th>pca_7</th><th>pca_8</th><th>pca_9</th><th>pca_10</th><th>pca_11</th><th>pca_12</th><th>pca_13</th><th>pca_14</th><th>pca_15</th><th>pca_16</th><th>pca_17</th><th>pca_18</th><th>pca_19</th></tr><tr><td>f64</td><td>f64</td><td>f64</td><td>f64</td><td>f64</td><td>f64</td><td>f64</td><td>f64</td><td>f64</td><td>f64</td><td>f64</td><td>f64</td><td>f64</td><td>f64</td><td>f64</td><td>f64</td><td>f64</td><td>f64</td><td>f64</td><td>f64</td></tr></thead><tbody><tr><td>-0.020317</td><td>-0.060113</td><td>-0.096405</td><td>0.022361</td><td>0.065569</td><td>0.400473</td><td>0.476095</td><td>0.253239</td><td>5.389244</td><td>-1.050787</td><td>0.717597</td><td>-0.155515</td><td>-0.137908</td><td>0.221832</td><td>0.093045</td><td>0.402399</td><td>-0.198112</td><td>0.51599</td><td>0.092602</td><td>-0.221064</td></tr><tr><td>-0.011658</td><td>-0.133649</td><td>-0.243119</td><td>0.099886</td><td>0.038323</td><td>0.908269</td><td>3.900954</td><td>-2.521522</td><td>-0.644667</td><td>1.889857</td><td>0.876766</td><td>-0.384081</td><td>0.584187</td><td>-1.363221</td><td>-0.459729</td><td>-0.112049</td><td>0.47702</td><td>-0.029423</td><td>0.178245</td><td>0.337555</td></tr><tr><td>0.047205</td><td>-0.41173</td><td>-0.57993</td><td>3.854711</td><td>-1.222662</td><td>-0.904841</td><td>-0.568245</td><td>-0.217399</td><td>-0.293321</td><td>-0.825245</td><td>-0.990588</td><td>0.7378</td><td>0.553827</td><td>-0.64416</td><td>-1.50063</td><td>0.185497</td><td>0.299629</td><td>0.001685</td><td>-0.044058</td><td>-0.375554</td></tr><tr><td>0.014197</td><td>-0.356893</td><td>-0.659278</td><td>3.776609</td><td>-1.169327</td><td>-0.82944</td><td>-0.613624</td><td>-0.228725</td><td>-0.243943</td><td>1.66834</td><td>1.611799</td><td>0.288032</td><td>0.374017</td><td>0.447868</td><td>0.075074</td><td>0.02138</td><td>0.24865</td><td>-1.342239</td><td>-0.352019</td><td>-0.296625</td></tr><tr><td>-0.473286</td><td>-1.02343</td><td>-2.239133</td><td>-2.074947</td><td>-2.28037</td><td>-0.902678</td><td>-0.589703</td><td>-0.153312</td><td>-0.202259</td><td>1.862762</td><td>-0.728404</td><td>-0.024635</td><td>-0.713072</td><td>0.565557</td><td>-1.248746</td><td>-0.78696</td><td>0.864802</td><td>0.508115</td><td>-0.734813</td><td>-0.057112</td></tr></tbody></table></div>"
      ],
      "text/plain": [
       "shape: (5, 20)\n",
       "┌───────────┬───────────┬───────────┬───────────┬───┬───────────┬───────────┬───────────┬──────────┐\n",
       "│ pca_0     ┆ pca_1     ┆ pca_2     ┆ pca_3     ┆ … ┆ pca_16    ┆ pca_17    ┆ pca_18    ┆ pca_19   │\n",
       "│ ---       ┆ ---       ┆ ---       ┆ ---       ┆   ┆ ---       ┆ ---       ┆ ---       ┆ ---      │\n",
       "│ f64       ┆ f64       ┆ f64       ┆ f64       ┆   ┆ f64       ┆ f64       ┆ f64       ┆ f64      │\n",
       "╞═══════════╪═══════════╪═══════════╪═══════════╪═══╪═══════════╪═══════════╪═══════════╪══════════╡\n",
       "│ -0.020317 ┆ -0.060113 ┆ -0.096405 ┆ 0.022361  ┆ … ┆ -0.198112 ┆ 0.51599   ┆ 0.092602  ┆ -0.22106 │\n",
       "│           ┆           ┆           ┆           ┆   ┆           ┆           ┆           ┆ 4        │\n",
       "│ -0.011658 ┆ -0.133649 ┆ -0.243119 ┆ 0.099886  ┆ … ┆ 0.47702   ┆ -0.029423 ┆ 0.178245  ┆ 0.337555 │\n",
       "│ 0.047205  ┆ -0.41173  ┆ -0.57993  ┆ 3.854711  ┆ … ┆ 0.299629  ┆ 0.001685  ┆ -0.044058 ┆ -0.37555 │\n",
       "│           ┆           ┆           ┆           ┆   ┆           ┆           ┆           ┆ 4        │\n",
       "│ 0.014197  ┆ -0.356893 ┆ -0.659278 ┆ 3.776609  ┆ … ┆ 0.24865   ┆ -1.342239 ┆ -0.352019 ┆ -0.29662 │\n",
       "│           ┆           ┆           ┆           ┆   ┆           ┆           ┆           ┆ 5        │\n",
       "│ -0.473286 ┆ -1.02343  ┆ -2.239133 ┆ -2.074947 ┆ … ┆ 0.864802  ┆ 0.508115  ┆ -0.734813 ┆ -0.05711 │\n",
       "│           ┆           ┆           ┆           ┆   ┆           ┆           ┆           ┆ 2        │\n",
       "└───────────┴───────────┴───────────┴───────────┴───┴───────────┴───────────┴───────────┴──────────┘"
      ]
     },
     "execution_count": 114,
     "metadata": {},
     "output_type": "execute_result"
    }
   ],
   "source": [
    "cl_test_pca.head()"
   ]
  },
  {
   "cell_type": "code",
   "execution_count": 121,
   "metadata": {},
   "outputs": [],
   "source": [
    "# Split data\n",
    "y = cl_train_pca['listening_time_minutes']\n",
    "X = cl_train_pca.drop('listening_time_minutes')\n",
    "X_train, X_valid, y_train, y_valid = train_test_split(X, y, test_size=0.2, random_state=SEED)"
   ]
  },
  {
   "cell_type": "code",
   "execution_count": 127,
   "metadata": {},
   "outputs": [
    {
     "name": "stdout",
     "output_type": "stream",
     "text": [
      "[0]\ttrain-rmse:24.04640\teval-rmse:24.06718\n",
      "[1]\ttrain-rmse:21.73005\teval-rmse:21.79464\n",
      "[2]\ttrain-rmse:19.95059\teval-rmse:20.06186\n",
      "[3]\ttrain-rmse:18.57235\teval-rmse:18.72894\n",
      "[4]\ttrain-rmse:17.49641\teval-rmse:17.69962\n",
      "[5]\ttrain-rmse:16.68082\teval-rmse:16.93316\n",
      "[6]\ttrain-rmse:16.07109\teval-rmse:16.36436\n",
      "[7]\ttrain-rmse:15.60212\teval-rmse:15.93674\n",
      "[8]\ttrain-rmse:15.21024\teval-rmse:15.58441\n",
      "[9]\ttrain-rmse:14.85515\teval-rmse:15.26907\n",
      "[10]\ttrain-rmse:14.60560\teval-rmse:15.05742\n",
      "[11]\ttrain-rmse:14.37719\teval-rmse:14.86229\n",
      "[12]\ttrain-rmse:14.21063\teval-rmse:14.72739\n",
      "[13]\ttrain-rmse:14.03358\teval-rmse:14.58198\n",
      "[14]\ttrain-rmse:13.90016\teval-rmse:14.47189\n",
      "[15]\ttrain-rmse:13.75966\teval-rmse:14.36334\n",
      "[16]\ttrain-rmse:13.64610\teval-rmse:14.27874\n",
      "[17]\ttrain-rmse:13.55188\teval-rmse:14.21002\n",
      "[18]\ttrain-rmse:13.45164\teval-rmse:14.12997\n",
      "[19]\ttrain-rmse:13.37366\teval-rmse:14.07798\n",
      "[20]\ttrain-rmse:13.27838\teval-rmse:14.01235\n",
      "[21]\ttrain-rmse:13.21264\teval-rmse:13.97046\n",
      "[22]\ttrain-rmse:13.15307\teval-rmse:13.93041\n",
      "[23]\ttrain-rmse:13.09696\teval-rmse:13.89802\n",
      "[24]\ttrain-rmse:13.03387\teval-rmse:13.86025\n",
      "[25]\ttrain-rmse:12.98910\teval-rmse:13.83615\n",
      "[26]\ttrain-rmse:12.93715\teval-rmse:13.81217\n",
      "[27]\ttrain-rmse:12.89937\teval-rmse:13.79487\n",
      "[28]\ttrain-rmse:12.87084\teval-rmse:13.77959\n",
      "[29]\ttrain-rmse:12.84143\teval-rmse:13.76827\n",
      "[30]\ttrain-rmse:12.81612\teval-rmse:13.75523\n",
      "[31]\ttrain-rmse:12.78729\teval-rmse:13.74809\n",
      "[32]\ttrain-rmse:12.75435\teval-rmse:13.73554\n",
      "[33]\ttrain-rmse:12.72839\teval-rmse:13.72577\n",
      "[34]\ttrain-rmse:12.70258\teval-rmse:13.71851\n",
      "[35]\ttrain-rmse:12.68082\teval-rmse:13.71242\n",
      "[36]\ttrain-rmse:12.65143\teval-rmse:13.70412\n",
      "[37]\ttrain-rmse:12.63255\teval-rmse:13.69875\n",
      "[38]\ttrain-rmse:12.61702\teval-rmse:13.69420\n",
      "[39]\ttrain-rmse:12.59911\teval-rmse:13.69062\n",
      "[40]\ttrain-rmse:12.58778\teval-rmse:13.68793\n",
      "[41]\ttrain-rmse:12.56837\teval-rmse:13.68378\n",
      "[42]\ttrain-rmse:12.55315\teval-rmse:13.67987\n",
      "[43]\ttrain-rmse:12.54119\teval-rmse:13.67664\n",
      "[44]\ttrain-rmse:12.52687\teval-rmse:13.67333\n",
      "[45]\ttrain-rmse:12.50681\teval-rmse:13.66941\n",
      "[46]\ttrain-rmse:12.49740\teval-rmse:13.66760\n",
      "[47]\ttrain-rmse:12.48821\teval-rmse:13.66562\n",
      "[48]\ttrain-rmse:12.46984\teval-rmse:13.66382\n",
      "[49]\ttrain-rmse:12.46169\teval-rmse:13.66236\n",
      "[50]\ttrain-rmse:12.44591\teval-rmse:13.65965\n",
      "[51]\ttrain-rmse:12.43512\teval-rmse:13.65698\n",
      "[52]\ttrain-rmse:12.42968\teval-rmse:13.65627\n",
      "[53]\ttrain-rmse:12.41421\teval-rmse:13.65602\n",
      "[54]\ttrain-rmse:12.40379\teval-rmse:13.65437\n",
      "[55]\ttrain-rmse:12.39474\teval-rmse:13.65346\n",
      "[56]\ttrain-rmse:12.38163\teval-rmse:13.65263\n",
      "[57]\ttrain-rmse:12.37230\teval-rmse:13.65182\n",
      "[58]\ttrain-rmse:12.36062\teval-rmse:13.65097\n",
      "[59]\ttrain-rmse:12.34696\teval-rmse:13.64910\n",
      "[60]\ttrain-rmse:12.33856\teval-rmse:13.64804\n",
      "[61]\ttrain-rmse:12.33270\teval-rmse:13.64743\n",
      "[62]\ttrain-rmse:12.32382\teval-rmse:13.64725\n",
      "[63]\ttrain-rmse:12.31398\teval-rmse:13.64679\n",
      "[64]\ttrain-rmse:12.30201\teval-rmse:13.64574\n",
      "[65]\ttrain-rmse:12.29276\teval-rmse:13.64521\n",
      "[66]\ttrain-rmse:12.28473\teval-rmse:13.64522\n",
      "[67]\ttrain-rmse:12.27715\teval-rmse:13.64460\n",
      "[68]\ttrain-rmse:12.26423\teval-rmse:13.64462\n",
      "[69]\ttrain-rmse:12.25627\teval-rmse:13.64413\n",
      "[70]\ttrain-rmse:12.24967\teval-rmse:13.64418\n",
      "[71]\ttrain-rmse:12.24116\teval-rmse:13.64433\n",
      "[72]\ttrain-rmse:12.23227\teval-rmse:13.64384\n",
      "[73]\ttrain-rmse:12.22571\teval-rmse:13.64366\n",
      "[74]\ttrain-rmse:12.21470\teval-rmse:13.64352\n",
      "[75]\ttrain-rmse:12.20475\teval-rmse:13.64266\n",
      "[76]\ttrain-rmse:12.19701\teval-rmse:13.64154\n",
      "[77]\ttrain-rmse:12.18639\teval-rmse:13.64135\n",
      "[78]\ttrain-rmse:12.18028\teval-rmse:13.64113\n",
      "[79]\ttrain-rmse:12.17166\teval-rmse:13.64156\n",
      "[80]\ttrain-rmse:12.15694\teval-rmse:13.63980\n",
      "[81]\ttrain-rmse:12.14397\teval-rmse:13.64025\n",
      "[82]\ttrain-rmse:12.13633\teval-rmse:13.64001\n",
      "[83]\ttrain-rmse:12.12733\teval-rmse:13.63987\n",
      "[84]\ttrain-rmse:12.11634\teval-rmse:13.63890\n",
      "[85]\ttrain-rmse:12.10705\teval-rmse:13.63916\n",
      "[86]\ttrain-rmse:12.09881\teval-rmse:13.63886\n",
      "[87]\ttrain-rmse:12.09177\teval-rmse:13.63875\n",
      "[88]\ttrain-rmse:12.08492\teval-rmse:13.63965\n",
      "[89]\ttrain-rmse:12.07861\teval-rmse:13.63924\n",
      "[90]\ttrain-rmse:12.06671\teval-rmse:13.63939\n",
      "[91]\ttrain-rmse:12.05520\teval-rmse:13.63953\n",
      "[92]\ttrain-rmse:12.04792\teval-rmse:13.63995\n",
      "[93]\ttrain-rmse:12.03811\teval-rmse:13.64010\n",
      "[94]\ttrain-rmse:12.02922\teval-rmse:13.63987\n",
      "[95]\ttrain-rmse:12.02057\teval-rmse:13.63929\n",
      "[96]\ttrain-rmse:12.00697\teval-rmse:13.63924\n",
      "[97]\ttrain-rmse:11.99606\teval-rmse:13.64006\n",
      "[98]\ttrain-rmse:11.98607\teval-rmse:13.63949\n",
      "[99]\ttrain-rmse:11.97447\teval-rmse:13.63957\n"
     ]
    }
   ],
   "source": [
    "NUM_ROUNDS = 100\n",
    "params = {\n",
    "  'device': 'cuda',\n",
    "  'objective': 'reg:squarederror',\n",
    "  'max_depth': 10,\n",
    "  'learning_rate': 0.2,\n",
    "  'eval_metric': 'rmse',\n",
    "}\n",
    "results = {}\n",
    "\n",
    "# Declare DMatrix data format\n",
    "dtrain = xgb.DMatrix(X_train, label=y_train)\n",
    "dvalid = xgb.DMatrix(X_valid, label=y_valid)\n",
    "\n",
    "# Define evaluation data format\n",
    "evallist = [(dtrain, 'train'), (dvalid, 'eval')]\n",
    "\n",
    "# Train model\n",
    "pca_model = xgb.train(\n",
    "  params=params,\n",
    "  dtrain=dtrain,\n",
    "  num_boost_round=NUM_ROUNDS,\n",
    "  evals=evallist,\n",
    "  evals_result=results\n",
    ")"
   ]
  },
  {
   "cell_type": "code",
   "execution_count": 131,
   "metadata": {},
   "outputs": [
    {
     "data": {
      "text/html": [
       "Tracking run with wandb version 0.19.9"
      ],
      "text/plain": [
       "<IPython.core.display.HTML object>"
      ]
     },
     "metadata": {},
     "output_type": "display_data"
    },
    {
     "data": {
      "text/html": [
       "Run data is saved locally in <code>/mnt/d/Projects/podcast-listening-time/wandb/run-20250409_213612-n55tocta</code>"
      ],
      "text/plain": [
       "<IPython.core.display.HTML object>"
      ]
     },
     "metadata": {},
     "output_type": "display_data"
    },
    {
     "data": {
      "text/html": [
       "Syncing run <strong><a href='https://wandb.ai/minimartzz/podcast-listening-time/runs/n55tocta' target=\"_blank\">frosty-brook-3</a></strong> to <a href='https://wandb.ai/minimartzz/podcast-listening-time' target=\"_blank\">Weights & Biases</a> (<a href='https://wandb.me/developer-guide' target=\"_blank\">docs</a>)<br>"
      ],
      "text/plain": [
       "<IPython.core.display.HTML object>"
      ]
     },
     "metadata": {},
     "output_type": "display_data"
    },
    {
     "data": {
      "text/html": [
       " View project at <a href='https://wandb.ai/minimartzz/podcast-listening-time' target=\"_blank\">https://wandb.ai/minimartzz/podcast-listening-time</a>"
      ],
      "text/plain": [
       "<IPython.core.display.HTML object>"
      ]
     },
     "metadata": {},
     "output_type": "display_data"
    },
    {
     "data": {
      "text/html": [
       " View run at <a href='https://wandb.ai/minimartzz/podcast-listening-time/runs/n55tocta' target=\"_blank\">https://wandb.ai/minimartzz/podcast-listening-time/runs/n55tocta</a>"
      ],
      "text/plain": [
       "<IPython.core.display.HTML object>"
      ]
     },
     "metadata": {},
     "output_type": "display_data"
    },
    {
     "data": {
      "text/html": [],
      "text/plain": [
       "<IPython.core.display.HTML object>"
      ]
     },
     "metadata": {},
     "output_type": "display_data"
    },
    {
     "data": {
      "text/html": [
       "<br>    <style><br>        .wandb-row {<br>            display: flex;<br>            flex-direction: row;<br>            flex-wrap: wrap;<br>            justify-content: flex-start;<br>            width: 100%;<br>        }<br>        .wandb-col {<br>            display: flex;<br>            flex-direction: column;<br>            flex-basis: 100%;<br>            flex: 1;<br>            padding: 10px;<br>        }<br>    </style><br><div class=\"wandb-row\"><div class=\"wandb-col\"><h3>Run history:</h3><br/><table class=\"wandb\"><tr><td>mae</td><td>▁</td></tr><tr><td>mse</td><td>▁</td></tr><tr><td>r2</td><td>▁</td></tr><tr><td>rmse</td><td>▁</td></tr></table><br/></div><div class=\"wandb-col\"><h3>Run summary:</h3><br/><table class=\"wandb\"><tr><td>mae</td><td>10.07028</td></tr><tr><td>mse</td><td>186.0379</td></tr><tr><td>r2</td><td>0.74717</td></tr><tr><td>rmse</td><td>13.63957</td></tr></table><br/></div></div>"
      ],
      "text/plain": [
       "<IPython.core.display.HTML object>"
      ]
     },
     "metadata": {},
     "output_type": "display_data"
    },
    {
     "data": {
      "text/html": [
       " View run <strong style=\"color:#cdcd00\">frosty-brook-3</strong> at: <a href='https://wandb.ai/minimartzz/podcast-listening-time/runs/n55tocta' target=\"_blank\">https://wandb.ai/minimartzz/podcast-listening-time/runs/n55tocta</a><br> View project at: <a href='https://wandb.ai/minimartzz/podcast-listening-time' target=\"_blank\">https://wandb.ai/minimartzz/podcast-listening-time</a><br>Synced 5 W&B file(s), 2 media file(s), 4 artifact file(s) and 0 other file(s)"
      ],
      "text/plain": [
       "<IPython.core.display.HTML object>"
      ]
     },
     "metadata": {},
     "output_type": "display_data"
    },
    {
     "data": {
      "text/html": [
       "Find logs at: <code>./wandb/run-20250409_213612-n55tocta/logs</code>"
      ],
      "text/plain": [
       "<IPython.core.display.HTML object>"
      ]
     },
     "metadata": {},
     "output_type": "display_data"
    }
   ],
   "source": [
    "# Get metrics to submit to wandb\n",
    "train_errors = np.array(results['train']['rmse'])\n",
    "eval_errors = np.array(results['eval']['rmse'])\n",
    "y_pred = pca_model.predict(dvalid)\n",
    "\n",
    "tags = ['pca', 'xgboost']\n",
    "notes = 'XGBoost + PCA model'\n",
    "\n",
    "wandb_track(\n",
    "  config=params,\n",
    "  y_test=y_valid,\n",
    "  y_pred=y_pred,\n",
    "  train_error=train_errors,\n",
    "  test_error=eval_errors,\n",
    "  tags=tags,\n",
    "  notes=notes\n",
    ")"
   ]
  },
  {
   "cell_type": "code",
   "execution_count": 123,
   "metadata": {},
   "outputs": [],
   "source": [
    "# Make prediction on test set\n",
    "dtest = xgb.DMatrix(cl_test_pca)\n",
    "\n",
    "preds = pca_model.predict(dtest)\n",
    "\n",
    "results = pl.DataFrame({\n",
    "  'id': test_id,\n",
    "  'Listening_Time_minutes': preds\n",
    "})"
   ]
  },
  {
   "cell_type": "code",
   "execution_count": 124,
   "metadata": {},
   "outputs": [],
   "source": [
    "results.write_csv('results/xgb_pca.csv')"
   ]
  },
  {
   "cell_type": "markdown",
   "metadata": {},
   "source": [
    "---"
   ]
  },
  {
   "cell_type": "markdown",
   "metadata": {},
   "source": [
    "# TruncatedSVD + LightGBM"
   ]
  },
  {
   "cell_type": "markdown",
   "metadata": {},
   "source": [
    "`TruncatedSVD` performs better on sparse matrices, and `LightGBM` is an alternative gradient boosting method that has similar performance to XGBoost"
   ]
  },
  {
   "cell_type": "markdown",
   "metadata": {},
   "source": [
    "target: `listening_time_minutes`"
   ]
  },
  {
   "cell_type": "code",
   "execution_count": 43,
   "metadata": {},
   "outputs": [],
   "source": [
    "from sklearn.decomposition import TruncatedSVD\n",
    "from sklearn.preprocessing import StandardScaler\n",
    "from lightgbm import LGBMRegressor, log_evaluation"
   ]
  },
  {
   "cell_type": "code",
   "execution_count": 18,
   "metadata": {},
   "outputs": [],
   "source": [
    "# Split into sparse and without sparse\n",
    "def transform_svd(train, test=None):\n",
    "  X_train_wo_oh = train.select(\n",
    "    pl.col(pl.Float64),\n",
    "    pl.col(pl.Int64)\n",
    "  )\n",
    "  X_train_oh = train.select(\n",
    "    pl.col(pl.UInt8)\n",
    "  )\n",
    "\n",
    "  # Apply standardisation\n",
    "  ss = StandardScaler()\n",
    "  ss_trans = ss.fit_transform(X_train_wo_oh)\n",
    "  X_train_wo_oh = pl.DataFrame(ss_trans, schema=X_train_wo_oh.columns)\n",
    "\n",
    "  # Optional: Join back to original data\n",
    "  X_train_lgb = pl.concat([X_train_wo_oh, X_train_oh], how='horizontal')\n",
    "\n",
    "  # Fill NaN values\n",
    "  X_train_lgb = X_train_lgb.with_columns(\n",
    "    pl.col('number_of_ads').fill_nan(0)\n",
    "  )\n",
    "\n",
    "  # Apply the Truncated SVD\n",
    "  perc_cols = 0.3\n",
    "  num_cols = int(X_train_lgb.shape[1] * perc_cols)\n",
    "\n",
    "  svd = TruncatedSVD(n_components=num_cols, random_state=SEED)\n",
    "  X_train_svd = svd.fit_transform(X_train_lgb)\n",
    "\n",
    "  if test is not None:\n",
    "    test_wo_oh = test.select(\n",
    "      pl.col(pl.Float64),\n",
    "      pl.col(pl.Int64)\n",
    "    )\n",
    "    test_oh = test.select(\n",
    "      pl.col(pl.UInt8)\n",
    "    )\n",
    "\n",
    "    test_trans = ss.transform(test_wo_oh)\n",
    "    test_wo_oh = pl.DataFrame(test_trans, schema=test_wo_oh.columns)\n",
    "\n",
    "    # Optional: Join back to original data\n",
    "    test_lgb = pl.concat([test_wo_oh, test_oh], how='horizontal')\n",
    "\n",
    "    # Fill NaN values\n",
    "    test_lgb = test_lgb.with_columns(\n",
    "      pl.col('number_of_ads').fill_nan(0)\n",
    "    )\n",
    "\n",
    "    # Apply the Truncated SVD\n",
    "    test_svd = svd.transform(test_lgb)\n",
    "\n",
    "    return X_train_svd, test_svd\n",
    "\n",
    "  return X_train_svd"
   ]
  },
  {
   "cell_type": "code",
   "execution_count": 74,
   "metadata": {},
   "outputs": [],
   "source": [
    "# Apply transformations to validation data\n",
    "cl_train_y = cl_train_samp['listening_time_minutes']\n",
    "cl_train_X = cl_train_samp.drop('listening_time_minutes')\n",
    "cl_valid_y = cl_valid_samp['listening_time_minutes']\n",
    "cl_valid_X = cl_valid_samp.drop('listening_time_minutes')\n",
    "\n",
    "# cl_train_X, cl_valid_X = transform_svd(cl_train_X, cl_valid_X)"
   ]
  },
  {
   "cell_type": "code",
   "execution_count": 63,
   "metadata": {},
   "outputs": [
    {
     "data": {
      "text/html": [
       "<style>#sk-container-id-3 {\n",
       "  /* Definition of color scheme common for light and dark mode */\n",
       "  --sklearn-color-text: #000;\n",
       "  --sklearn-color-text-muted: #666;\n",
       "  --sklearn-color-line: gray;\n",
       "  /* Definition of color scheme for unfitted estimators */\n",
       "  --sklearn-color-unfitted-level-0: #fff5e6;\n",
       "  --sklearn-color-unfitted-level-1: #f6e4d2;\n",
       "  --sklearn-color-unfitted-level-2: #ffe0b3;\n",
       "  --sklearn-color-unfitted-level-3: chocolate;\n",
       "  /* Definition of color scheme for fitted estimators */\n",
       "  --sklearn-color-fitted-level-0: #f0f8ff;\n",
       "  --sklearn-color-fitted-level-1: #d4ebff;\n",
       "  --sklearn-color-fitted-level-2: #b3dbfd;\n",
       "  --sklearn-color-fitted-level-3: cornflowerblue;\n",
       "\n",
       "  /* Specific color for light theme */\n",
       "  --sklearn-color-text-on-default-background: var(--sg-text-color, var(--theme-code-foreground, var(--jp-content-font-color1, black)));\n",
       "  --sklearn-color-background: var(--sg-background-color, var(--theme-background, var(--jp-layout-color0, white)));\n",
       "  --sklearn-color-border-box: var(--sg-text-color, var(--theme-code-foreground, var(--jp-content-font-color1, black)));\n",
       "  --sklearn-color-icon: #696969;\n",
       "\n",
       "  @media (prefers-color-scheme: dark) {\n",
       "    /* Redefinition of color scheme for dark theme */\n",
       "    --sklearn-color-text-on-default-background: var(--sg-text-color, var(--theme-code-foreground, var(--jp-content-font-color1, white)));\n",
       "    --sklearn-color-background: var(--sg-background-color, var(--theme-background, var(--jp-layout-color0, #111)));\n",
       "    --sklearn-color-border-box: var(--sg-text-color, var(--theme-code-foreground, var(--jp-content-font-color1, white)));\n",
       "    --sklearn-color-icon: #878787;\n",
       "  }\n",
       "}\n",
       "\n",
       "#sk-container-id-3 {\n",
       "  color: var(--sklearn-color-text);\n",
       "}\n",
       "\n",
       "#sk-container-id-3 pre {\n",
       "  padding: 0;\n",
       "}\n",
       "\n",
       "#sk-container-id-3 input.sk-hidden--visually {\n",
       "  border: 0;\n",
       "  clip: rect(1px 1px 1px 1px);\n",
       "  clip: rect(1px, 1px, 1px, 1px);\n",
       "  height: 1px;\n",
       "  margin: -1px;\n",
       "  overflow: hidden;\n",
       "  padding: 0;\n",
       "  position: absolute;\n",
       "  width: 1px;\n",
       "}\n",
       "\n",
       "#sk-container-id-3 div.sk-dashed-wrapped {\n",
       "  border: 1px dashed var(--sklearn-color-line);\n",
       "  margin: 0 0.4em 0.5em 0.4em;\n",
       "  box-sizing: border-box;\n",
       "  padding-bottom: 0.4em;\n",
       "  background-color: var(--sklearn-color-background);\n",
       "}\n",
       "\n",
       "#sk-container-id-3 div.sk-container {\n",
       "  /* jupyter's `normalize.less` sets `[hidden] { display: none; }`\n",
       "     but bootstrap.min.css set `[hidden] { display: none !important; }`\n",
       "     so we also need the `!important` here to be able to override the\n",
       "     default hidden behavior on the sphinx rendered scikit-learn.org.\n",
       "     See: https://github.com/scikit-learn/scikit-learn/issues/21755 */\n",
       "  display: inline-block !important;\n",
       "  position: relative;\n",
       "}\n",
       "\n",
       "#sk-container-id-3 div.sk-text-repr-fallback {\n",
       "  display: none;\n",
       "}\n",
       "\n",
       "div.sk-parallel-item,\n",
       "div.sk-serial,\n",
       "div.sk-item {\n",
       "  /* draw centered vertical line to link estimators */\n",
       "  background-image: linear-gradient(var(--sklearn-color-text-on-default-background), var(--sklearn-color-text-on-default-background));\n",
       "  background-size: 2px 100%;\n",
       "  background-repeat: no-repeat;\n",
       "  background-position: center center;\n",
       "}\n",
       "\n",
       "/* Parallel-specific style estimator block */\n",
       "\n",
       "#sk-container-id-3 div.sk-parallel-item::after {\n",
       "  content: \"\";\n",
       "  width: 100%;\n",
       "  border-bottom: 2px solid var(--sklearn-color-text-on-default-background);\n",
       "  flex-grow: 1;\n",
       "}\n",
       "\n",
       "#sk-container-id-3 div.sk-parallel {\n",
       "  display: flex;\n",
       "  align-items: stretch;\n",
       "  justify-content: center;\n",
       "  background-color: var(--sklearn-color-background);\n",
       "  position: relative;\n",
       "}\n",
       "\n",
       "#sk-container-id-3 div.sk-parallel-item {\n",
       "  display: flex;\n",
       "  flex-direction: column;\n",
       "}\n",
       "\n",
       "#sk-container-id-3 div.sk-parallel-item:first-child::after {\n",
       "  align-self: flex-end;\n",
       "  width: 50%;\n",
       "}\n",
       "\n",
       "#sk-container-id-3 div.sk-parallel-item:last-child::after {\n",
       "  align-self: flex-start;\n",
       "  width: 50%;\n",
       "}\n",
       "\n",
       "#sk-container-id-3 div.sk-parallel-item:only-child::after {\n",
       "  width: 0;\n",
       "}\n",
       "\n",
       "/* Serial-specific style estimator block */\n",
       "\n",
       "#sk-container-id-3 div.sk-serial {\n",
       "  display: flex;\n",
       "  flex-direction: column;\n",
       "  align-items: center;\n",
       "  background-color: var(--sklearn-color-background);\n",
       "  padding-right: 1em;\n",
       "  padding-left: 1em;\n",
       "}\n",
       "\n",
       "\n",
       "/* Toggleable style: style used for estimator/Pipeline/ColumnTransformer box that is\n",
       "clickable and can be expanded/collapsed.\n",
       "- Pipeline and ColumnTransformer use this feature and define the default style\n",
       "- Estimators will overwrite some part of the style using the `sk-estimator` class\n",
       "*/\n",
       "\n",
       "/* Pipeline and ColumnTransformer style (default) */\n",
       "\n",
       "#sk-container-id-3 div.sk-toggleable {\n",
       "  /* Default theme specific background. It is overwritten whether we have a\n",
       "  specific estimator or a Pipeline/ColumnTransformer */\n",
       "  background-color: var(--sklearn-color-background);\n",
       "}\n",
       "\n",
       "/* Toggleable label */\n",
       "#sk-container-id-3 label.sk-toggleable__label {\n",
       "  cursor: pointer;\n",
       "  display: flex;\n",
       "  width: 100%;\n",
       "  margin-bottom: 0;\n",
       "  padding: 0.5em;\n",
       "  box-sizing: border-box;\n",
       "  text-align: center;\n",
       "  align-items: start;\n",
       "  justify-content: space-between;\n",
       "  gap: 0.5em;\n",
       "}\n",
       "\n",
       "#sk-container-id-3 label.sk-toggleable__label .caption {\n",
       "  font-size: 0.6rem;\n",
       "  font-weight: lighter;\n",
       "  color: var(--sklearn-color-text-muted);\n",
       "}\n",
       "\n",
       "#sk-container-id-3 label.sk-toggleable__label-arrow:before {\n",
       "  /* Arrow on the left of the label */\n",
       "  content: \"▸\";\n",
       "  float: left;\n",
       "  margin-right: 0.25em;\n",
       "  color: var(--sklearn-color-icon);\n",
       "}\n",
       "\n",
       "#sk-container-id-3 label.sk-toggleable__label-arrow:hover:before {\n",
       "  color: var(--sklearn-color-text);\n",
       "}\n",
       "\n",
       "/* Toggleable content - dropdown */\n",
       "\n",
       "#sk-container-id-3 div.sk-toggleable__content {\n",
       "  max-height: 0;\n",
       "  max-width: 0;\n",
       "  overflow: hidden;\n",
       "  text-align: left;\n",
       "  /* unfitted */\n",
       "  background-color: var(--sklearn-color-unfitted-level-0);\n",
       "}\n",
       "\n",
       "#sk-container-id-3 div.sk-toggleable__content.fitted {\n",
       "  /* fitted */\n",
       "  background-color: var(--sklearn-color-fitted-level-0);\n",
       "}\n",
       "\n",
       "#sk-container-id-3 div.sk-toggleable__content pre {\n",
       "  margin: 0.2em;\n",
       "  border-radius: 0.25em;\n",
       "  color: var(--sklearn-color-text);\n",
       "  /* unfitted */\n",
       "  background-color: var(--sklearn-color-unfitted-level-0);\n",
       "}\n",
       "\n",
       "#sk-container-id-3 div.sk-toggleable__content.fitted pre {\n",
       "  /* unfitted */\n",
       "  background-color: var(--sklearn-color-fitted-level-0);\n",
       "}\n",
       "\n",
       "#sk-container-id-3 input.sk-toggleable__control:checked~div.sk-toggleable__content {\n",
       "  /* Expand drop-down */\n",
       "  max-height: 200px;\n",
       "  max-width: 100%;\n",
       "  overflow: auto;\n",
       "}\n",
       "\n",
       "#sk-container-id-3 input.sk-toggleable__control:checked~label.sk-toggleable__label-arrow:before {\n",
       "  content: \"▾\";\n",
       "}\n",
       "\n",
       "/* Pipeline/ColumnTransformer-specific style */\n",
       "\n",
       "#sk-container-id-3 div.sk-label input.sk-toggleable__control:checked~label.sk-toggleable__label {\n",
       "  color: var(--sklearn-color-text);\n",
       "  background-color: var(--sklearn-color-unfitted-level-2);\n",
       "}\n",
       "\n",
       "#sk-container-id-3 div.sk-label.fitted input.sk-toggleable__control:checked~label.sk-toggleable__label {\n",
       "  background-color: var(--sklearn-color-fitted-level-2);\n",
       "}\n",
       "\n",
       "/* Estimator-specific style */\n",
       "\n",
       "/* Colorize estimator box */\n",
       "#sk-container-id-3 div.sk-estimator input.sk-toggleable__control:checked~label.sk-toggleable__label {\n",
       "  /* unfitted */\n",
       "  background-color: var(--sklearn-color-unfitted-level-2);\n",
       "}\n",
       "\n",
       "#sk-container-id-3 div.sk-estimator.fitted input.sk-toggleable__control:checked~label.sk-toggleable__label {\n",
       "  /* fitted */\n",
       "  background-color: var(--sklearn-color-fitted-level-2);\n",
       "}\n",
       "\n",
       "#sk-container-id-3 div.sk-label label.sk-toggleable__label,\n",
       "#sk-container-id-3 div.sk-label label {\n",
       "  /* The background is the default theme color */\n",
       "  color: var(--sklearn-color-text-on-default-background);\n",
       "}\n",
       "\n",
       "/* On hover, darken the color of the background */\n",
       "#sk-container-id-3 div.sk-label:hover label.sk-toggleable__label {\n",
       "  color: var(--sklearn-color-text);\n",
       "  background-color: var(--sklearn-color-unfitted-level-2);\n",
       "}\n",
       "\n",
       "/* Label box, darken color on hover, fitted */\n",
       "#sk-container-id-3 div.sk-label.fitted:hover label.sk-toggleable__label.fitted {\n",
       "  color: var(--sklearn-color-text);\n",
       "  background-color: var(--sklearn-color-fitted-level-2);\n",
       "}\n",
       "\n",
       "/* Estimator label */\n",
       "\n",
       "#sk-container-id-3 div.sk-label label {\n",
       "  font-family: monospace;\n",
       "  font-weight: bold;\n",
       "  display: inline-block;\n",
       "  line-height: 1.2em;\n",
       "}\n",
       "\n",
       "#sk-container-id-3 div.sk-label-container {\n",
       "  text-align: center;\n",
       "}\n",
       "\n",
       "/* Estimator-specific */\n",
       "#sk-container-id-3 div.sk-estimator {\n",
       "  font-family: monospace;\n",
       "  border: 1px dotted var(--sklearn-color-border-box);\n",
       "  border-radius: 0.25em;\n",
       "  box-sizing: border-box;\n",
       "  margin-bottom: 0.5em;\n",
       "  /* unfitted */\n",
       "  background-color: var(--sklearn-color-unfitted-level-0);\n",
       "}\n",
       "\n",
       "#sk-container-id-3 div.sk-estimator.fitted {\n",
       "  /* fitted */\n",
       "  background-color: var(--sklearn-color-fitted-level-0);\n",
       "}\n",
       "\n",
       "/* on hover */\n",
       "#sk-container-id-3 div.sk-estimator:hover {\n",
       "  /* unfitted */\n",
       "  background-color: var(--sklearn-color-unfitted-level-2);\n",
       "}\n",
       "\n",
       "#sk-container-id-3 div.sk-estimator.fitted:hover {\n",
       "  /* fitted */\n",
       "  background-color: var(--sklearn-color-fitted-level-2);\n",
       "}\n",
       "\n",
       "/* Specification for estimator info (e.g. \"i\" and \"?\") */\n",
       "\n",
       "/* Common style for \"i\" and \"?\" */\n",
       "\n",
       ".sk-estimator-doc-link,\n",
       "a:link.sk-estimator-doc-link,\n",
       "a:visited.sk-estimator-doc-link {\n",
       "  float: right;\n",
       "  font-size: smaller;\n",
       "  line-height: 1em;\n",
       "  font-family: monospace;\n",
       "  background-color: var(--sklearn-color-background);\n",
       "  border-radius: 1em;\n",
       "  height: 1em;\n",
       "  width: 1em;\n",
       "  text-decoration: none !important;\n",
       "  margin-left: 0.5em;\n",
       "  text-align: center;\n",
       "  /* unfitted */\n",
       "  border: var(--sklearn-color-unfitted-level-1) 1pt solid;\n",
       "  color: var(--sklearn-color-unfitted-level-1);\n",
       "}\n",
       "\n",
       ".sk-estimator-doc-link.fitted,\n",
       "a:link.sk-estimator-doc-link.fitted,\n",
       "a:visited.sk-estimator-doc-link.fitted {\n",
       "  /* fitted */\n",
       "  border: var(--sklearn-color-fitted-level-1) 1pt solid;\n",
       "  color: var(--sklearn-color-fitted-level-1);\n",
       "}\n",
       "\n",
       "/* On hover */\n",
       "div.sk-estimator:hover .sk-estimator-doc-link:hover,\n",
       ".sk-estimator-doc-link:hover,\n",
       "div.sk-label-container:hover .sk-estimator-doc-link:hover,\n",
       ".sk-estimator-doc-link:hover {\n",
       "  /* unfitted */\n",
       "  background-color: var(--sklearn-color-unfitted-level-3);\n",
       "  color: var(--sklearn-color-background);\n",
       "  text-decoration: none;\n",
       "}\n",
       "\n",
       "div.sk-estimator.fitted:hover .sk-estimator-doc-link.fitted:hover,\n",
       ".sk-estimator-doc-link.fitted:hover,\n",
       "div.sk-label-container:hover .sk-estimator-doc-link.fitted:hover,\n",
       ".sk-estimator-doc-link.fitted:hover {\n",
       "  /* fitted */\n",
       "  background-color: var(--sklearn-color-fitted-level-3);\n",
       "  color: var(--sklearn-color-background);\n",
       "  text-decoration: none;\n",
       "}\n",
       "\n",
       "/* Span, style for the box shown on hovering the info icon */\n",
       ".sk-estimator-doc-link span {\n",
       "  display: none;\n",
       "  z-index: 9999;\n",
       "  position: relative;\n",
       "  font-weight: normal;\n",
       "  right: .2ex;\n",
       "  padding: .5ex;\n",
       "  margin: .5ex;\n",
       "  width: min-content;\n",
       "  min-width: 20ex;\n",
       "  max-width: 50ex;\n",
       "  color: var(--sklearn-color-text);\n",
       "  box-shadow: 2pt 2pt 4pt #999;\n",
       "  /* unfitted */\n",
       "  background: var(--sklearn-color-unfitted-level-0);\n",
       "  border: .5pt solid var(--sklearn-color-unfitted-level-3);\n",
       "}\n",
       "\n",
       ".sk-estimator-doc-link.fitted span {\n",
       "  /* fitted */\n",
       "  background: var(--sklearn-color-fitted-level-0);\n",
       "  border: var(--sklearn-color-fitted-level-3);\n",
       "}\n",
       "\n",
       ".sk-estimator-doc-link:hover span {\n",
       "  display: block;\n",
       "}\n",
       "\n",
       "/* \"?\"-specific style due to the `<a>` HTML tag */\n",
       "\n",
       "#sk-container-id-3 a.estimator_doc_link {\n",
       "  float: right;\n",
       "  font-size: 1rem;\n",
       "  line-height: 1em;\n",
       "  font-family: monospace;\n",
       "  background-color: var(--sklearn-color-background);\n",
       "  border-radius: 1rem;\n",
       "  height: 1rem;\n",
       "  width: 1rem;\n",
       "  text-decoration: none;\n",
       "  /* unfitted */\n",
       "  color: var(--sklearn-color-unfitted-level-1);\n",
       "  border: var(--sklearn-color-unfitted-level-1) 1pt solid;\n",
       "}\n",
       "\n",
       "#sk-container-id-3 a.estimator_doc_link.fitted {\n",
       "  /* fitted */\n",
       "  border: var(--sklearn-color-fitted-level-1) 1pt solid;\n",
       "  color: var(--sklearn-color-fitted-level-1);\n",
       "}\n",
       "\n",
       "/* On hover */\n",
       "#sk-container-id-3 a.estimator_doc_link:hover {\n",
       "  /* unfitted */\n",
       "  background-color: var(--sklearn-color-unfitted-level-3);\n",
       "  color: var(--sklearn-color-background);\n",
       "  text-decoration: none;\n",
       "}\n",
       "\n",
       "#sk-container-id-3 a.estimator_doc_link.fitted:hover {\n",
       "  /* fitted */\n",
       "  background-color: var(--sklearn-color-fitted-level-3);\n",
       "}\n",
       "</style><div id=\"sk-container-id-3\" class=\"sk-top-container\"><div class=\"sk-text-repr-fallback\"><pre>LGBMRegressor(colsample_bytree=0.7, learning_rate=0.03, max_bin=1024,\n",
       "              metric=&#x27;rmse&#x27;, n_iter=1000, num_leaves=1024, objective=&#x27;l2&#x27;,\n",
       "              verbosity=-1)</pre><b>In a Jupyter environment, please rerun this cell to show the HTML representation or trust the notebook. <br />On GitHub, the HTML representation is unable to render, please try loading this page with nbviewer.org.</b></div><div class=\"sk-container\" hidden><div class=\"sk-item\"><div class=\"sk-estimator fitted sk-toggleable\"><input class=\"sk-toggleable__control sk-hidden--visually\" id=\"sk-estimator-id-3\" type=\"checkbox\" checked><label for=\"sk-estimator-id-3\" class=\"sk-toggleable__label fitted sk-toggleable__label-arrow\"><div><div>LGBMRegressor</div></div><div><span class=\"sk-estimator-doc-link fitted\">i<span>Fitted</span></span></div></label><div class=\"sk-toggleable__content fitted\"><pre>LGBMRegressor(colsample_bytree=0.7, learning_rate=0.03, max_bin=1024,\n",
       "              metric=&#x27;rmse&#x27;, n_iter=1000, num_leaves=1024, objective=&#x27;l2&#x27;,\n",
       "              verbosity=-1)</pre></div> </div></div></div></div>"
      ],
      "text/plain": [
       "LGBMRegressor(colsample_bytree=0.7, learning_rate=0.03, max_bin=1024,\n",
       "              metric='rmse', n_iter=1000, num_leaves=1024, objective='l2',\n",
       "              verbosity=-1)"
      ]
     },
     "execution_count": 63,
     "metadata": {},
     "output_type": "execute_result"
    }
   ],
   "source": [
    "# Train LGBM\n",
    "params = {\n",
    "  'n_iter': 1000, \n",
    "  'max_depth': -1,\n",
    "  'num_leaves': 1024,\n",
    "  'colsample_bytree': 0.7,\n",
    "  'learning_rate': 0.03,\n",
    "  'objective': 'l2',\n",
    "  'metric': 'rmse',\n",
    "  'verbosity': -1,\n",
    "  'max_bin': 1024\n",
    "}\n",
    "\n",
    "lgbm = LGBMRegressor(**params)\n",
    "lgbm.fit(\n",
    "  cl_train_X, cl_train_y,\n",
    "  # eval_set=list(zip(cl_valid_X, cl_valid_y.to_numpy())),\n",
    "  callbacks=[log_evaluation(100)]\n",
    ")"
   ]
  },
  {
   "cell_type": "code",
   "execution_count": 67,
   "metadata": {},
   "outputs": [
    {
     "name": "stderr",
     "output_type": "stream",
     "text": [
      "/mnt/d/Software/venv/py310_ubun/lib/python3.10/site-packages/sklearn/utils/validation.py:2739: UserWarning: X does not have valid feature names, but LGBMRegressor was fitted with feature names\n",
      "  warnings.warn(\n"
     ]
    },
    {
     "name": "stdout",
     "output_type": "stream",
     "text": [
      "The R2 Score: 0.7588059799264902\n",
      "The RMSE: 13.270010551342624\n"
     ]
    }
   ],
   "source": [
    "# Make predictions\n",
    "y_pred = lgbm.predict(cl_valid_X)\n",
    "\n",
    "# Scoring\n",
    "print(f\"The R2 Score: {r2_score(cl_valid_y, y_pred)}\")\n",
    "print(f\"The RMSE: {root_mean_squared_error(cl_valid_y, y_pred)}\")"
   ]
  },
  {
   "cell_type": "markdown",
   "metadata": {},
   "source": [
    "Retrain on full data"
   ]
  },
  {
   "cell_type": "code",
   "execution_count": 78,
   "metadata": {},
   "outputs": [],
   "source": [
    "train_y = cl_train['listening_time_minutes']\n",
    "train_X = cl_train.drop('listening_time_minutes')\n",
    "\n",
    "train_X, test = transform_svd(train_X, cl_test)"
   ]
  },
  {
   "cell_type": "code",
   "execution_count": 81,
   "metadata": {},
   "outputs": [
    {
     "data": {
      "text/html": [
       "<style>#sk-container-id-4 {\n",
       "  /* Definition of color scheme common for light and dark mode */\n",
       "  --sklearn-color-text: #000;\n",
       "  --sklearn-color-text-muted: #666;\n",
       "  --sklearn-color-line: gray;\n",
       "  /* Definition of color scheme for unfitted estimators */\n",
       "  --sklearn-color-unfitted-level-0: #fff5e6;\n",
       "  --sklearn-color-unfitted-level-1: #f6e4d2;\n",
       "  --sklearn-color-unfitted-level-2: #ffe0b3;\n",
       "  --sklearn-color-unfitted-level-3: chocolate;\n",
       "  /* Definition of color scheme for fitted estimators */\n",
       "  --sklearn-color-fitted-level-0: #f0f8ff;\n",
       "  --sklearn-color-fitted-level-1: #d4ebff;\n",
       "  --sklearn-color-fitted-level-2: #b3dbfd;\n",
       "  --sklearn-color-fitted-level-3: cornflowerblue;\n",
       "\n",
       "  /* Specific color for light theme */\n",
       "  --sklearn-color-text-on-default-background: var(--sg-text-color, var(--theme-code-foreground, var(--jp-content-font-color1, black)));\n",
       "  --sklearn-color-background: var(--sg-background-color, var(--theme-background, var(--jp-layout-color0, white)));\n",
       "  --sklearn-color-border-box: var(--sg-text-color, var(--theme-code-foreground, var(--jp-content-font-color1, black)));\n",
       "  --sklearn-color-icon: #696969;\n",
       "\n",
       "  @media (prefers-color-scheme: dark) {\n",
       "    /* Redefinition of color scheme for dark theme */\n",
       "    --sklearn-color-text-on-default-background: var(--sg-text-color, var(--theme-code-foreground, var(--jp-content-font-color1, white)));\n",
       "    --sklearn-color-background: var(--sg-background-color, var(--theme-background, var(--jp-layout-color0, #111)));\n",
       "    --sklearn-color-border-box: var(--sg-text-color, var(--theme-code-foreground, var(--jp-content-font-color1, white)));\n",
       "    --sklearn-color-icon: #878787;\n",
       "  }\n",
       "}\n",
       "\n",
       "#sk-container-id-4 {\n",
       "  color: var(--sklearn-color-text);\n",
       "}\n",
       "\n",
       "#sk-container-id-4 pre {\n",
       "  padding: 0;\n",
       "}\n",
       "\n",
       "#sk-container-id-4 input.sk-hidden--visually {\n",
       "  border: 0;\n",
       "  clip: rect(1px 1px 1px 1px);\n",
       "  clip: rect(1px, 1px, 1px, 1px);\n",
       "  height: 1px;\n",
       "  margin: -1px;\n",
       "  overflow: hidden;\n",
       "  padding: 0;\n",
       "  position: absolute;\n",
       "  width: 1px;\n",
       "}\n",
       "\n",
       "#sk-container-id-4 div.sk-dashed-wrapped {\n",
       "  border: 1px dashed var(--sklearn-color-line);\n",
       "  margin: 0 0.4em 0.5em 0.4em;\n",
       "  box-sizing: border-box;\n",
       "  padding-bottom: 0.4em;\n",
       "  background-color: var(--sklearn-color-background);\n",
       "}\n",
       "\n",
       "#sk-container-id-4 div.sk-container {\n",
       "  /* jupyter's `normalize.less` sets `[hidden] { display: none; }`\n",
       "     but bootstrap.min.css set `[hidden] { display: none !important; }`\n",
       "     so we also need the `!important` here to be able to override the\n",
       "     default hidden behavior on the sphinx rendered scikit-learn.org.\n",
       "     See: https://github.com/scikit-learn/scikit-learn/issues/21755 */\n",
       "  display: inline-block !important;\n",
       "  position: relative;\n",
       "}\n",
       "\n",
       "#sk-container-id-4 div.sk-text-repr-fallback {\n",
       "  display: none;\n",
       "}\n",
       "\n",
       "div.sk-parallel-item,\n",
       "div.sk-serial,\n",
       "div.sk-item {\n",
       "  /* draw centered vertical line to link estimators */\n",
       "  background-image: linear-gradient(var(--sklearn-color-text-on-default-background), var(--sklearn-color-text-on-default-background));\n",
       "  background-size: 2px 100%;\n",
       "  background-repeat: no-repeat;\n",
       "  background-position: center center;\n",
       "}\n",
       "\n",
       "/* Parallel-specific style estimator block */\n",
       "\n",
       "#sk-container-id-4 div.sk-parallel-item::after {\n",
       "  content: \"\";\n",
       "  width: 100%;\n",
       "  border-bottom: 2px solid var(--sklearn-color-text-on-default-background);\n",
       "  flex-grow: 1;\n",
       "}\n",
       "\n",
       "#sk-container-id-4 div.sk-parallel {\n",
       "  display: flex;\n",
       "  align-items: stretch;\n",
       "  justify-content: center;\n",
       "  background-color: var(--sklearn-color-background);\n",
       "  position: relative;\n",
       "}\n",
       "\n",
       "#sk-container-id-4 div.sk-parallel-item {\n",
       "  display: flex;\n",
       "  flex-direction: column;\n",
       "}\n",
       "\n",
       "#sk-container-id-4 div.sk-parallel-item:first-child::after {\n",
       "  align-self: flex-end;\n",
       "  width: 50%;\n",
       "}\n",
       "\n",
       "#sk-container-id-4 div.sk-parallel-item:last-child::after {\n",
       "  align-self: flex-start;\n",
       "  width: 50%;\n",
       "}\n",
       "\n",
       "#sk-container-id-4 div.sk-parallel-item:only-child::after {\n",
       "  width: 0;\n",
       "}\n",
       "\n",
       "/* Serial-specific style estimator block */\n",
       "\n",
       "#sk-container-id-4 div.sk-serial {\n",
       "  display: flex;\n",
       "  flex-direction: column;\n",
       "  align-items: center;\n",
       "  background-color: var(--sklearn-color-background);\n",
       "  padding-right: 1em;\n",
       "  padding-left: 1em;\n",
       "}\n",
       "\n",
       "\n",
       "/* Toggleable style: style used for estimator/Pipeline/ColumnTransformer box that is\n",
       "clickable and can be expanded/collapsed.\n",
       "- Pipeline and ColumnTransformer use this feature and define the default style\n",
       "- Estimators will overwrite some part of the style using the `sk-estimator` class\n",
       "*/\n",
       "\n",
       "/* Pipeline and ColumnTransformer style (default) */\n",
       "\n",
       "#sk-container-id-4 div.sk-toggleable {\n",
       "  /* Default theme specific background. It is overwritten whether we have a\n",
       "  specific estimator or a Pipeline/ColumnTransformer */\n",
       "  background-color: var(--sklearn-color-background);\n",
       "}\n",
       "\n",
       "/* Toggleable label */\n",
       "#sk-container-id-4 label.sk-toggleable__label {\n",
       "  cursor: pointer;\n",
       "  display: flex;\n",
       "  width: 100%;\n",
       "  margin-bottom: 0;\n",
       "  padding: 0.5em;\n",
       "  box-sizing: border-box;\n",
       "  text-align: center;\n",
       "  align-items: start;\n",
       "  justify-content: space-between;\n",
       "  gap: 0.5em;\n",
       "}\n",
       "\n",
       "#sk-container-id-4 label.sk-toggleable__label .caption {\n",
       "  font-size: 0.6rem;\n",
       "  font-weight: lighter;\n",
       "  color: var(--sklearn-color-text-muted);\n",
       "}\n",
       "\n",
       "#sk-container-id-4 label.sk-toggleable__label-arrow:before {\n",
       "  /* Arrow on the left of the label */\n",
       "  content: \"▸\";\n",
       "  float: left;\n",
       "  margin-right: 0.25em;\n",
       "  color: var(--sklearn-color-icon);\n",
       "}\n",
       "\n",
       "#sk-container-id-4 label.sk-toggleable__label-arrow:hover:before {\n",
       "  color: var(--sklearn-color-text);\n",
       "}\n",
       "\n",
       "/* Toggleable content - dropdown */\n",
       "\n",
       "#sk-container-id-4 div.sk-toggleable__content {\n",
       "  max-height: 0;\n",
       "  max-width: 0;\n",
       "  overflow: hidden;\n",
       "  text-align: left;\n",
       "  /* unfitted */\n",
       "  background-color: var(--sklearn-color-unfitted-level-0);\n",
       "}\n",
       "\n",
       "#sk-container-id-4 div.sk-toggleable__content.fitted {\n",
       "  /* fitted */\n",
       "  background-color: var(--sklearn-color-fitted-level-0);\n",
       "}\n",
       "\n",
       "#sk-container-id-4 div.sk-toggleable__content pre {\n",
       "  margin: 0.2em;\n",
       "  border-radius: 0.25em;\n",
       "  color: var(--sklearn-color-text);\n",
       "  /* unfitted */\n",
       "  background-color: var(--sklearn-color-unfitted-level-0);\n",
       "}\n",
       "\n",
       "#sk-container-id-4 div.sk-toggleable__content.fitted pre {\n",
       "  /* unfitted */\n",
       "  background-color: var(--sklearn-color-fitted-level-0);\n",
       "}\n",
       "\n",
       "#sk-container-id-4 input.sk-toggleable__control:checked~div.sk-toggleable__content {\n",
       "  /* Expand drop-down */\n",
       "  max-height: 200px;\n",
       "  max-width: 100%;\n",
       "  overflow: auto;\n",
       "}\n",
       "\n",
       "#sk-container-id-4 input.sk-toggleable__control:checked~label.sk-toggleable__label-arrow:before {\n",
       "  content: \"▾\";\n",
       "}\n",
       "\n",
       "/* Pipeline/ColumnTransformer-specific style */\n",
       "\n",
       "#sk-container-id-4 div.sk-label input.sk-toggleable__control:checked~label.sk-toggleable__label {\n",
       "  color: var(--sklearn-color-text);\n",
       "  background-color: var(--sklearn-color-unfitted-level-2);\n",
       "}\n",
       "\n",
       "#sk-container-id-4 div.sk-label.fitted input.sk-toggleable__control:checked~label.sk-toggleable__label {\n",
       "  background-color: var(--sklearn-color-fitted-level-2);\n",
       "}\n",
       "\n",
       "/* Estimator-specific style */\n",
       "\n",
       "/* Colorize estimator box */\n",
       "#sk-container-id-4 div.sk-estimator input.sk-toggleable__control:checked~label.sk-toggleable__label {\n",
       "  /* unfitted */\n",
       "  background-color: var(--sklearn-color-unfitted-level-2);\n",
       "}\n",
       "\n",
       "#sk-container-id-4 div.sk-estimator.fitted input.sk-toggleable__control:checked~label.sk-toggleable__label {\n",
       "  /* fitted */\n",
       "  background-color: var(--sklearn-color-fitted-level-2);\n",
       "}\n",
       "\n",
       "#sk-container-id-4 div.sk-label label.sk-toggleable__label,\n",
       "#sk-container-id-4 div.sk-label label {\n",
       "  /* The background is the default theme color */\n",
       "  color: var(--sklearn-color-text-on-default-background);\n",
       "}\n",
       "\n",
       "/* On hover, darken the color of the background */\n",
       "#sk-container-id-4 div.sk-label:hover label.sk-toggleable__label {\n",
       "  color: var(--sklearn-color-text);\n",
       "  background-color: var(--sklearn-color-unfitted-level-2);\n",
       "}\n",
       "\n",
       "/* Label box, darken color on hover, fitted */\n",
       "#sk-container-id-4 div.sk-label.fitted:hover label.sk-toggleable__label.fitted {\n",
       "  color: var(--sklearn-color-text);\n",
       "  background-color: var(--sklearn-color-fitted-level-2);\n",
       "}\n",
       "\n",
       "/* Estimator label */\n",
       "\n",
       "#sk-container-id-4 div.sk-label label {\n",
       "  font-family: monospace;\n",
       "  font-weight: bold;\n",
       "  display: inline-block;\n",
       "  line-height: 1.2em;\n",
       "}\n",
       "\n",
       "#sk-container-id-4 div.sk-label-container {\n",
       "  text-align: center;\n",
       "}\n",
       "\n",
       "/* Estimator-specific */\n",
       "#sk-container-id-4 div.sk-estimator {\n",
       "  font-family: monospace;\n",
       "  border: 1px dotted var(--sklearn-color-border-box);\n",
       "  border-radius: 0.25em;\n",
       "  box-sizing: border-box;\n",
       "  margin-bottom: 0.5em;\n",
       "  /* unfitted */\n",
       "  background-color: var(--sklearn-color-unfitted-level-0);\n",
       "}\n",
       "\n",
       "#sk-container-id-4 div.sk-estimator.fitted {\n",
       "  /* fitted */\n",
       "  background-color: var(--sklearn-color-fitted-level-0);\n",
       "}\n",
       "\n",
       "/* on hover */\n",
       "#sk-container-id-4 div.sk-estimator:hover {\n",
       "  /* unfitted */\n",
       "  background-color: var(--sklearn-color-unfitted-level-2);\n",
       "}\n",
       "\n",
       "#sk-container-id-4 div.sk-estimator.fitted:hover {\n",
       "  /* fitted */\n",
       "  background-color: var(--sklearn-color-fitted-level-2);\n",
       "}\n",
       "\n",
       "/* Specification for estimator info (e.g. \"i\" and \"?\") */\n",
       "\n",
       "/* Common style for \"i\" and \"?\" */\n",
       "\n",
       ".sk-estimator-doc-link,\n",
       "a:link.sk-estimator-doc-link,\n",
       "a:visited.sk-estimator-doc-link {\n",
       "  float: right;\n",
       "  font-size: smaller;\n",
       "  line-height: 1em;\n",
       "  font-family: monospace;\n",
       "  background-color: var(--sklearn-color-background);\n",
       "  border-radius: 1em;\n",
       "  height: 1em;\n",
       "  width: 1em;\n",
       "  text-decoration: none !important;\n",
       "  margin-left: 0.5em;\n",
       "  text-align: center;\n",
       "  /* unfitted */\n",
       "  border: var(--sklearn-color-unfitted-level-1) 1pt solid;\n",
       "  color: var(--sklearn-color-unfitted-level-1);\n",
       "}\n",
       "\n",
       ".sk-estimator-doc-link.fitted,\n",
       "a:link.sk-estimator-doc-link.fitted,\n",
       "a:visited.sk-estimator-doc-link.fitted {\n",
       "  /* fitted */\n",
       "  border: var(--sklearn-color-fitted-level-1) 1pt solid;\n",
       "  color: var(--sklearn-color-fitted-level-1);\n",
       "}\n",
       "\n",
       "/* On hover */\n",
       "div.sk-estimator:hover .sk-estimator-doc-link:hover,\n",
       ".sk-estimator-doc-link:hover,\n",
       "div.sk-label-container:hover .sk-estimator-doc-link:hover,\n",
       ".sk-estimator-doc-link:hover {\n",
       "  /* unfitted */\n",
       "  background-color: var(--sklearn-color-unfitted-level-3);\n",
       "  color: var(--sklearn-color-background);\n",
       "  text-decoration: none;\n",
       "}\n",
       "\n",
       "div.sk-estimator.fitted:hover .sk-estimator-doc-link.fitted:hover,\n",
       ".sk-estimator-doc-link.fitted:hover,\n",
       "div.sk-label-container:hover .sk-estimator-doc-link.fitted:hover,\n",
       ".sk-estimator-doc-link.fitted:hover {\n",
       "  /* fitted */\n",
       "  background-color: var(--sklearn-color-fitted-level-3);\n",
       "  color: var(--sklearn-color-background);\n",
       "  text-decoration: none;\n",
       "}\n",
       "\n",
       "/* Span, style for the box shown on hovering the info icon */\n",
       ".sk-estimator-doc-link span {\n",
       "  display: none;\n",
       "  z-index: 9999;\n",
       "  position: relative;\n",
       "  font-weight: normal;\n",
       "  right: .2ex;\n",
       "  padding: .5ex;\n",
       "  margin: .5ex;\n",
       "  width: min-content;\n",
       "  min-width: 20ex;\n",
       "  max-width: 50ex;\n",
       "  color: var(--sklearn-color-text);\n",
       "  box-shadow: 2pt 2pt 4pt #999;\n",
       "  /* unfitted */\n",
       "  background: var(--sklearn-color-unfitted-level-0);\n",
       "  border: .5pt solid var(--sklearn-color-unfitted-level-3);\n",
       "}\n",
       "\n",
       ".sk-estimator-doc-link.fitted span {\n",
       "  /* fitted */\n",
       "  background: var(--sklearn-color-fitted-level-0);\n",
       "  border: var(--sklearn-color-fitted-level-3);\n",
       "}\n",
       "\n",
       ".sk-estimator-doc-link:hover span {\n",
       "  display: block;\n",
       "}\n",
       "\n",
       "/* \"?\"-specific style due to the `<a>` HTML tag */\n",
       "\n",
       "#sk-container-id-4 a.estimator_doc_link {\n",
       "  float: right;\n",
       "  font-size: 1rem;\n",
       "  line-height: 1em;\n",
       "  font-family: monospace;\n",
       "  background-color: var(--sklearn-color-background);\n",
       "  border-radius: 1rem;\n",
       "  height: 1rem;\n",
       "  width: 1rem;\n",
       "  text-decoration: none;\n",
       "  /* unfitted */\n",
       "  color: var(--sklearn-color-unfitted-level-1);\n",
       "  border: var(--sklearn-color-unfitted-level-1) 1pt solid;\n",
       "}\n",
       "\n",
       "#sk-container-id-4 a.estimator_doc_link.fitted {\n",
       "  /* fitted */\n",
       "  border: var(--sklearn-color-fitted-level-1) 1pt solid;\n",
       "  color: var(--sklearn-color-fitted-level-1);\n",
       "}\n",
       "\n",
       "/* On hover */\n",
       "#sk-container-id-4 a.estimator_doc_link:hover {\n",
       "  /* unfitted */\n",
       "  background-color: var(--sklearn-color-unfitted-level-3);\n",
       "  color: var(--sklearn-color-background);\n",
       "  text-decoration: none;\n",
       "}\n",
       "\n",
       "#sk-container-id-4 a.estimator_doc_link.fitted:hover {\n",
       "  /* fitted */\n",
       "  background-color: var(--sklearn-color-fitted-level-3);\n",
       "}\n",
       "</style><div id=\"sk-container-id-4\" class=\"sk-top-container\"><div class=\"sk-text-repr-fallback\"><pre>LGBMRegressor(colsample_bytree=0.7, learning_rate=0.03, max_bin=1024,\n",
       "              metric=&#x27;rmse&#x27;, n_iter=1000, num_leaves=1024, objective=&#x27;l2&#x27;,\n",
       "              verbosity=-1)</pre><b>In a Jupyter environment, please rerun this cell to show the HTML representation or trust the notebook. <br />On GitHub, the HTML representation is unable to render, please try loading this page with nbviewer.org.</b></div><div class=\"sk-container\" hidden><div class=\"sk-item\"><div class=\"sk-estimator fitted sk-toggleable\"><input class=\"sk-toggleable__control sk-hidden--visually\" id=\"sk-estimator-id-4\" type=\"checkbox\" checked><label for=\"sk-estimator-id-4\" class=\"sk-toggleable__label fitted sk-toggleable__label-arrow\"><div><div>LGBMRegressor</div></div><div><span class=\"sk-estimator-doc-link fitted\">i<span>Fitted</span></span></div></label><div class=\"sk-toggleable__content fitted\"><pre>LGBMRegressor(colsample_bytree=0.7, learning_rate=0.03, max_bin=1024,\n",
       "              metric=&#x27;rmse&#x27;, n_iter=1000, num_leaves=1024, objective=&#x27;l2&#x27;,\n",
       "              verbosity=-1)</pre></div> </div></div></div></div>"
      ],
      "text/plain": [
       "LGBMRegressor(colsample_bytree=0.7, learning_rate=0.03, max_bin=1024,\n",
       "              metric='rmse', n_iter=1000, num_leaves=1024, objective='l2',\n",
       "              verbosity=-1)"
      ]
     },
     "execution_count": 81,
     "metadata": {},
     "output_type": "execute_result"
    }
   ],
   "source": [
    "\n",
    "# Train LGBM\n",
    "params = {\n",
    "  'n_iter': 1000, \n",
    "  'max_depth': -1,\n",
    "  'num_leaves': 1024,\n",
    "  'colsample_bytree': 0.7,\n",
    "  'learning_rate': 0.03,\n",
    "  'objective': 'l2',\n",
    "  'metric': 'rmse',\n",
    "  'verbosity': -1,\n",
    "  'max_bin': 1024\n",
    "}\n",
    "\n",
    "lgbm = LGBMRegressor(**params)\n",
    "lgbm.fit(\n",
    "  train_X, train_y,\n",
    "  # eval_set=list(zip(cl_valid_X, cl_valid_y.to_numpy())),\n",
    "  callbacks=[log_evaluation(100)]\n",
    ")"
   ]
  },
  {
   "cell_type": "code",
   "execution_count": 82,
   "metadata": {},
   "outputs": [
    {
     "name": "stderr",
     "output_type": "stream",
     "text": [
      "/mnt/d/Software/venv/py310_ubun/lib/python3.10/site-packages/sklearn/utils/validation.py:2739: UserWarning: X does not have valid feature names, but LGBMRegressor was fitted with feature names\n",
      "  warnings.warn(\n"
     ]
    }
   ],
   "source": [
    "# Make predictions\n",
    "y_pred = lgbm.predict(test)\n",
    "\n",
    "# Export\n",
    "pl.DataFrame({\n",
    "  'id': test_id,\n",
    "  'listening_time_minutes': y_pred\n",
    "}).write_csv('results/truncsvd_lgbm.csv')"
   ]
  },
  {
   "cell_type": "markdown",
   "metadata": {},
   "source": [
    "---"
   ]
  },
  {
   "cell_type": "code",
   "execution_count": null,
   "metadata": {},
   "outputs": [],
   "source": []
  },
  {
   "cell_type": "code",
   "execution_count": 2,
   "metadata": {},
   "outputs": [],
   "source": [
    "import pandas as pd\n",
    "import xgboost as xgb"
   ]
  },
  {
   "cell_type": "code",
   "execution_count": 6,
   "metadata": {},
   "outputs": [],
   "source": [
    "NUM_ROUNDS = 20\n",
    "def data_iterator(filepath, batch_size=10_000):\n",
    "  for chunk in pd.read_csv(filepath, chunksize=batch_size):\n",
    "    y = chunk['Listening_Time_minutes']\n",
    "    X = chunk.drop('Listening_Time_minutes', axis=1)\n",
    "    dmat = xgb.DMatrix(X, label=y)\n",
    "    yield dmat\n",
    "\n",
    "train_iter = data_iterator('./data/train_le.csv')"
   ]
  },
  {
   "cell_type": "code",
   "execution_count": 7,
   "metadata": {},
   "outputs": [
    {
     "name": "stdout",
     "output_type": "stream",
     "text": [
      "<xgboost.core.DMatrix object at 0x000001CB43646BA0>\n"
     ]
    },
    {
     "name": "stderr",
     "output_type": "stream",
     "text": [
      "d:\\Downloads\\py13_venv\\Lib\\site-packages\\xgboost\\training.py:183: UserWarning: [15:59:50] WARNING: C:\\actions-runner\\_work\\xgboost\\xgboost\\src\\context.cc:49: No visible GPU is found, setting device to CPU.\n",
      "  bst.update(dtrain, iteration=i, fobj=obj)\n",
      "d:\\Downloads\\py13_venv\\Lib\\site-packages\\xgboost\\training.py:183: UserWarning: [15:59:50] WARNING: C:\\actions-runner\\_work\\xgboost\\xgboost\\src\\context.cc:203: XGBoost is not compiled with CUDA support.\n",
      "  bst.update(dtrain, iteration=i, fobj=obj)\n"
     ]
    },
    {
     "name": "stdout",
     "output_type": "stream",
     "text": [
      "<xgboost.core.DMatrix object at 0x000001CB435E7610>\n",
      "<xgboost.core.DMatrix object at 0x000001CB435E7110>\n",
      "<xgboost.core.DMatrix object at 0x000001CB4365CE90>\n",
      "<xgboost.core.DMatrix object at 0x000001CB4365D480>\n",
      "<xgboost.core.DMatrix object at 0x000001CB4365BE30>\n",
      "<xgboost.core.DMatrix object at 0x000001CB435CBBD0>\n",
      "<xgboost.core.DMatrix object at 0x000001CB435CB570>\n",
      "<xgboost.core.DMatrix object at 0x000001CB4361B950>\n",
      "<xgboost.core.DMatrix object at 0x000001CB4361B450>\n",
      "<xgboost.core.DMatrix object at 0x000001CB128B33E0>\n",
      "<xgboost.core.DMatrix object at 0x000001CB1283CD70>\n",
      "<xgboost.core.DMatrix object at 0x000001CB436BA510>\n",
      "<xgboost.core.DMatrix object at 0x000001CB436BA350>\n",
      "<xgboost.core.DMatrix object at 0x000001CB436CAF70>\n",
      "<xgboost.core.DMatrix object at 0x000001CB12821610>\n",
      "<xgboost.core.DMatrix object at 0x000001CB435E1FD0>\n",
      "<xgboost.core.DMatrix object at 0x000001CB435EB1D0>\n",
      "<xgboost.core.DMatrix object at 0x000001CB435EB280>\n",
      "<xgboost.core.DMatrix object at 0x000001CB436AE2B0>\n",
      "<xgboost.core.DMatrix object at 0x000001CB436AFED0>\n",
      "<xgboost.core.DMatrix object at 0x000001CB4389D2E0>\n",
      "<xgboost.core.DMatrix object at 0x000001CB436EE0D0>\n",
      "<xgboost.core.DMatrix object at 0x000001CB438CC2D0>\n",
      "<xgboost.core.DMatrix object at 0x000001CB436DF460>\n",
      "<xgboost.core.DMatrix object at 0x000001CB436DFF50>\n",
      "<xgboost.core.DMatrix object at 0x000001CB436DDBE0>\n",
      "<xgboost.core.DMatrix object at 0x000001CB436DE890>\n",
      "<xgboost.core.DMatrix object at 0x000001CB436DFE00>\n",
      "<xgboost.core.DMatrix object at 0x000001CB436DFE70>\n",
      "<xgboost.core.DMatrix object at 0x000001CB436DFD90>\n",
      "<xgboost.core.DMatrix object at 0x000001CB436DFD20>\n",
      "<xgboost.core.DMatrix object at 0x000001CB436DFF50>\n",
      "<xgboost.core.DMatrix object at 0x000001CB436DDBE0>\n",
      "<xgboost.core.DMatrix object at 0x000001CB436DE890>\n",
      "<xgboost.core.DMatrix object at 0x000001CB436DFE00>\n",
      "<xgboost.core.DMatrix object at 0x000001CB436DFE70>\n",
      "<xgboost.core.DMatrix object at 0x000001CB436DFD90>\n",
      "<xgboost.core.DMatrix object at 0x000001CB436DFD20>\n",
      "<xgboost.core.DMatrix object at 0x000001CB436DFF50>\n",
      "<xgboost.core.DMatrix object at 0x000001CB436DDBE0>\n",
      "<xgboost.core.DMatrix object at 0x000001CB436DE890>\n",
      "<xgboost.core.DMatrix object at 0x000001CB436DFE00>\n",
      "<xgboost.core.DMatrix object at 0x000001CB436DFE70>\n",
      "<xgboost.core.DMatrix object at 0x000001CB436DFD90>\n",
      "<xgboost.core.DMatrix object at 0x000001CB436DFD20>\n",
      "<xgboost.core.DMatrix object at 0x000001CB436DFF50>\n",
      "<xgboost.core.DMatrix object at 0x000001CB436DDBE0>\n",
      "<xgboost.core.DMatrix object at 0x000001CB436DE890>\n",
      "<xgboost.core.DMatrix object at 0x000001CB436DFE00>\n",
      "<xgboost.core.DMatrix object at 0x000001CB436DFE70>\n",
      "<xgboost.core.DMatrix object at 0x000001CB436DFD90>\n",
      "<xgboost.core.DMatrix object at 0x000001CB436DFD20>\n",
      "<xgboost.core.DMatrix object at 0x000001CB436DFF50>\n",
      "<xgboost.core.DMatrix object at 0x000001CB436DDBE0>\n",
      "<xgboost.core.DMatrix object at 0x000001CB436DE890>\n",
      "<xgboost.core.DMatrix object at 0x000001CB436DFE00>\n",
      "<xgboost.core.DMatrix object at 0x000001CB436DFE70>\n",
      "<xgboost.core.DMatrix object at 0x000001CB436DFD90>\n",
      "<xgboost.core.DMatrix object at 0x000001CB436DFD20>\n",
      "<xgboost.core.DMatrix object at 0x000001CB436DFF50>\n",
      "<xgboost.core.DMatrix object at 0x000001CB436DDBE0>\n",
      "<xgboost.core.DMatrix object at 0x000001CB436DE890>\n",
      "<xgboost.core.DMatrix object at 0x000001CB436DFE00>\n",
      "<xgboost.core.DMatrix object at 0x000001CB436DFE70>\n",
      "<xgboost.core.DMatrix object at 0x000001CB436DFD90>\n",
      "<xgboost.core.DMatrix object at 0x000001CB436DFD20>\n",
      "<xgboost.core.DMatrix object at 0x000001CB436DFF50>\n",
      "<xgboost.core.DMatrix object at 0x000001CB436DDBE0>\n",
      "<xgboost.core.DMatrix object at 0x000001CB436DE890>\n",
      "<xgboost.core.DMatrix object at 0x000001CB436DFE00>\n",
      "<xgboost.core.DMatrix object at 0x000001CB436DFE70>\n",
      "<xgboost.core.DMatrix object at 0x000001CB436DFD90>\n",
      "<xgboost.core.DMatrix object at 0x000001CB436DFD20>\n",
      "<xgboost.core.DMatrix object at 0x000001CB436DFF50>\n",
      "<xgboost.core.DMatrix object at 0x000001CB436DDBE0>\n",
      "<xgboost.core.DMatrix object at 0x000001CB436DE890>\n",
      "<xgboost.core.DMatrix object at 0x000001CB436DFE00>\n",
      "<xgboost.core.DMatrix object at 0x000001CB436DFE70>\n",
      "<xgboost.core.DMatrix object at 0x000001CB436DFD90>\n",
      "<xgboost.core.DMatrix object at 0x000001CB436DFD20>\n"
     ]
    }
   ],
   "source": [
    "model = None\n",
    "params = {\n",
    "  'device': 'gpu',\n",
    "  'objective': 'reg:squarederror',\n",
    "  # 'tree_method': 'hist',\n",
    "  # 'max_depth': 14,\n",
    "  # 'colsample_bytree': 0.5,\n",
    "  # 'subsample': 0.9,\n",
    "  # 'learning_rate': 0.2,\n",
    "}\n",
    "\n",
    "for i, dmat in enumerate(train_iter):\n",
    "  print(dmat)\n",
    "  if model is None:\n",
    "    model = xgb.train(\n",
    "      params,\n",
    "      dmat,\n",
    "      num_boost_round=1,\n",
    "    )\n",
    "  else:\n",
    "    model.update(dmat, iteration=0)"
   ]
  },
  {
   "cell_type": "code",
   "execution_count": 3,
   "metadata": {},
   "outputs": [],
   "source": [
    "test = pd.read_csv('./data/test_le.csv')"
   ]
  },
  {
   "cell_type": "code",
   "execution_count": 5,
   "metadata": {},
   "outputs": [
    {
     "data": {
      "text/html": [
       "<div>\n",
       "<style scoped>\n",
       "    .dataframe tbody tr th:only-of-type {\n",
       "        vertical-align: middle;\n",
       "    }\n",
       "\n",
       "    .dataframe tbody tr th {\n",
       "        vertical-align: top;\n",
       "    }\n",
       "\n",
       "    .dataframe thead th {\n",
       "        text-align: right;\n",
       "    }\n",
       "</style>\n",
       "<table border=\"1\" class=\"dataframe\">\n",
       "  <thead>\n",
       "    <tr style=\"text-align: right;\">\n",
       "      <th></th>\n",
       "      <th>id</th>\n",
       "      <th>Podcast_Name</th>\n",
       "      <th>Episode_Title</th>\n",
       "      <th>Episode_Length_minutes</th>\n",
       "      <th>Genre</th>\n",
       "      <th>Host_Popularity_percentage</th>\n",
       "      <th>Publication_Day</th>\n",
       "      <th>Publication_Time</th>\n",
       "      <th>Guest_Popularity_percentage</th>\n",
       "      <th>Number_of_Ads</th>\n",
       "      <th>...</th>\n",
       "      <th>Podcast_Name_Host_Popularity_percentage_Publication_Day_Publication_Time_Episode_Sentiment</th>\n",
       "      <th>Podcast_Name_Host_Popularity_percentage_Publication_Day_Guest_Popularity_percentage_Episode_Sentiment</th>\n",
       "      <th>Podcast_Name_Host_Popularity_percentage_Publication_Time_Guest_Popularity_percentage_Episode_Sentiment</th>\n",
       "      <th>Podcast_Name_Publication_Day_Publication_Time_Guest_Popularity_percentage_Episode_Sentiment</th>\n",
       "      <th>Episode_Length_minutes_Host_Popularity_percentage_Publication_Day_Publication_Time_Guest_Popularity_percentage</th>\n",
       "      <th>Episode_Length_minutes_Host_Popularity_percentage_Publication_Day_Publication_Time_Episode_Sentiment</th>\n",
       "      <th>Episode_Length_minutes_Host_Popularity_percentage_Publication_Day_Guest_Popularity_percentage_Episode_Sentiment</th>\n",
       "      <th>Episode_Length_minutes_Host_Popularity_percentage_Publication_Time_Guest_Popularity_percentage_Episode_Sentiment</th>\n",
       "      <th>Episode_Length_minutes_Publication_Day_Publication_Time_Guest_Popularity_percentage_Episode_Sentiment</th>\n",
       "      <th>Host_Popularity_percentage_Publication_Day_Publication_Time_Guest_Popularity_percentage_Episode_Sentiment</th>\n",
       "    </tr>\n",
       "  </thead>\n",
       "  <tbody>\n",
       "    <tr>\n",
       "      <th>0</th>\n",
       "      <td>750000</td>\n",
       "      <td>11</td>\n",
       "      <td>73</td>\n",
       "      <td>78.96</td>\n",
       "      <td>2</td>\n",
       "      <td>38.11</td>\n",
       "      <td>2</td>\n",
       "      <td>1</td>\n",
       "      <td>53.33</td>\n",
       "      <td>1.0</td>\n",
       "      <td>...</td>\n",
       "      <td>58426</td>\n",
       "      <td>59291</td>\n",
       "      <td>59202</td>\n",
       "      <td>48397</td>\n",
       "      <td>205226</td>\n",
       "      <td>202886</td>\n",
       "      <td>205123</td>\n",
       "      <td>204763</td>\n",
       "      <td>194924</td>\n",
       "      <td>56844</td>\n",
       "    </tr>\n",
       "    <tr>\n",
       "      <th>1</th>\n",
       "      <td>750001</td>\n",
       "      <td>36</td>\n",
       "      <td>23</td>\n",
       "      <td>27.87</td>\n",
       "      <td>5</td>\n",
       "      <td>71.29</td>\n",
       "      <td>3</td>\n",
       "      <td>2</td>\n",
       "      <td>52.19</td>\n",
       "      <td>0.0</td>\n",
       "      <td>...</td>\n",
       "      <td>182127</td>\n",
       "      <td>184707</td>\n",
       "      <td>184440</td>\n",
       "      <td>149914</td>\n",
       "      <td>71565</td>\n",
       "      <td>71044</td>\n",
       "      <td>71556</td>\n",
       "      <td>71511</td>\n",
       "      <td>70646</td>\n",
       "      <td>158505</td>\n",
       "    </tr>\n",
       "    <tr>\n",
       "      <th>2</th>\n",
       "      <td>750002</td>\n",
       "      <td>24</td>\n",
       "      <td>11</td>\n",
       "      <td>69.10</td>\n",
       "      <td>1</td>\n",
       "      <td>67.89</td>\n",
       "      <td>0</td>\n",
       "      <td>1</td>\n",
       "      <td>97.51</td>\n",
       "      <td>0.0</td>\n",
       "      <td>...</td>\n",
       "      <td>126230</td>\n",
       "      <td>128072</td>\n",
       "      <td>127873</td>\n",
       "      <td>102004</td>\n",
       "      <td>186775</td>\n",
       "      <td>184541</td>\n",
       "      <td>186677</td>\n",
       "      <td>186327</td>\n",
       "      <td>176674</td>\n",
       "      <td>147709</td>\n",
       "    </tr>\n",
       "    <tr>\n",
       "      <th>3</th>\n",
       "      <td>750003</td>\n",
       "      <td>4</td>\n",
       "      <td>73</td>\n",
       "      <td>115.39</td>\n",
       "      <td>1</td>\n",
       "      <td>23.40</td>\n",
       "      <td>3</td>\n",
       "      <td>2</td>\n",
       "      <td>51.75</td>\n",
       "      <td>2.0</td>\n",
       "      <td>...</td>\n",
       "      <td>21505</td>\n",
       "      <td>21807</td>\n",
       "      <td>21773</td>\n",
       "      <td>19567</td>\n",
       "      <td>34303</td>\n",
       "      <td>34077</td>\n",
       "      <td>34304</td>\n",
       "      <td>34272</td>\n",
       "      <td>33888</td>\n",
       "      <td>8485</td>\n",
       "    </tr>\n",
       "    <tr>\n",
       "      <th>4</th>\n",
       "      <td>750004</td>\n",
       "      <td>27</td>\n",
       "      <td>50</td>\n",
       "      <td>72.32</td>\n",
       "      <td>4</td>\n",
       "      <td>58.10</td>\n",
       "      <td>6</td>\n",
       "      <td>2</td>\n",
       "      <td>11.30</td>\n",
       "      <td>2.0</td>\n",
       "      <td>...</td>\n",
       "      <td>139366</td>\n",
       "      <td>141372</td>\n",
       "      <td>141147</td>\n",
       "      <td>116805</td>\n",
       "      <td>194272</td>\n",
       "      <td>191987</td>\n",
       "      <td>194167</td>\n",
       "      <td>193816</td>\n",
       "      <td>184115</td>\n",
       "      <td>116299</td>\n",
       "    </tr>\n",
       "  </tbody>\n",
       "</table>\n",
       "<p>5 rows × 124 columns</p>\n",
       "</div>"
      ],
      "text/plain": [
       "       id  Podcast_Name  Episode_Title  Episode_Length_minutes  Genre  \\\n",
       "0  750000            11             73                   78.96      2   \n",
       "1  750001            36             23                   27.87      5   \n",
       "2  750002            24             11                   69.10      1   \n",
       "3  750003             4             73                  115.39      1   \n",
       "4  750004            27             50                   72.32      4   \n",
       "\n",
       "   Host_Popularity_percentage  Publication_Day  Publication_Time  \\\n",
       "0                       38.11                2                 1   \n",
       "1                       71.29                3                 2   \n",
       "2                       67.89                0                 1   \n",
       "3                       23.40                3                 2   \n",
       "4                       58.10                6                 2   \n",
       "\n",
       "   Guest_Popularity_percentage  Number_of_Ads  ...  \\\n",
       "0                        53.33            1.0  ...   \n",
       "1                        52.19            0.0  ...   \n",
       "2                        97.51            0.0  ...   \n",
       "3                        51.75            2.0  ...   \n",
       "4                        11.30            2.0  ...   \n",
       "\n",
       "   Podcast_Name_Host_Popularity_percentage_Publication_Day_Publication_Time_Episode_Sentiment  \\\n",
       "0                                              58426                                            \n",
       "1                                             182127                                            \n",
       "2                                             126230                                            \n",
       "3                                              21505                                            \n",
       "4                                             139366                                            \n",
       "\n",
       "   Podcast_Name_Host_Popularity_percentage_Publication_Day_Guest_Popularity_percentage_Episode_Sentiment  \\\n",
       "0                                              59291                                                       \n",
       "1                                             184707                                                       \n",
       "2                                             128072                                                       \n",
       "3                                              21807                                                       \n",
       "4                                             141372                                                       \n",
       "\n",
       "   Podcast_Name_Host_Popularity_percentage_Publication_Time_Guest_Popularity_percentage_Episode_Sentiment  \\\n",
       "0                                              59202                                                        \n",
       "1                                             184440                                                        \n",
       "2                                             127873                                                        \n",
       "3                                              21773                                                        \n",
       "4                                             141147                                                        \n",
       "\n",
       "   Podcast_Name_Publication_Day_Publication_Time_Guest_Popularity_percentage_Episode_Sentiment  \\\n",
       "0                                              48397                                             \n",
       "1                                             149914                                             \n",
       "2                                             102004                                             \n",
       "3                                              19567                                             \n",
       "4                                             116805                                             \n",
       "\n",
       "   Episode_Length_minutes_Host_Popularity_percentage_Publication_Day_Publication_Time_Guest_Popularity_percentage  \\\n",
       "0                                             205226                                                                \n",
       "1                                              71565                                                                \n",
       "2                                             186775                                                                \n",
       "3                                              34303                                                                \n",
       "4                                             194272                                                                \n",
       "\n",
       "   Episode_Length_minutes_Host_Popularity_percentage_Publication_Day_Publication_Time_Episode_Sentiment  \\\n",
       "0                                             202886                                                      \n",
       "1                                              71044                                                      \n",
       "2                                             184541                                                      \n",
       "3                                              34077                                                      \n",
       "4                                             191987                                                      \n",
       "\n",
       "   Episode_Length_minutes_Host_Popularity_percentage_Publication_Day_Guest_Popularity_percentage_Episode_Sentiment  \\\n",
       "0                                             205123                                                                 \n",
       "1                                              71556                                                                 \n",
       "2                                             186677                                                                 \n",
       "3                                              34304                                                                 \n",
       "4                                             194167                                                                 \n",
       "\n",
       "   Episode_Length_minutes_Host_Popularity_percentage_Publication_Time_Guest_Popularity_percentage_Episode_Sentiment  \\\n",
       "0                                             204763                                                                  \n",
       "1                                              71511                                                                  \n",
       "2                                             186327                                                                  \n",
       "3                                              34272                                                                  \n",
       "4                                             193816                                                                  \n",
       "\n",
       "   Episode_Length_minutes_Publication_Day_Publication_Time_Guest_Popularity_percentage_Episode_Sentiment  \\\n",
       "0                                             194924                                                       \n",
       "1                                              70646                                                       \n",
       "2                                             176674                                                       \n",
       "3                                              33888                                                       \n",
       "4                                             184115                                                       \n",
       "\n",
       "   Host_Popularity_percentage_Publication_Day_Publication_Time_Guest_Popularity_percentage_Episode_Sentiment  \n",
       "0                                              56844                                                          \n",
       "1                                             158505                                                          \n",
       "2                                             147709                                                          \n",
       "3                                               8485                                                          \n",
       "4                                             116299                                                          \n",
       "\n",
       "[5 rows x 124 columns]"
      ]
     },
     "execution_count": 5,
     "metadata": {},
     "output_type": "execute_result"
    }
   ],
   "source": [
    "test.head()"
   ]
  },
  {
   "cell_type": "code",
   "execution_count": 8,
   "metadata": {},
   "outputs": [],
   "source": [
    "ids = test['id']\n",
    "X_test = test.drop('id', axis=1)"
   ]
  },
  {
   "cell_type": "code",
   "execution_count": 9,
   "metadata": {},
   "outputs": [],
   "source": [
    "dtest = xgb.DMatrix(X_test)"
   ]
  },
  {
   "cell_type": "code",
   "execution_count": 10,
   "metadata": {},
   "outputs": [],
   "source": [
    "preds = model.predict(dtest)"
   ]
  },
  {
   "cell_type": "code",
   "execution_count": 11,
   "metadata": {},
   "outputs": [
    {
     "data": {
      "text/html": [
       "<div>\n",
       "<style scoped>\n",
       "    .dataframe tbody tr th:only-of-type {\n",
       "        vertical-align: middle;\n",
       "    }\n",
       "\n",
       "    .dataframe tbody tr th {\n",
       "        vertical-align: top;\n",
       "    }\n",
       "\n",
       "    .dataframe thead th {\n",
       "        text-align: right;\n",
       "    }\n",
       "</style>\n",
       "<table border=\"1\" class=\"dataframe\">\n",
       "  <thead>\n",
       "    <tr style=\"text-align: right;\">\n",
       "      <th></th>\n",
       "      <th>id</th>\n",
       "      <th>Listening_Time_minutes</th>\n",
       "    </tr>\n",
       "  </thead>\n",
       "  <tbody>\n",
       "    <tr>\n",
       "      <th>0</th>\n",
       "      <td>750000</td>\n",
       "      <td>70.844452</td>\n",
       "    </tr>\n",
       "    <tr>\n",
       "      <th>1</th>\n",
       "      <td>750001</td>\n",
       "      <td>29.654222</td>\n",
       "    </tr>\n",
       "    <tr>\n",
       "      <th>2</th>\n",
       "      <td>750002</td>\n",
       "      <td>36.827530</td>\n",
       "    </tr>\n",
       "    <tr>\n",
       "      <th>3</th>\n",
       "      <td>750003</td>\n",
       "      <td>93.394165</td>\n",
       "    </tr>\n",
       "    <tr>\n",
       "      <th>4</th>\n",
       "      <td>750004</td>\n",
       "      <td>47.476665</td>\n",
       "    </tr>\n",
       "  </tbody>\n",
       "</table>\n",
       "</div>"
      ],
      "text/plain": [
       "       id  Listening_Time_minutes\n",
       "0  750000               70.844452\n",
       "1  750001               29.654222\n",
       "2  750002               36.827530\n",
       "3  750003               93.394165\n",
       "4  750004               47.476665"
      ]
     },
     "execution_count": 11,
     "metadata": {},
     "output_type": "execute_result"
    }
   ],
   "source": [
    "res = pd.DataFrame(\n",
    "  {\n",
    "    'id': ids,\n",
    "    'Listening_Time_minutes' : preds\n",
    "  }\n",
    ")\n",
    "res.head()"
   ]
  },
  {
   "cell_type": "code",
   "execution_count": 40,
   "metadata": {},
   "outputs": [],
   "source": [
    "res.to_csv('./results/xgb_perm.csv', index=False)"
   ]
  },
  {
   "cell_type": "code",
   "execution_count": null,
   "metadata": {},
   "outputs": [],
   "source": []
  },
  {
   "cell_type": "code",
   "execution_count": null,
   "metadata": {},
   "outputs": [],
   "source": []
  }
 ],
 "metadata": {
  "kernelspec": {
   "display_name": "py13_venv",
   "language": "python",
   "name": "python3"
  },
  "language_info": {
   "codemirror_mode": {
    "name": "ipython",
    "version": 3
   },
   "file_extension": ".py",
   "mimetype": "text/x-python",
   "name": "python",
   "nbconvert_exporter": "python",
   "pygments_lexer": "ipython3",
   "version": "3.13.0"
  }
 },
 "nbformat": 4,
 "nbformat_minor": 2
}
