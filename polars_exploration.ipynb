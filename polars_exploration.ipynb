{
 "cells": [
  {
   "cell_type": "markdown",
   "metadata": {},
   "source": [
    "# Data Exploration Using Polars"
   ]
  },
  {
   "cell_type": "markdown",
   "metadata": {},
   "source": [
    "Using this notebook as a chance to explore the usage of Polars (as compared to pandas) for data processing"
   ]
  },
  {
   "cell_type": "markdown",
   "metadata": {},
   "source": [
    "| Date | User | Change Type | Remarks |  \n",
    "| ---- | ---- | ----------- | ------- |\n",
    "| 09/03/2025   | Martin | Create  | Created notebook, started exploration. Beginning with basic Polars API | \n",
    "| 19/03/2025   | Martin | Update  | Added more sections for basic Polars functionality | "
   ]
  },
  {
   "cell_type": "markdown",
   "metadata": {
    "vscode": {
     "languageId": "plaintext"
    }
   },
   "source": [
    "# Content\n",
    "\n",
    "* [Polars API](#polars-api)\n",
    "* [Dataframe Inspection](#dataframe-inspection)"
   ]
  },
  {
   "cell_type": "markdown",
   "metadata": {},
   "source": [
    "# Polars API"
   ]
  },
  {
   "cell_type": "code",
   "execution_count": 2,
   "metadata": {},
   "outputs": [
    {
     "name": "stdout",
     "output_type": "stream",
     "text": [
      "The watermark extension is already loaded. To reload it, use:\n",
      "  %reload_ext watermark\n"
     ]
    }
   ],
   "source": [
    "%load_ext watermark\n",
    "import polars as pl\n",
    "import datetime as dt\n",
    "import math"
   ]
  },
  {
   "cell_type": "code",
   "execution_count": 3,
   "metadata": {},
   "outputs": [
    {
     "data": {
      "text/html": [
       "<div><style>\n",
       ".dataframe > thead > tr,\n",
       ".dataframe > tbody > tr {\n",
       "  text-align: right;\n",
       "  white-space: pre-wrap;\n",
       "}\n",
       "</style>\n",
       "<small>shape: (750_000, 12)</small><table border=\"1\" class=\"dataframe\"><thead><tr><th>id</th><th>Podcast_Name</th><th>Episode_Title</th><th>Episode_Length_minutes</th><th>Genre</th><th>Host_Popularity_percentage</th><th>Publication_Day</th><th>Publication_Time</th><th>Guest_Popularity_percentage</th><th>Number_of_Ads</th><th>Episode_Sentiment</th><th>Listening_Time_minutes</th></tr><tr><td>i64</td><td>str</td><td>str</td><td>f64</td><td>str</td><td>f64</td><td>str</td><td>str</td><td>f64</td><td>f64</td><td>str</td><td>f64</td></tr></thead><tbody><tr><td>0</td><td>&quot;Mystery Matters&quot;</td><td>&quot;Episode 98&quot;</td><td>null</td><td>&quot;True Crime&quot;</td><td>74.81</td><td>&quot;Thursday&quot;</td><td>&quot;Night&quot;</td><td>null</td><td>0.0</td><td>&quot;Positive&quot;</td><td>31.41998</td></tr><tr><td>1</td><td>&quot;Joke Junction&quot;</td><td>&quot;Episode 26&quot;</td><td>119.8</td><td>&quot;Comedy&quot;</td><td>66.95</td><td>&quot;Saturday&quot;</td><td>&quot;Afternoon&quot;</td><td>75.95</td><td>2.0</td><td>&quot;Negative&quot;</td><td>88.01241</td></tr><tr><td>2</td><td>&quot;Study Sessions&quot;</td><td>&quot;Episode 16&quot;</td><td>73.9</td><td>&quot;Education&quot;</td><td>69.97</td><td>&quot;Tuesday&quot;</td><td>&quot;Evening&quot;</td><td>8.97</td><td>0.0</td><td>&quot;Negative&quot;</td><td>44.92531</td></tr><tr><td>3</td><td>&quot;Digital Digest&quot;</td><td>&quot;Episode 45&quot;</td><td>67.17</td><td>&quot;Technology&quot;</td><td>57.22</td><td>&quot;Monday&quot;</td><td>&quot;Morning&quot;</td><td>78.7</td><td>2.0</td><td>&quot;Positive&quot;</td><td>46.27824</td></tr><tr><td>4</td><td>&quot;Mind &amp; Body&quot;</td><td>&quot;Episode 86&quot;</td><td>110.51</td><td>&quot;Health&quot;</td><td>80.07</td><td>&quot;Monday&quot;</td><td>&quot;Afternoon&quot;</td><td>58.68</td><td>3.0</td><td>&quot;Neutral&quot;</td><td>75.61031</td></tr><tr><td>&hellip;</td><td>&hellip;</td><td>&hellip;</td><td>&hellip;</td><td>&hellip;</td><td>&hellip;</td><td>&hellip;</td><td>&hellip;</td><td>&hellip;</td><td>&hellip;</td><td>&hellip;</td><td>&hellip;</td></tr><tr><td>749995</td><td>&quot;Learning Lab&quot;</td><td>&quot;Episode 25&quot;</td><td>75.66</td><td>&quot;Education&quot;</td><td>69.36</td><td>&quot;Saturday&quot;</td><td>&quot;Morning&quot;</td><td>null</td><td>0.0</td><td>&quot;Negative&quot;</td><td>56.87058</td></tr><tr><td>749996</td><td>&quot;Business Briefs&quot;</td><td>&quot;Episode 21&quot;</td><td>75.75</td><td>&quot;Business&quot;</td><td>35.21</td><td>&quot;Saturday&quot;</td><td>&quot;Night&quot;</td><td>null</td><td>2.0</td><td>&quot;Neutral&quot;</td><td>45.46242</td></tr><tr><td>749997</td><td>&quot;Lifestyle Lounge&quot;</td><td>&quot;Episode 51&quot;</td><td>30.98</td><td>&quot;Lifestyle&quot;</td><td>78.58</td><td>&quot;Thursday&quot;</td><td>&quot;Morning&quot;</td><td>84.89</td><td>0.0</td><td>&quot;Negative&quot;</td><td>15.26</td></tr><tr><td>749998</td><td>&quot;Style Guide&quot;</td><td>&quot;Episode 47&quot;</td><td>108.98</td><td>&quot;Lifestyle&quot;</td><td>45.39</td><td>&quot;Thursday&quot;</td><td>&quot;Morning&quot;</td><td>93.27</td><td>0.0</td><td>&quot;Negative&quot;</td><td>100.72939</td></tr><tr><td>749999</td><td>&quot;Sports Central&quot;</td><td>&quot;Episode 99&quot;</td><td>24.1</td><td>&quot;Sports&quot;</td><td>22.45</td><td>&quot;Saturday&quot;</td><td>&quot;Night&quot;</td><td>36.72</td><td>0.0</td><td>&quot;Neutral&quot;</td><td>11.94439</td></tr></tbody></table></div>"
      ],
      "text/plain": [
       "shape: (750_000, 12)\n",
       "┌────────┬────────────┬────────────┬───────────┬───┬───────────┬───────────┬───────────┬───────────┐\n",
       "│ id     ┆ Podcast_Na ┆ Episode_Ti ┆ Episode_L ┆ … ┆ Guest_Pop ┆ Number_of ┆ Episode_S ┆ Listening │\n",
       "│ ---    ┆ me         ┆ tle        ┆ ength_min ┆   ┆ ularity_p ┆ _Ads      ┆ entiment  ┆ _Time_min │\n",
       "│ i64    ┆ ---        ┆ ---        ┆ utes      ┆   ┆ ercentage ┆ ---       ┆ ---       ┆ utes      │\n",
       "│        ┆ str        ┆ str        ┆ ---       ┆   ┆ ---       ┆ f64       ┆ str       ┆ ---       │\n",
       "│        ┆            ┆            ┆ f64       ┆   ┆ f64       ┆           ┆           ┆ f64       │\n",
       "╞════════╪════════════╪════════════╪═══════════╪═══╪═══════════╪═══════════╪═══════════╪═══════════╡\n",
       "│ 0      ┆ Mystery    ┆ Episode 98 ┆ null      ┆ … ┆ null      ┆ 0.0       ┆ Positive  ┆ 31.41998  │\n",
       "│        ┆ Matters    ┆            ┆           ┆   ┆           ┆           ┆           ┆           │\n",
       "│ 1      ┆ Joke       ┆ Episode 26 ┆ 119.8     ┆ … ┆ 75.95     ┆ 2.0       ┆ Negative  ┆ 88.01241  │\n",
       "│        ┆ Junction   ┆            ┆           ┆   ┆           ┆           ┆           ┆           │\n",
       "│ 2      ┆ Study      ┆ Episode 16 ┆ 73.9      ┆ … ┆ 8.97      ┆ 0.0       ┆ Negative  ┆ 44.92531  │\n",
       "│        ┆ Sessions   ┆            ┆           ┆   ┆           ┆           ┆           ┆           │\n",
       "│ 3      ┆ Digital    ┆ Episode 45 ┆ 67.17     ┆ … ┆ 78.7      ┆ 2.0       ┆ Positive  ┆ 46.27824  │\n",
       "│        ┆ Digest     ┆            ┆           ┆   ┆           ┆           ┆           ┆           │\n",
       "│ 4      ┆ Mind &     ┆ Episode 86 ┆ 110.51    ┆ … ┆ 58.68     ┆ 3.0       ┆ Neutral   ┆ 75.61031  │\n",
       "│        ┆ Body       ┆            ┆           ┆   ┆           ┆           ┆           ┆           │\n",
       "│ …      ┆ …          ┆ …          ┆ …         ┆ … ┆ …         ┆ …         ┆ …         ┆ …         │\n",
       "│ 749995 ┆ Learning   ┆ Episode 25 ┆ 75.66     ┆ … ┆ null      ┆ 0.0       ┆ Negative  ┆ 56.87058  │\n",
       "│        ┆ Lab        ┆            ┆           ┆   ┆           ┆           ┆           ┆           │\n",
       "│ 749996 ┆ Business   ┆ Episode 21 ┆ 75.75     ┆ … ┆ null      ┆ 2.0       ┆ Neutral   ┆ 45.46242  │\n",
       "│        ┆ Briefs     ┆            ┆           ┆   ┆           ┆           ┆           ┆           │\n",
       "│ 749997 ┆ Lifestyle  ┆ Episode 51 ┆ 30.98     ┆ … ┆ 84.89     ┆ 0.0       ┆ Negative  ┆ 15.26     │\n",
       "│        ┆ Lounge     ┆            ┆           ┆   ┆           ┆           ┆           ┆           │\n",
       "│ 749998 ┆ Style      ┆ Episode 47 ┆ 108.98    ┆ … ┆ 93.27     ┆ 0.0       ┆ Negative  ┆ 100.72939 │\n",
       "│        ┆ Guide      ┆            ┆           ┆   ┆           ┆           ┆           ┆           │\n",
       "│ 749999 ┆ Sports     ┆ Episode 99 ┆ 24.1      ┆ … ┆ 36.72     ┆ 0.0       ┆ Neutral   ┆ 11.94439  │\n",
       "│        ┆ Central    ┆            ┆           ┆   ┆           ┆           ┆           ┆           │\n",
       "└────────┴────────────┴────────────┴───────────┴───┴───────────┴───────────┴───────────┴───────────┘"
      ]
     },
     "execution_count": 3,
     "metadata": {},
     "output_type": "execute_result"
    }
   ],
   "source": [
    "df = pl.read_csv(\"data/train.csv\", try_parse_dates=True)\n",
    "df"
   ]
  },
  {
   "cell_type": "code",
   "execution_count": 4,
   "metadata": {},
   "outputs": [
    {
     "data": {
      "text/html": [
       "<div><style>\n",
       ".dataframe > thead > tr,\n",
       ".dataframe > tbody > tr {\n",
       "  text-align: right;\n",
       "  white-space: pre-wrap;\n",
       "}\n",
       "</style>\n",
       "<small>shape: (750_000, 2)</small><table border=\"1\" class=\"dataframe\"><thead><tr><th>Podcast_Name</th><th>Host_Popularity_percentage</th></tr><tr><td>str</td><td>f64</td></tr></thead><tbody><tr><td>&quot;Mystery Matters&quot;</td><td>0.0</td></tr><tr><td>&quot;Joke Junction&quot;</td><td>267.8</td></tr><tr><td>&quot;Study Sessions&quot;</td><td>0.0</td></tr><tr><td>&quot;Digital Digest&quot;</td><td>228.88</td></tr><tr><td>&quot;Mind &amp; Body&quot;</td><td>720.63</td></tr><tr><td>&hellip;</td><td>&hellip;</td></tr><tr><td>&quot;Learning Lab&quot;</td><td>0.0</td></tr><tr><td>&quot;Business Briefs&quot;</td><td>140.84</td></tr><tr><td>&quot;Lifestyle Lounge&quot;</td><td>0.0</td></tr><tr><td>&quot;Style Guide&quot;</td><td>0.0</td></tr><tr><td>&quot;Sports Central&quot;</td><td>0.0</td></tr></tbody></table></div>"
      ],
      "text/plain": [
       "shape: (750_000, 2)\n",
       "┌──────────────────┬────────────────────────────┐\n",
       "│ Podcast_Name     ┆ Host_Popularity_percentage │\n",
       "│ ---              ┆ ---                        │\n",
       "│ str              ┆ f64                        │\n",
       "╞══════════════════╪════════════════════════════╡\n",
       "│ Mystery Matters  ┆ 0.0                        │\n",
       "│ Joke Junction    ┆ 267.8                      │\n",
       "│ Study Sessions   ┆ 0.0                        │\n",
       "│ Digital Digest   ┆ 228.88                     │\n",
       "│ Mind & Body      ┆ 720.63                     │\n",
       "│ …                ┆ …                          │\n",
       "│ Learning Lab     ┆ 0.0                        │\n",
       "│ Business Briefs  ┆ 140.84                     │\n",
       "│ Lifestyle Lounge ┆ 0.0                        │\n",
       "│ Style Guide      ┆ 0.0                        │\n",
       "│ Sports Central   ┆ 0.0                        │\n",
       "└──────────────────┴────────────────────────────┘"
      ]
     },
     "execution_count": 4,
     "metadata": {},
     "output_type": "execute_result"
    }
   ],
   "source": [
    "# Selecting columns\n",
    "df.select(\n",
    "  pl.col('Podcast_Name'),\n",
    "  pl.col('Host_Popularity_percentage') * pl.col('Number_of_Ads') ** 2\n",
    ")"
   ]
  },
  {
   "cell_type": "code",
   "execution_count": 5,
   "metadata": {},
   "outputs": [
    {
     "data": {
      "text/html": [
       "<div><style>\n",
       ".dataframe > thead > tr,\n",
       ".dataframe > tbody > tr {\n",
       "  text-align: right;\n",
       "  white-space: pre-wrap;\n",
       "}\n",
       "</style>\n",
       "<small>shape: (750_000, 3)</small><table border=\"1\" class=\"dataframe\"><thead><tr><th>Podcast_Name</th><th>Number_of_Ads_in_fah</th><th>Listening_Time_minutes_in_fah</th></tr><tr><td>str</td><td>f64</td><td>f64</td></tr></thead><tbody><tr><td>&quot;Mystery Matters&quot;</td><td>32.0</td><td>88.56</td></tr><tr><td>&quot;Joke Junction&quot;</td><td>35.6</td><td>190.42</td></tr><tr><td>&quot;Study Sessions&quot;</td><td>32.0</td><td>112.87</td></tr><tr><td>&quot;Digital Digest&quot;</td><td>35.6</td><td>115.3</td></tr><tr><td>&quot;Mind &amp; Body&quot;</td><td>37.4</td><td>168.1</td></tr><tr><td>&hellip;</td><td>&hellip;</td><td>&hellip;</td></tr><tr><td>&quot;Learning Lab&quot;</td><td>32.0</td><td>134.37</td></tr><tr><td>&quot;Business Briefs&quot;</td><td>35.6</td><td>113.83</td></tr><tr><td>&quot;Lifestyle Lounge&quot;</td><td>32.0</td><td>59.47</td></tr><tr><td>&quot;Style Guide&quot;</td><td>32.0</td><td>213.31</td></tr><tr><td>&quot;Sports Central&quot;</td><td>32.0</td><td>53.5</td></tr></tbody></table></div>"
      ],
      "text/plain": [
       "shape: (750_000, 3)\n",
       "┌──────────────────┬──────────────────────┬───────────────────────────────┐\n",
       "│ Podcast_Name     ┆ Number_of_Ads_in_fah ┆ Listening_Time_minutes_in_fah │\n",
       "│ ---              ┆ ---                  ┆ ---                           │\n",
       "│ str              ┆ f64                  ┆ f64                           │\n",
       "╞══════════════════╪══════════════════════╪═══════════════════════════════╡\n",
       "│ Mystery Matters  ┆ 32.0                 ┆ 88.56                         │\n",
       "│ Joke Junction    ┆ 35.6                 ┆ 190.42                        │\n",
       "│ Study Sessions   ┆ 32.0                 ┆ 112.87                        │\n",
       "│ Digital Digest   ┆ 35.6                 ┆ 115.3                         │\n",
       "│ Mind & Body      ┆ 37.4                 ┆ 168.1                         │\n",
       "│ …                ┆ …                    ┆ …                             │\n",
       "│ Learning Lab     ┆ 32.0                 ┆ 134.37                        │\n",
       "│ Business Briefs  ┆ 35.6                 ┆ 113.83                        │\n",
       "│ Lifestyle Lounge ┆ 32.0                 ┆ 59.47                         │\n",
       "│ Style Guide      ┆ 32.0                 ┆ 213.31                        │\n",
       "│ Sports Central   ┆ 32.0                 ┆ 53.5                          │\n",
       "└──────────────────┴──────────────────────┴───────────────────────────────┘"
      ]
     },
     "execution_count": 5,
     "metadata": {},
     "output_type": "execute_result"
    }
   ],
   "source": [
    "# Applying the same set of functions to multiple columns\n",
    "df.select(\n",
    "  pl.col('Podcast_Name'),\n",
    "  (pl.col('Number_of_Ads', 'Listening_Time_minutes') * (9/5) + 32).round(2).name.suffix(\"_in_fah\")\n",
    ")"
   ]
  },
  {
   "cell_type": "code",
   "execution_count": 6,
   "metadata": {},
   "outputs": [
    {
     "data": {
      "text/html": [
       "<div><style>\n",
       ".dataframe > thead > tr,\n",
       ".dataframe > tbody > tr {\n",
       "  text-align: right;\n",
       "  white-space: pre-wrap;\n",
       "}\n",
       "</style>\n",
       "<small>shape: (750_000, 14)</small><table border=\"1\" class=\"dataframe\"><thead><tr><th>id</th><th>Podcast_Name</th><th>Episode_Title</th><th>Episode_Length_minutes</th><th>Genre</th><th>Host_Popularity_percentage</th><th>Publication_Day</th><th>Publication_Time</th><th>Guest_Popularity_percentage</th><th>Number_of_Ads</th><th>Episode_Sentiment</th><th>Listening_Time_minutes</th><th>listening_time_above_4</th><th>listening_time_above_11</th></tr><tr><td>i64</td><td>str</td><td>str</td><td>f64</td><td>str</td><td>f64</td><td>str</td><td>str</td><td>f64</td><td>f64</td><td>str</td><td>f64</td><td>bool</td><td>bool</td></tr></thead><tbody><tr><td>0</td><td>&quot;Mystery Matters&quot;</td><td>&quot;Episode 98&quot;</td><td>null</td><td>&quot;True Crime&quot;</td><td>74.81</td><td>&quot;Thursday&quot;</td><td>&quot;Night&quot;</td><td>null</td><td>0.0</td><td>&quot;Positive&quot;</td><td>31.41998</td><td>true</td><td>true</td></tr><tr><td>1</td><td>&quot;Joke Junction&quot;</td><td>&quot;Episode 26&quot;</td><td>119.8</td><td>&quot;Comedy&quot;</td><td>66.95</td><td>&quot;Saturday&quot;</td><td>&quot;Afternoon&quot;</td><td>75.95</td><td>2.0</td><td>&quot;Negative&quot;</td><td>88.01241</td><td>true</td><td>true</td></tr><tr><td>2</td><td>&quot;Study Sessions&quot;</td><td>&quot;Episode 16&quot;</td><td>73.9</td><td>&quot;Education&quot;</td><td>69.97</td><td>&quot;Tuesday&quot;</td><td>&quot;Evening&quot;</td><td>8.97</td><td>0.0</td><td>&quot;Negative&quot;</td><td>44.92531</td><td>true</td><td>true</td></tr><tr><td>3</td><td>&quot;Digital Digest&quot;</td><td>&quot;Episode 45&quot;</td><td>67.17</td><td>&quot;Technology&quot;</td><td>57.22</td><td>&quot;Monday&quot;</td><td>&quot;Morning&quot;</td><td>78.7</td><td>2.0</td><td>&quot;Positive&quot;</td><td>46.27824</td><td>true</td><td>true</td></tr><tr><td>4</td><td>&quot;Mind &amp; Body&quot;</td><td>&quot;Episode 86&quot;</td><td>110.51</td><td>&quot;Health&quot;</td><td>80.07</td><td>&quot;Monday&quot;</td><td>&quot;Afternoon&quot;</td><td>58.68</td><td>3.0</td><td>&quot;Neutral&quot;</td><td>75.61031</td><td>true</td><td>true</td></tr><tr><td>&hellip;</td><td>&hellip;</td><td>&hellip;</td><td>&hellip;</td><td>&hellip;</td><td>&hellip;</td><td>&hellip;</td><td>&hellip;</td><td>&hellip;</td><td>&hellip;</td><td>&hellip;</td><td>&hellip;</td><td>&hellip;</td><td>&hellip;</td></tr><tr><td>749995</td><td>&quot;Learning Lab&quot;</td><td>&quot;Episode 25&quot;</td><td>75.66</td><td>&quot;Education&quot;</td><td>69.36</td><td>&quot;Saturday&quot;</td><td>&quot;Morning&quot;</td><td>null</td><td>0.0</td><td>&quot;Negative&quot;</td><td>56.87058</td><td>true</td><td>true</td></tr><tr><td>749996</td><td>&quot;Business Briefs&quot;</td><td>&quot;Episode 21&quot;</td><td>75.75</td><td>&quot;Business&quot;</td><td>35.21</td><td>&quot;Saturday&quot;</td><td>&quot;Night&quot;</td><td>null</td><td>2.0</td><td>&quot;Neutral&quot;</td><td>45.46242</td><td>true</td><td>true</td></tr><tr><td>749997</td><td>&quot;Lifestyle Lounge&quot;</td><td>&quot;Episode 51&quot;</td><td>30.98</td><td>&quot;Lifestyle&quot;</td><td>78.58</td><td>&quot;Thursday&quot;</td><td>&quot;Morning&quot;</td><td>84.89</td><td>0.0</td><td>&quot;Negative&quot;</td><td>15.26</td><td>true</td><td>true</td></tr><tr><td>749998</td><td>&quot;Style Guide&quot;</td><td>&quot;Episode 47&quot;</td><td>108.98</td><td>&quot;Lifestyle&quot;</td><td>45.39</td><td>&quot;Thursday&quot;</td><td>&quot;Morning&quot;</td><td>93.27</td><td>0.0</td><td>&quot;Negative&quot;</td><td>100.72939</td><td>true</td><td>true</td></tr><tr><td>749999</td><td>&quot;Sports Central&quot;</td><td>&quot;Episode 99&quot;</td><td>24.1</td><td>&quot;Sports&quot;</td><td>22.45</td><td>&quot;Saturday&quot;</td><td>&quot;Night&quot;</td><td>36.72</td><td>0.0</td><td>&quot;Neutral&quot;</td><td>11.94439</td><td>true</td><td>true</td></tr></tbody></table></div>"
      ],
      "text/plain": [
       "shape: (750_000, 14)\n",
       "┌────────┬────────────┬────────────┬───────────┬───┬───────────┬───────────┬───────────┬───────────┐\n",
       "│ id     ┆ Podcast_Na ┆ Episode_Ti ┆ Episode_L ┆ … ┆ Episode_S ┆ Listening ┆ listening ┆ listening │\n",
       "│ ---    ┆ me         ┆ tle        ┆ ength_min ┆   ┆ entiment  ┆ _Time_min ┆ _time_abo ┆ _time_abo │\n",
       "│ i64    ┆ ---        ┆ ---        ┆ utes      ┆   ┆ ---       ┆ utes      ┆ ve_4      ┆ ve_11     │\n",
       "│        ┆ str        ┆ str        ┆ ---       ┆   ┆ str       ┆ ---       ┆ ---       ┆ ---       │\n",
       "│        ┆            ┆            ┆ f64       ┆   ┆           ┆ f64       ┆ bool      ┆ bool      │\n",
       "╞════════╪════════════╪════════════╪═══════════╪═══╪═══════════╪═══════════╪═══════════╪═══════════╡\n",
       "│ 0      ┆ Mystery    ┆ Episode 98 ┆ null      ┆ … ┆ Positive  ┆ 31.41998  ┆ true      ┆ true      │\n",
       "│        ┆ Matters    ┆            ┆           ┆   ┆           ┆           ┆           ┆           │\n",
       "│ 1      ┆ Joke       ┆ Episode 26 ┆ 119.8     ┆ … ┆ Negative  ┆ 88.01241  ┆ true      ┆ true      │\n",
       "│        ┆ Junction   ┆            ┆           ┆   ┆           ┆           ┆           ┆           │\n",
       "│ 2      ┆ Study      ┆ Episode 16 ┆ 73.9      ┆ … ┆ Negative  ┆ 44.92531  ┆ true      ┆ true      │\n",
       "│        ┆ Sessions   ┆            ┆           ┆   ┆           ┆           ┆           ┆           │\n",
       "│ 3      ┆ Digital    ┆ Episode 45 ┆ 67.17     ┆ … ┆ Positive  ┆ 46.27824  ┆ true      ┆ true      │\n",
       "│        ┆ Digest     ┆            ┆           ┆   ┆           ┆           ┆           ┆           │\n",
       "│ 4      ┆ Mind &     ┆ Episode 86 ┆ 110.51    ┆ … ┆ Neutral   ┆ 75.61031  ┆ true      ┆ true      │\n",
       "│        ┆ Body       ┆            ┆           ┆   ┆           ┆           ┆           ┆           │\n",
       "│ …      ┆ …          ┆ …          ┆ …         ┆ … ┆ …         ┆ …         ┆ …         ┆ …         │\n",
       "│ 749995 ┆ Learning   ┆ Episode 25 ┆ 75.66     ┆ … ┆ Negative  ┆ 56.87058  ┆ true      ┆ true      │\n",
       "│        ┆ Lab        ┆            ┆           ┆   ┆           ┆           ┆           ┆           │\n",
       "│ 749996 ┆ Business   ┆ Episode 21 ┆ 75.75     ┆ … ┆ Neutral   ┆ 45.46242  ┆ true      ┆ true      │\n",
       "│        ┆ Briefs     ┆            ┆           ┆   ┆           ┆           ┆           ┆           │\n",
       "│ 749997 ┆ Lifestyle  ┆ Episode 51 ┆ 30.98     ┆ … ┆ Negative  ┆ 15.26     ┆ true      ┆ true      │\n",
       "│        ┆ Lounge     ┆            ┆           ┆   ┆           ┆           ┆           ┆           │\n",
       "│ 749998 ┆ Style      ┆ Episode 47 ┆ 108.98    ┆ … ┆ Negative  ┆ 100.72939 ┆ true      ┆ true      │\n",
       "│        ┆ Guide      ┆            ┆           ┆   ┆           ┆           ┆           ┆           │\n",
       "│ 749999 ┆ Sports     ┆ Episode 99 ┆ 24.1      ┆ … ┆ Neutral   ┆ 11.94439  ┆ true      ┆ true      │\n",
       "│        ┆ Central    ┆            ┆           ┆   ┆           ┆           ┆           ┆           │\n",
       "└────────┴────────────┴────────────┴───────────┴───┴───────────┴───────────┴───────────┴───────────┘"
      ]
     },
     "execution_count": 6,
     "metadata": {},
     "output_type": "execute_result"
    }
   ],
   "source": [
    "# With columns - adds new columns on top of existing ones\n",
    "df.with_columns(\n",
    "  listening_time_above_4=pl.col(\"Listening_Time_minutes\") > 4,\n",
    "  listening_time_above_11=pl.col('Listening_Time_minutes') > 11\n",
    ")"
   ]
  },
  {
   "cell_type": "code",
   "execution_count": 7,
   "metadata": {},
   "outputs": [
    {
     "data": {
      "text/html": [
       "<div><style>\n",
       ".dataframe > thead > tr,\n",
       ".dataframe > tbody > tr {\n",
       "  text-align: right;\n",
       "  white-space: pre-wrap;\n",
       "}\n",
       "</style>\n",
       "<small>shape: (0, 12)</small><table border=\"1\" class=\"dataframe\"><thead><tr><th>id</th><th>Podcast_Name</th><th>Episode_Title</th><th>Episode_Length_minutes</th><th>Genre</th><th>Host_Popularity_percentage</th><th>Publication_Day</th><th>Publication_Time</th><th>Guest_Popularity_percentage</th><th>Number_of_Ads</th><th>Episode_Sentiment</th><th>Listening_Time_minutes</th></tr><tr><td>i64</td><td>str</td><td>str</td><td>f64</td><td>str</td><td>f64</td><td>str</td><td>str</td><td>f64</td><td>f64</td><td>str</td><td>f64</td></tr></thead><tbody></tbody></table></div>"
      ],
      "text/plain": [
       "shape: (0, 12)\n",
       "┌─────┬────────────┬────────────┬────────────┬───┬────────────┬────────────┬───────────┬───────────┐\n",
       "│ id  ┆ Podcast_Na ┆ Episode_Ti ┆ Episode_Le ┆ … ┆ Guest_Popu ┆ Number_of_ ┆ Episode_S ┆ Listening │\n",
       "│ --- ┆ me         ┆ tle        ┆ ngth_minut ┆   ┆ larity_per ┆ Ads        ┆ entiment  ┆ _Time_min │\n",
       "│ i64 ┆ ---        ┆ ---        ┆ es         ┆   ┆ centage    ┆ ---        ┆ ---       ┆ utes      │\n",
       "│     ┆ str        ┆ str        ┆ ---        ┆   ┆ ---        ┆ f64        ┆ str       ┆ ---       │\n",
       "│     ┆            ┆            ┆ f64        ┆   ┆ f64        ┆            ┆           ┆ f64       │\n",
       "╞═════╪════════════╪════════════╪════════════╪═══╪════════════╪════════════╪═══════════╪═══════════╡\n",
       "└─────┴────────────┴────────────┴────────────┴───┴────────────┴────────────┴───────────┴───────────┘"
      ]
     },
     "execution_count": 7,
     "metadata": {},
     "output_type": "execute_result"
    }
   ],
   "source": [
    "# Filter - creates a second dataframe based on the conditions\n",
    "df.filter(\n",
    "  pl.col('Host_Popularity_percentage') < 1015,\n",
    "  pl.col('Host_Popularity_percentage') > 15,\n",
    "  pl.col('Host_Popularity_percentage') < 20\n",
    ")"
   ]
  },
  {
   "cell_type": "code",
   "execution_count": 8,
   "metadata": {},
   "outputs": [
    {
     "data": {
      "text/html": [
       "<div><style>\n",
       ".dataframe > thead > tr,\n",
       ".dataframe > tbody > tr {\n",
       "  text-align: right;\n",
       "  white-space: pre-wrap;\n",
       "}\n",
       "</style>\n",
       "<small>shape: (10, 3)</small><table border=\"1\" class=\"dataframe\"><thead><tr><th>genres</th><th>sample_size</th><th>host_pop_perc</th></tr><tr><td>str</td><td>u32</td><td>f64</td></tr></thead><tbody><tr><td>&quot;Lifestyle&quot;</td><td>82461</td><td>59.78</td></tr><tr><td>&quot;News&quot;</td><td>63385</td><td>60.34</td></tr><tr><td>&quot;Health&quot;</td><td>71416</td><td>59.97</td></tr><tr><td>&quot;Music&quot;</td><td>62743</td><td>59.71</td></tr><tr><td>&quot;True Crime&quot;</td><td>85059</td><td>59.83</td></tr><tr><td>&quot;Comedy&quot;</td><td>81453</td><td>59.53</td></tr><tr><td>&quot;Business&quot;</td><td>80521</td><td>60.67</td></tr><tr><td>&quot;Sports&quot;</td><td>87606</td><td>59.28</td></tr><tr><td>&quot;Education&quot;</td><td>49100</td><td>60.26</td></tr><tr><td>&quot;Technology&quot;</td><td>86256</td><td>59.55</td></tr></tbody></table></div>"
      ],
      "text/plain": [
       "shape: (10, 3)\n",
       "┌────────────┬─────────────┬───────────────┐\n",
       "│ genres     ┆ sample_size ┆ host_pop_perc │\n",
       "│ ---        ┆ ---         ┆ ---           │\n",
       "│ str        ┆ u32         ┆ f64           │\n",
       "╞════════════╪═════════════╪═══════════════╡\n",
       "│ Lifestyle  ┆ 82461       ┆ 59.78         │\n",
       "│ News       ┆ 63385       ┆ 60.34         │\n",
       "│ Health     ┆ 71416       ┆ 59.97         │\n",
       "│ Music      ┆ 62743       ┆ 59.71         │\n",
       "│ True Crime ┆ 85059       ┆ 59.83         │\n",
       "│ Comedy     ┆ 81453       ┆ 59.53         │\n",
       "│ Business   ┆ 80521       ┆ 60.67         │\n",
       "│ Sports     ┆ 87606       ┆ 59.28         │\n",
       "│ Education  ┆ 49100       ┆ 60.26         │\n",
       "│ Technology ┆ 86256       ┆ 59.55         │\n",
       "└────────────┴─────────────┴───────────────┘"
      ]
     },
     "execution_count": 8,
     "metadata": {},
     "output_type": "execute_result"
    }
   ],
   "source": [
    "# group_by - group by syntax\n",
    "df.group_by(\n",
    "  (pl.col('Genre')).alias('genres')\n",
    ").agg(\n",
    "  pl.len().alias('sample_size'),\n",
    "  pl.col('Host_Popularity_percentage').mean().round(2).alias('host_pop_perc')\n",
    ")"
   ]
  },
  {
   "cell_type": "code",
   "execution_count": 9,
   "metadata": {},
   "outputs": [
    {
     "data": {
      "text/html": [
       "<div><style>\n",
       ".dataframe > thead > tr,\n",
       ".dataframe > tbody > tr {\n",
       "  text-align: right;\n",
       "  white-space: pre-wrap;\n",
       "}\n",
       "</style>\n",
       "<small>shape: (8, 1)</small><table border=\"1\" class=\"dataframe\"><thead><tr><th>value_squared</th></tr><tr><td>i64</td></tr></thead><tbody><tr><td>1</td></tr><tr><td>4</td></tr><tr><td>9</td></tr><tr><td>16</td></tr><tr><td>25</td></tr><tr><td>36</td></tr><tr><td>49</td></tr><tr><td>64</td></tr></tbody></table></div>"
      ],
      "text/plain": [
       "shape: (8, 1)\n",
       "┌───────────────┐\n",
       "│ value_squared │\n",
       "│ ---           │\n",
       "│ i64           │\n",
       "╞═══════════════╡\n",
       "│ 1             │\n",
       "│ 4             │\n",
       "│ 9             │\n",
       "│ 16            │\n",
       "│ 25            │\n",
       "│ 36            │\n",
       "│ 49            │\n",
       "│ 64            │\n",
       "└───────────────┘"
      ]
     },
     "execution_count": 9,
     "metadata": {},
     "output_type": "execute_result"
    }
   ],
   "source": [
    "# GPU support - some API is not supported by GPU, will defailt to CPU\n",
    "df_gpu = pl.LazyFrame(\n",
    "  {\n",
    "    'key': [1, 1, 1, 2, 3, 3, 2, 2],\n",
    "    'value': [1, 2, 3, 4, 5, 6, 7, 8]\n",
    "  }\n",
    ")\n",
    "\n",
    "p = df_gpu.select((pl.col('value') ** 2).round(2).alias('value_squared')) # GPU available\n",
    "q = df_gpu.select(pl.col('value').sum().over('key')) # GPU not available\n",
    "\n",
    "with pl.Config() as cfg:\n",
    "  cfg.set_verbose(True)\n",
    "  result = p.collect(engine='gpu')\n",
    "  # result = q.collect(engine='gpu')\n",
    "\n",
    "result"
   ]
  },
  {
   "cell_type": "markdown",
   "metadata": {},
   "source": [
    "## Dataframe Inspection"
   ]
  },
  {
   "cell_type": "code",
   "execution_count": 10,
   "metadata": {},
   "outputs": [
    {
     "name": "stdout",
     "output_type": "stream",
     "text": [
      "Rows: 750000\n",
      "Columns: 12\n",
      "$ id                          <i64> 0, 1, 2, 3, 4, 5, 6, 7, 8, 9\n",
      "$ Podcast_Name                <str> 'Mystery Matters', 'Joke Junction', 'Study Sessions', 'Digital Digest', 'Mind & Body', 'Fitness First', 'Criminal Minds', 'News Roundup', 'Daily Digest', 'Music Matters'\n",
      "$ Episode_Title               <str> 'Episode 98', 'Episode 26', 'Episode 16', 'Episode 45', 'Episode 86', 'Episode 19', 'Episode 47', 'Episode 44', 'Episode 32', 'Episode 81'\n",
      "$ Episode_Length_minutes      <f64> None, 119.8, 73.9, 67.17, 110.51, 26.54, 69.83, 48.52, 105.87, None\n",
      "$ Genre                       <str> 'True Crime', 'Comedy', 'Education', 'Technology', 'Health', 'Health', 'True Crime', 'News', 'News', 'Music'\n",
      "$ Host_Popularity_percentage  <f64> 74.81, 66.95, 69.97, 57.22, 80.07, 48.96, 35.82, 44.99, 69.81, 82.18\n",
      "$ Publication_Day             <str> 'Thursday', 'Saturday', 'Tuesday', 'Monday', 'Monday', 'Saturday', 'Sunday', 'Thursday', 'Monday', 'Thursday'\n",
      "$ Publication_Time            <str> 'Night', 'Afternoon', 'Evening', 'Morning', 'Afternoon', 'Afternoon', 'Night', 'Night', 'Evening', 'Night'\n",
      "$ Guest_Popularity_percentage <f64> None, 75.95, 8.97, 78.7, 58.68, None, 39.02, 20.12, None, 59.72\n",
      "$ Number_of_Ads               <f64> 0.0, 2.0, 0.0, 2.0, 3.0, 3.0, 0.0, 0.0, 2.0, 3.0\n",
      "$ Episode_Sentiment           <str> 'Positive', 'Negative', 'Negative', 'Positive', 'Neutral', 'Positive', 'Neutral', 'Positive', 'Neutral', 'Neutral'\n",
      "$ Listening_Time_minutes      <f64> 31.41998, 88.01241, 44.92531, 46.27824, 75.61031, 22.77047, 64.75024, 22.37517, 68.00124, 45.94761\n",
      "\n"
     ]
    }
   ],
   "source": [
    "# Like head but vertical format, good for wide dataframes\n",
    "df.glimpse()"
   ]
  },
  {
   "cell_type": "code",
   "execution_count": 11,
   "metadata": {},
   "outputs": [
    {
     "data": {
      "text/html": [
       "<div><style>\n",
       ".dataframe > thead > tr,\n",
       ".dataframe > tbody > tr {\n",
       "  text-align: right;\n",
       "  white-space: pre-wrap;\n",
       "}\n",
       "</style>\n",
       "<small>shape: (9, 13)</small><table border=\"1\" class=\"dataframe\"><thead><tr><th>statistic</th><th>id</th><th>Podcast_Name</th><th>Episode_Title</th><th>Episode_Length_minutes</th><th>Genre</th><th>Host_Popularity_percentage</th><th>Publication_Day</th><th>Publication_Time</th><th>Guest_Popularity_percentage</th><th>Number_of_Ads</th><th>Episode_Sentiment</th><th>Listening_Time_minutes</th></tr><tr><td>str</td><td>f64</td><td>str</td><td>str</td><td>f64</td><td>str</td><td>f64</td><td>str</td><td>str</td><td>f64</td><td>f64</td><td>str</td><td>f64</td></tr></thead><tbody><tr><td>&quot;count&quot;</td><td>750000.0</td><td>&quot;750000&quot;</td><td>&quot;750000&quot;</td><td>662907.0</td><td>&quot;750000&quot;</td><td>750000.0</td><td>&quot;750000&quot;</td><td>&quot;750000&quot;</td><td>603970.0</td><td>749999.0</td><td>&quot;750000&quot;</td><td>750000.0</td></tr><tr><td>&quot;null_count&quot;</td><td>0.0</td><td>&quot;0&quot;</td><td>&quot;0&quot;</td><td>87093.0</td><td>&quot;0&quot;</td><td>0.0</td><td>&quot;0&quot;</td><td>&quot;0&quot;</td><td>146030.0</td><td>1.0</td><td>&quot;0&quot;</td><td>0.0</td></tr><tr><td>&quot;mean&quot;</td><td>374999.5</td><td>null</td><td>null</td><td>64.504738</td><td>null</td><td>59.859901</td><td>null</td><td>null</td><td>52.236449</td><td>1.348855</td><td>null</td><td>45.437406</td></tr><tr><td>&quot;std&quot;</td><td>216506.495284</td><td>null</td><td>null</td><td>32.969603</td><td>null</td><td>22.873098</td><td>null</td><td>null</td><td>28.451241</td><td>1.15113</td><td>null</td><td>27.138306</td></tr><tr><td>&quot;min&quot;</td><td>0.0</td><td>&quot;Athlete&#x27;s Arena&quot;</td><td>&quot;Episode 1&quot;</td><td>0.0</td><td>&quot;Business&quot;</td><td>1.3</td><td>&quot;Friday&quot;</td><td>&quot;Afternoon&quot;</td><td>0.0</td><td>0.0</td><td>&quot;Negative&quot;</td><td>0.0</td></tr><tr><td>&quot;25%&quot;</td><td>187500.0</td><td>null</td><td>null</td><td>35.73</td><td>null</td><td>39.41</td><td>null</td><td>null</td><td>28.38</td><td>0.0</td><td>null</td><td>23.17835</td></tr><tr><td>&quot;50%&quot;</td><td>375000.0</td><td>null</td><td>null</td><td>63.84</td><td>null</td><td>60.05</td><td>null</td><td>null</td><td>53.58</td><td>1.0</td><td>null</td><td>43.37946</td></tr><tr><td>&quot;75%&quot;</td><td>562499.0</td><td>null</td><td>null</td><td>94.07</td><td>null</td><td>79.53</td><td>null</td><td>null</td><td>76.6</td><td>2.0</td><td>null</td><td>64.81158</td></tr><tr><td>&quot;max&quot;</td><td>749999.0</td><td>&quot;World Watch&quot;</td><td>&quot;Episode 99&quot;</td><td>325.24</td><td>&quot;True Crime&quot;</td><td>119.46</td><td>&quot;Wednesday&quot;</td><td>&quot;Night&quot;</td><td>119.91</td><td>103.91</td><td>&quot;Positive&quot;</td><td>119.97</td></tr></tbody></table></div>"
      ],
      "text/plain": [
       "shape: (9, 13)\n",
       "┌───────────┬───────────┬───────────┬───────────┬───┬───────────┬───────────┬───────────┬──────────┐\n",
       "│ statistic ┆ id        ┆ Podcast_N ┆ Episode_T ┆ … ┆ Guest_Pop ┆ Number_of ┆ Episode_S ┆ Listenin │\n",
       "│ ---       ┆ ---       ┆ ame       ┆ itle      ┆   ┆ ularity_p ┆ _Ads      ┆ entiment  ┆ g_Time_m │\n",
       "│ str       ┆ f64       ┆ ---       ┆ ---       ┆   ┆ ercentage ┆ ---       ┆ ---       ┆ inutes   │\n",
       "│           ┆           ┆ str       ┆ str       ┆   ┆ ---       ┆ f64       ┆ str       ┆ ---      │\n",
       "│           ┆           ┆           ┆           ┆   ┆ f64       ┆           ┆           ┆ f64      │\n",
       "╞═══════════╪═══════════╪═══════════╪═══════════╪═══╪═══════════╪═══════════╪═══════════╪══════════╡\n",
       "│ count     ┆ 750000.0  ┆ 750000    ┆ 750000    ┆ … ┆ 603970.0  ┆ 749999.0  ┆ 750000    ┆ 750000.0 │\n",
       "│ null_coun ┆ 0.0       ┆ 0         ┆ 0         ┆ … ┆ 146030.0  ┆ 1.0       ┆ 0         ┆ 0.0      │\n",
       "│ t         ┆           ┆           ┆           ┆   ┆           ┆           ┆           ┆          │\n",
       "│ mean      ┆ 374999.5  ┆ null      ┆ null      ┆ … ┆ 52.236449 ┆ 1.348855  ┆ null      ┆ 45.43740 │\n",
       "│           ┆           ┆           ┆           ┆   ┆           ┆           ┆           ┆ 6        │\n",
       "│ std       ┆ 216506.49 ┆ null      ┆ null      ┆ … ┆ 28.451241 ┆ 1.15113   ┆ null      ┆ 27.13830 │\n",
       "│           ┆ 5284      ┆           ┆           ┆   ┆           ┆           ┆           ┆ 6        │\n",
       "│ min       ┆ 0.0       ┆ Athlete's ┆ Episode 1 ┆ … ┆ 0.0       ┆ 0.0       ┆ Negative  ┆ 0.0      │\n",
       "│           ┆           ┆ Arena     ┆           ┆   ┆           ┆           ┆           ┆          │\n",
       "│ 25%       ┆ 187500.0  ┆ null      ┆ null      ┆ … ┆ 28.38     ┆ 0.0       ┆ null      ┆ 23.17835 │\n",
       "│ 50%       ┆ 375000.0  ┆ null      ┆ null      ┆ … ┆ 53.58     ┆ 1.0       ┆ null      ┆ 43.37946 │\n",
       "│ 75%       ┆ 562499.0  ┆ null      ┆ null      ┆ … ┆ 76.6      ┆ 2.0       ┆ null      ┆ 64.81158 │\n",
       "│ max       ┆ 749999.0  ┆ World     ┆ Episode   ┆ … ┆ 119.91    ┆ 103.91    ┆ Positive  ┆ 119.97   │\n",
       "│           ┆           ┆ Watch     ┆ 99        ┆   ┆           ┆           ┆           ┆          │\n",
       "└───────────┴───────────┴───────────┴───────────┴───┴───────────┴───────────┴───────────┴──────────┘"
      ]
     },
     "execution_count": 11,
     "metadata": {},
     "output_type": "execute_result"
    }
   ],
   "source": [
    "df.describe()"
   ]
  },
  {
   "cell_type": "code",
   "execution_count": 12,
   "metadata": {},
   "outputs": [
    {
     "data": {
      "text/plain": [
       "Schema([('id', Int64),\n",
       "        ('Podcast_Name', String),\n",
       "        ('Episode_Title', String),\n",
       "        ('Episode_Length_minutes', Float64),\n",
       "        ('Genre', String),\n",
       "        ('Host_Popularity_percentage', Float64),\n",
       "        ('Publication_Day', String),\n",
       "        ('Publication_Time', String),\n",
       "        ('Guest_Popularity_percentage', Float64),\n",
       "        ('Number_of_Ads', Float64),\n",
       "        ('Episode_Sentiment', String),\n",
       "        ('Listening_Time_minutes', Float64)])"
      ]
     },
     "execution_count": 12,
     "metadata": {},
     "output_type": "execute_result"
    }
   ],
   "source": [
    "# Get the data types of columns in a dataframe - similar to `dtypes`\n",
    "df.schema"
   ]
  },
  {
   "cell_type": "code",
   "execution_count": 13,
   "metadata": {},
   "outputs": [
    {
     "data": {
      "text/html": [
       "<div><style>\n",
       ".dataframe > thead > tr,\n",
       ".dataframe > tbody > tr {\n",
       "  text-align: right;\n",
       "  white-space: pre-wrap;\n",
       "}\n",
       "</style>\n",
       "<small>shape: (4, 2)</small><table border=\"1\" class=\"dataframe\"><thead><tr><th>name</th><th>age</th></tr><tr><td>str</td><td>u8</td></tr></thead><tbody><tr><td>&quot;Alice&quot;</td><td>27</td></tr><tr><td>&quot;Ben&quot;</td><td>39</td></tr><tr><td>&quot;Chloe&quot;</td><td>41</td></tr><tr><td>&quot;Daniel&quot;</td><td>43</td></tr></tbody></table></div>"
      ],
      "text/plain": [
       "shape: (4, 2)\n",
       "┌────────┬─────┐\n",
       "│ name   ┆ age │\n",
       "│ ---    ┆ --- │\n",
       "│ str    ┆ u8  │\n",
       "╞════════╪═════╡\n",
       "│ Alice  ┆ 27  │\n",
       "│ Ben    ┆ 39  │\n",
       "│ Chloe  ┆ 41  │\n",
       "│ Daniel ┆ 43  │\n",
       "└────────┴─────┘"
      ]
     },
     "execution_count": 13,
     "metadata": {},
     "output_type": "execute_result"
    }
   ],
   "source": [
    "# Specify the datatypes with the `schema`, `schema_overrides` parameter when \n",
    "# loading/ creating dataframes\n",
    "pl.DataFrame(\n",
    "  {\n",
    "    \"name\": [\"Alice\", \"Ben\", \"Chloe\", \"Daniel\"],\n",
    "    \"age\": [27, 39, 41, 43],\n",
    "  },\n",
    "  # schema={\"name\": None, \"age\": pl.UInt8},\n",
    "  schema_overrides={'age': pl.UInt8}\n",
    ")"
   ]
  },
  {
   "cell_type": "markdown",
   "metadata": {},
   "source": [
    "# Lazy API\n",
    "\n",
    "Query is only evaluated when it's collected. Prefered in most cases\n",
    "\n",
    "* __Predicate pushdown__ - Apply filters early on while reading the data, reducing the amount of data loaded into memory\n",
    "* __Projection pushdown__ - Select only the columns that are needed whiel reading the dataset, removing the need to load additional columns"
   ]
  },
  {
   "cell_type": "code",
   "execution_count": 14,
   "metadata": {},
   "outputs": [
    {
     "data": {
      "text/html": [
       "<div><style>\n",
       ".dataframe > thead > tr,\n",
       ".dataframe > tbody > tr {\n",
       "  text-align: right;\n",
       "  white-space: pre-wrap;\n",
       "}\n",
       "</style>\n",
       "<small>shape: (5, 12)</small><table border=\"1\" class=\"dataframe\"><thead><tr><th>id</th><th>Podcast_Name</th><th>Episode_Title</th><th>Episode_Length_minutes</th><th>Genre</th><th>Host_Popularity_percentage</th><th>Publication_Day</th><th>Publication_Time</th><th>Guest_Popularity_percentage</th><th>Number_of_Ads</th><th>Episode_Sentiment</th><th>Listening_Time_minutes</th></tr><tr><td>i64</td><td>str</td><td>str</td><td>f64</td><td>str</td><td>f64</td><td>str</td><td>str</td><td>f64</td><td>f64</td><td>str</td><td>f64</td></tr></thead><tbody><tr><td>0</td><td>&quot;Mystery Matters&quot;</td><td>&quot;Episode 98&quot;</td><td>null</td><td>&quot;True Crime&quot;</td><td>74.81</td><td>&quot;Thursday&quot;</td><td>&quot;Night&quot;</td><td>null</td><td>0.0</td><td>&quot;Positive&quot;</td><td>31.41998</td></tr><tr><td>1</td><td>&quot;Joke Junction&quot;</td><td>&quot;Episode 26&quot;</td><td>119.8</td><td>&quot;Comedy&quot;</td><td>66.95</td><td>&quot;Saturday&quot;</td><td>&quot;Afternoon&quot;</td><td>75.95</td><td>2.0</td><td>&quot;Negative&quot;</td><td>88.01241</td></tr><tr><td>2</td><td>&quot;Study Sessions&quot;</td><td>&quot;Episode 16&quot;</td><td>73.9</td><td>&quot;Education&quot;</td><td>69.97</td><td>&quot;Tuesday&quot;</td><td>&quot;Evening&quot;</td><td>8.97</td><td>0.0</td><td>&quot;Negative&quot;</td><td>44.92531</td></tr><tr><td>3</td><td>&quot;Digital Digest&quot;</td><td>&quot;Episode 45&quot;</td><td>67.17</td><td>&quot;Technology&quot;</td><td>57.22</td><td>&quot;Monday&quot;</td><td>&quot;Morning&quot;</td><td>78.7</td><td>2.0</td><td>&quot;Positive&quot;</td><td>46.27824</td></tr><tr><td>4</td><td>&quot;Mind &amp; Body&quot;</td><td>&quot;Episode 86&quot;</td><td>110.51</td><td>&quot;Health&quot;</td><td>80.07</td><td>&quot;Monday&quot;</td><td>&quot;Afternoon&quot;</td><td>58.68</td><td>3.0</td><td>&quot;Neutral&quot;</td><td>75.61031</td></tr></tbody></table></div>"
      ],
      "text/plain": [
       "shape: (5, 12)\n",
       "┌─────┬────────────┬────────────┬────────────┬───┬────────────┬────────────┬───────────┬───────────┐\n",
       "│ id  ┆ Podcast_Na ┆ Episode_Ti ┆ Episode_Le ┆ … ┆ Guest_Popu ┆ Number_of_ ┆ Episode_S ┆ Listening │\n",
       "│ --- ┆ me         ┆ tle        ┆ ngth_minut ┆   ┆ larity_per ┆ Ads        ┆ entiment  ┆ _Time_min │\n",
       "│ i64 ┆ ---        ┆ ---        ┆ es         ┆   ┆ centage    ┆ ---        ┆ ---       ┆ utes      │\n",
       "│     ┆ str        ┆ str        ┆ ---        ┆   ┆ ---        ┆ f64        ┆ str       ┆ ---       │\n",
       "│     ┆            ┆            ┆ f64        ┆   ┆ f64        ┆            ┆           ┆ f64       │\n",
       "╞═════╪════════════╪════════════╪════════════╪═══╪════════════╪════════════╪═══════════╪═══════════╡\n",
       "│ 0   ┆ Mystery    ┆ Episode 98 ┆ null       ┆ … ┆ null       ┆ 0.0        ┆ Positive  ┆ 31.41998  │\n",
       "│     ┆ Matters    ┆            ┆            ┆   ┆            ┆            ┆           ┆           │\n",
       "│ 1   ┆ Joke       ┆ Episode 26 ┆ 119.8      ┆ … ┆ 75.95      ┆ 2.0        ┆ Negative  ┆ 88.01241  │\n",
       "│     ┆ Junction   ┆            ┆            ┆   ┆            ┆            ┆           ┆           │\n",
       "│ 2   ┆ Study      ┆ Episode 16 ┆ 73.9       ┆ … ┆ 8.97       ┆ 0.0        ┆ Negative  ┆ 44.92531  │\n",
       "│     ┆ Sessions   ┆            ┆            ┆   ┆            ┆            ┆           ┆           │\n",
       "│ 3   ┆ Digital    ┆ Episode 45 ┆ 67.17      ┆ … ┆ 78.7       ┆ 2.0        ┆ Positive  ┆ 46.27824  │\n",
       "│     ┆ Digest     ┆            ┆            ┆   ┆            ┆            ┆           ┆           │\n",
       "│ 4   ┆ Mind &     ┆ Episode 86 ┆ 110.51     ┆ … ┆ 58.68      ┆ 3.0        ┆ Neutral   ┆ 75.61031  │\n",
       "│     ┆ Body       ┆            ┆            ┆   ┆            ┆            ┆           ┆           │\n",
       "└─────┴────────────┴────────────┴────────────┴───┴────────────┴────────────┴───────────┴───────────┘"
      ]
     },
     "execution_count": 14,
     "metadata": {},
     "output_type": "execute_result"
    }
   ],
   "source": [
    "df = pl.read_csv(\"data/train.csv\")\n",
    "df.head()"
   ]
  },
  {
   "cell_type": "code",
   "execution_count": 15,
   "metadata": {},
   "outputs": [
    {
     "data": {
      "text/plain": [
       "(750000, 12)"
      ]
     },
     "execution_count": 15,
     "metadata": {},
     "output_type": "execute_result"
    }
   ],
   "source": [
    "df.shape"
   ]
  },
  {
   "cell_type": "code",
   "execution_count": 19,
   "metadata": {},
   "outputs": [],
   "source": [
    "q = (\n",
    "  pl.scan_csv('data/train.csv')\n",
    "    .filter(pl.col('Host_Popularity_percentage') > 80)\n",
    "    .group_by('Genre')\n",
    "    .agg(pl.col(['Episode_Length_minutes', 'Number_of_Ads']).mean())\n",
    ")\n",
    "\n",
    "df = q.collect()"
   ]
  },
  {
   "cell_type": "code",
   "execution_count": 20,
   "metadata": {},
   "outputs": [
    {
     "data": {
      "text/html": [
       "<div><style>\n",
       ".dataframe > thead > tr,\n",
       ".dataframe > tbody > tr {\n",
       "  text-align: right;\n",
       "  white-space: pre-wrap;\n",
       "}\n",
       "</style>\n",
       "<small>shape: (10, 3)</small><table border=\"1\" class=\"dataframe\"><thead><tr><th>Genre</th><th>Episode_Length_minutes</th><th>Number_of_Ads</th></tr><tr><td>str</td><td>f64</td><td>f64</td></tr></thead><tbody><tr><td>&quot;Sports&quot;</td><td>65.934675</td><td>1.302198</td></tr><tr><td>&quot;Lifestyle&quot;</td><td>66.837354</td><td>1.2614</td></tr><tr><td>&quot;Comedy&quot;</td><td>65.991056</td><td>1.256109</td></tr><tr><td>&quot;Health&quot;</td><td>67.075409</td><td>1.313091</td></tr><tr><td>&quot;News&quot;</td><td>65.534971</td><td>1.3234</td></tr><tr><td>&quot;True Crime&quot;</td><td>66.398102</td><td>1.272741</td></tr><tr><td>&quot;Education&quot;</td><td>67.756515</td><td>1.325729</td></tr><tr><td>&quot;Music&quot;</td><td>67.740679</td><td>1.244447</td></tr><tr><td>&quot;Business&quot;</td><td>68.240618</td><td>1.315097</td></tr><tr><td>&quot;Technology&quot;</td><td>66.541948</td><td>1.318707</td></tr></tbody></table></div>"
      ],
      "text/plain": [
       "shape: (10, 3)\n",
       "┌────────────┬────────────────────────┬───────────────┐\n",
       "│ Genre      ┆ Episode_Length_minutes ┆ Number_of_Ads │\n",
       "│ ---        ┆ ---                    ┆ ---           │\n",
       "│ str        ┆ f64                    ┆ f64           │\n",
       "╞════════════╪════════════════════════╪═══════════════╡\n",
       "│ Sports     ┆ 65.934675              ┆ 1.302198      │\n",
       "│ Lifestyle  ┆ 66.837354              ┆ 1.2614        │\n",
       "│ Comedy     ┆ 65.991056              ┆ 1.256109      │\n",
       "│ Health     ┆ 67.075409              ┆ 1.313091      │\n",
       "│ News       ┆ 65.534971              ┆ 1.3234        │\n",
       "│ True Crime ┆ 66.398102              ┆ 1.272741      │\n",
       "│ Education  ┆ 67.756515              ┆ 1.325729      │\n",
       "│ Music      ┆ 67.740679              ┆ 1.244447      │\n",
       "│ Business   ┆ 68.240618              ┆ 1.315097      │\n",
       "│ Technology ┆ 66.541948              ┆ 1.318707      │\n",
       "└────────────┴────────────────────────┴───────────────┘"
      ]
     },
     "execution_count": 20,
     "metadata": {},
     "output_type": "execute_result"
    }
   ],
   "source": [
    "df"
   ]
  },
  {
   "cell_type": "markdown",
   "metadata": {},
   "source": [
    "`q.explain()` creates a description of the query plan to be executed"
   ]
  },
  {
   "cell_type": "code",
   "execution_count": 21,
   "metadata": {},
   "outputs": [
    {
     "name": "stdout",
     "output_type": "stream",
     "text": [
      "AGGREGATE\n",
      "\t[col(\"Episode_Length_minutes\").mean(), col(\"Number_of_Ads\").mean()] BY [col(\"Genre\")] FROM\n",
      "  simple π 4/4 [\"Episode_Length_minutes\", ... 3 other columns]\n",
      "    Csv SCAN [data/train.csv]\n",
      "    PROJECT 4/12 COLUMNS\n",
      "    SELECTION: [(col(\"Host_Popularity_percentage\")) > (80.0)]\n"
     ]
    }
   ],
   "source": [
    "print(q.explain())"
   ]
  },
  {
   "cell_type": "markdown",
   "metadata": {},
   "source": [
    "# Applying functions"
   ]
  },
  {
   "cell_type": "code",
   "execution_count": 22,
   "metadata": {},
   "outputs": [],
   "source": [
    "df = pl.read_csv('data/train.csv')"
   ]
  },
  {
   "cell_type": "code",
   "execution_count": 25,
   "metadata": {},
   "outputs": [
    {
     "name": "stderr",
     "output_type": "stream",
     "text": [
      "/tmp/ipykernel_14787/3568547282.py:3: PolarsInefficientMapWarning: \n",
      "Expr.map_elements is significantly slower than the native expressions API.\n",
      "Only use if you absolutely CANNOT implement your logic otherwise.\n",
      "Replace this expression...\n",
      "  - pl.col(\"Episode_Length_minutes\").map_elements(math.sqrt)\n",
      "with this one instead:\n",
      "  + pl.col(\"Episode_Length_minutes\").sqrt()\n",
      "\n",
      "  pl.col('Episode_Length_minutes').map_elements(math.sqrt, return_dtype=pl.Float64)\n"
     ]
    },
    {
     "data": {
      "text/html": [
       "<div><style>\n",
       ".dataframe > thead > tr,\n",
       ".dataframe > tbody > tr {\n",
       "  text-align: right;\n",
       "  white-space: pre-wrap;\n",
       "}\n",
       "</style>\n",
       "<small>shape: (5, 1)</small><table border=\"1\" class=\"dataframe\"><thead><tr><th>Episode_Length_minutes</th></tr><tr><td>f64</td></tr></thead><tbody><tr><td>null</td></tr><tr><td>10.945319</td></tr><tr><td>8.596511</td></tr><tr><td>8.195731</td></tr><tr><td>10.512374</td></tr></tbody></table></div>"
      ],
      "text/plain": [
       "shape: (5, 1)\n",
       "┌────────────────────────┐\n",
       "│ Episode_Length_minutes │\n",
       "│ ---                    │\n",
       "│ f64                    │\n",
       "╞════════════════════════╡\n",
       "│ null                   │\n",
       "│ 10.945319              │\n",
       "│ 8.596511               │\n",
       "│ 8.195731               │\n",
       "│ 10.512374              │\n",
       "└────────────────────────┘"
      ]
     },
     "execution_count": 25,
     "metadata": {},
     "output_type": "execute_result"
    }
   ],
   "source": [
    "# map_elements applies a function to all elements in the series\n",
    "df.select(\n",
    "  pl.col('Episode_Length_minutes').map_elements(math.sqrt, return_dtype=pl.Float64)\n",
    ").head()"
   ]
  },
  {
   "cell_type": "code",
   "execution_count": 27,
   "metadata": {},
   "outputs": [
    {
     "name": "stdout",
     "output_type": "stream",
     "text": [
      "== select() with UDF ==\n",
      "shape: (5, 1)\n",
      "┌────────────────────────────┐\n",
      "│ Host_Popularity_percentage │\n",
      "│ ---                        │\n",
      "│ f64                        │\n",
      "╞════════════════════════════╡\n",
      "│ 14.950099                  │\n",
      "│ 7.090099                   │\n",
      "│ 10.110099                  │\n",
      "│ -2.639901                  │\n",
      "│ 20.210099                  │\n",
      "└────────────────────────────┘\n",
      "== group_by() with UDF ==\n",
      "shape: (5, 2)\n",
      "┌────────────┬─────────────────────────────────┐\n",
      "│ Genre      ┆ Host_Popularity_percentage      │\n",
      "│ ---        ┆ ---                             │\n",
      "│ str        ┆ list[f64]                       │\n",
      "╞════════════╪═════════════════════════════════╡\n",
      "│ Education  ┆ [9.711845, -11.418155, … 9.101… │\n",
      "│ Business   ┆ [2.137453, 1.277453, … -25.462… │\n",
      "│ Lifestyle  ┆ [19.041974, -26.458026, … -14.… │\n",
      "│ Health     ┆ [20.097946, -11.012054, … 39.1… │\n",
      "│ True Crime ┆ [14.980324, -24.009676, … -9.4… │\n",
      "└────────────┴─────────────────────────────────┘\n"
     ]
    }
   ],
   "source": [
    "# map_batches() is a better API to use\n",
    "def diff_from_mean(series):\n",
    "  # Code will run slowly since it's all in Python\n",
    "  total = 0\n",
    "  for value in series:\n",
    "    total += value\n",
    "  mean = total / len(series)\n",
    "  return pl.Series([value - mean for value in series])\n",
    "\n",
    "# Apply custom function to a series\n",
    "print(\"== select() with UDF ==\")\n",
    "out = df.select(pl.col('Host_Popularity_percentage').map_batches(diff_from_mean))\n",
    "print(out.head())\n",
    "\n",
    "# Apply custom function per group\n",
    "print(\"== group_by() with UDF ==\")\n",
    "out = df.group_by('Genre').agg(pl.col('Host_Popularity_percentage').map_batches(diff_from_mean))\n",
    "print(out.head())"
   ]
  },
  {
   "cell_type": "code",
   "execution_count": null,
   "metadata": {},
   "outputs": [],
   "source": []
  },
  {
   "cell_type": "code",
   "execution_count": 28,
   "metadata": {},
   "outputs": [
    {
     "name": "stdout",
     "output_type": "stream",
     "text": [
      "Last updated: 2025-04-01T10:56:29.109233+08:00\n",
      "\n",
      "Python implementation: CPython\n",
      "Python version       : 3.10.12\n",
      "IPython version      : 8.34.0\n",
      "\n",
      "Compiler    : GCC 11.4.0\n",
      "OS          : Linux\n",
      "Release     : 5.15.167.4-microsoft-standard-WSL2\n",
      "Machine     : x86_64\n",
      "Processor   : x86_64\n",
      "CPU cores   : 20\n",
      "Architecture: 64bit\n",
      "\n"
     ]
    }
   ],
   "source": [
    "%watermark"
   ]
  }
 ],
 "metadata": {
  "kernelspec": {
   "display_name": "py310_ubun",
   "language": "python",
   "name": "python3"
  },
  "language_info": {
   "codemirror_mode": {
    "name": "ipython",
    "version": 3
   },
   "file_extension": ".py",
   "mimetype": "text/x-python",
   "name": "python",
   "nbconvert_exporter": "python",
   "pygments_lexer": "ipython3",
   "version": "3.10.12"
  }
 },
 "nbformat": 4,
 "nbformat_minor": 2
}
