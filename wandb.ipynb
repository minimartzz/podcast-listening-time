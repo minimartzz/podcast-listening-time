{
 "cells": [
  {
   "cell_type": "markdown",
   "metadata": {},
   "source": [
    "# Testing Weights and Biases"
   ]
  },
  {
   "cell_type": "markdown",
   "metadata": {},
   "source": [
    "| Date | User | Change Type | Remarks |  \n",
    "| ---- | ---- | ----------- | ------- |\n",
    "| 09/04/2025   | Martin | Create  | Created notebook to test out the Weights and Biases API. Explored the use of Experiment tracking | "
   ]
  },
  {
   "cell_type": "markdown",
   "metadata": {
    "vscode": {
     "languageId": "plaintext"
    }
   },
   "source": [
    "# Content\n",
    "\n",
    "* [Quickstart](#quickstart)\n",
    "* [W&B Models](#wb-models)"
   ]
  },
  {
   "cell_type": "markdown",
   "metadata": {},
   "source": [
    "# Quickstart"
   ]
  },
  {
   "cell_type": "code",
   "execution_count": 1,
   "metadata": {},
   "outputs": [
    {
     "name": "stderr",
     "output_type": "stream",
     "text": [
      "\u001b[34m\u001b[1mwandb\u001b[0m: Using wandb-core as the SDK backend.  Please refer to https://wandb.me/wandb-core for more information.\n",
      "\u001b[34m\u001b[1mwandb\u001b[0m: Currently logged in as: \u001b[33mminimartzz\u001b[0m to \u001b[32mhttps://api.wandb.ai\u001b[0m. Use \u001b[1m`wandb login --relogin`\u001b[0m to force relogin\n"
     ]
    },
    {
     "data": {
      "text/plain": [
       "True"
      ]
     },
     "execution_count": 1,
     "metadata": {},
     "output_type": "execute_result"
    }
   ],
   "source": [
    "import wandb\n",
    "wandb.login()"
   ]
  },
  {
   "cell_type": "code",
   "execution_count": 2,
   "metadata": {},
   "outputs": [
    {
     "data": {
      "text/html": [],
      "text/plain": [
       "<IPython.core.display.HTML object>"
      ]
     },
     "metadata": {},
     "output_type": "display_data"
    },
    {
     "data": {
      "text/html": [
       "Tracking run with wandb version 0.19.9"
      ],
      "text/plain": [
       "<IPython.core.display.HTML object>"
      ]
     },
     "metadata": {},
     "output_type": "display_data"
    },
    {
     "data": {
      "text/html": [
       "Run data is saved locally in <code>/mnt/d/Projects/podcast-listening-time/wandb/run-20250409_155507-uvd8jtlx</code>"
      ],
      "text/plain": [
       "<IPython.core.display.HTML object>"
      ]
     },
     "metadata": {},
     "output_type": "display_data"
    },
    {
     "data": {
      "text/html": [
       "Syncing run <strong><a href='https://wandb.ai/minimartzz/quickstart-project/runs/uvd8jtlx' target=\"_blank\">royal-night-1</a></strong> to <a href='https://wandb.ai/minimartzz/quickstart-project' target=\"_blank\">Weights & Biases</a> (<a href='https://wandb.me/developer-guide' target=\"_blank\">docs</a>)<br>"
      ],
      "text/plain": [
       "<IPython.core.display.HTML object>"
      ]
     },
     "metadata": {},
     "output_type": "display_data"
    },
    {
     "data": {
      "text/html": [
       " View project at <a href='https://wandb.ai/minimartzz/quickstart-project' target=\"_blank\">https://wandb.ai/minimartzz/quickstart-project</a>"
      ],
      "text/plain": [
       "<IPython.core.display.HTML object>"
      ]
     },
     "metadata": {},
     "output_type": "display_data"
    },
    {
     "data": {
      "text/html": [
       " View run at <a href='https://wandb.ai/minimartzz/quickstart-project/runs/uvd8jtlx' target=\"_blank\">https://wandb.ai/minimartzz/quickstart-project/runs/uvd8jtlx</a>"
      ],
      "text/plain": [
       "<IPython.core.display.HTML object>"
      ]
     },
     "metadata": {},
     "output_type": "display_data"
    }
   ],
   "source": [
    "# Initialise a W&B run object to specify the hyperparameters to track\n",
    "run = wandb.init(\n",
    "  project='quickstart-project',\n",
    "  config={\n",
    "    'learning_rate': 0.01,\n",
    "    'epochs': 10\n",
    "  }\n",
    ")"
   ]
  },
  {
   "cell_type": "code",
   "execution_count": 4,
   "metadata": {},
   "outputs": [
    {
     "name": "stdout",
     "output_type": "stream",
     "text": [
      "lr: 0.01\n",
      "epoch=2, accuracy=0.4767021940156589, loss=0.788667648972936\n",
      "epoch=3, accuracy=0.6012069881706271, loss=0.4801515040194892\n",
      "epoch=4, accuracy=0.7775793866030997, loss=0.21006343011552497\n",
      "epoch=5, accuracy=0.7609558182783781, loss=0.3076815612628614\n",
      "epoch=6, accuracy=0.7552680931950598, loss=0.1529171372694447\n",
      "epoch=7, accuracy=0.7765337479683398, loss=0.17489492513965568\n",
      "epoch=8, accuracy=0.8612576715891114, loss=0.18620929545890064\n",
      "epoch=9, accuracy=0.8943964680333217, loss=0.0996969929931704\n"
     ]
    },
    {
     "data": {
      "text/plain": [
       "<Artifact source-quickstart-project-_mnt_d_Projects_podcast-listening-time_wandb.ipynb>"
      ]
     },
     "execution_count": 4,
     "metadata": {},
     "output_type": "execute_result"
    }
   ],
   "source": [
    "import random\n",
    "\n",
    "# Create the training loop\n",
    "offset = random.random() / 5\n",
    "print(f\"lr: {0.01}\")\n",
    "\n",
    "for epoch in range(2, 10):\n",
    "  acc = 1 - 2**-epoch - random.random() / epoch - offset\n",
    "  loss = 2**-epoch + random.random() / epoch + offset\n",
    "  print(f\"epoch={epoch}, accuracy={acc}, loss={loss}\")\n",
    "  wandb.log({\"accuracy\": acc, \"loss\": loss})\n",
    "\n",
    "run.log_code()"
   ]
  },
  {
   "cell_type": "code",
   "execution_count": 5,
   "metadata": {},
   "outputs": [
    {
     "data": {
      "text/html": [],
      "text/plain": [
       "<IPython.core.display.HTML object>"
      ]
     },
     "metadata": {},
     "output_type": "display_data"
    },
    {
     "data": {
      "text/html": [
       "<br>    <style><br>        .wandb-row {<br>            display: flex;<br>            flex-direction: row;<br>            flex-wrap: wrap;<br>            justify-content: flex-start;<br>            width: 100%;<br>        }<br>        .wandb-col {<br>            display: flex;<br>            flex-direction: column;<br>            flex-basis: 100%;<br>            flex: 1;<br>            padding: 10px;<br>        }<br>    </style><br><div class=\"wandb-row\"><div class=\"wandb-col\"><h3>Run history:</h3><br/><table class=\"wandb\"><tr><td>accuracy</td><td>▁▃▆▆▆▆▇█</td></tr><tr><td>loss</td><td>█▅▂▃▂▂▂▁</td></tr></table><br/></div><div class=\"wandb-col\"><h3>Run summary:</h3><br/><table class=\"wandb\"><tr><td>accuracy</td><td>0.8944</td></tr><tr><td>loss</td><td>0.0997</td></tr></table><br/></div></div>"
      ],
      "text/plain": [
       "<IPython.core.display.HTML object>"
      ]
     },
     "metadata": {},
     "output_type": "display_data"
    },
    {
     "data": {
      "text/html": [
       " View run <strong style=\"color:#cdcd00\">royal-night-1</strong> at: <a href='https://wandb.ai/minimartzz/quickstart-project/runs/uvd8jtlx' target=\"_blank\">https://wandb.ai/minimartzz/quickstart-project/runs/uvd8jtlx</a><br> View project at: <a href='https://wandb.ai/minimartzz/quickstart-project' target=\"_blank\">https://wandb.ai/minimartzz/quickstart-project</a><br>Synced 5 W&B file(s), 0 media file(s), 2 artifact file(s) and 0 other file(s)"
      ],
      "text/plain": [
       "<IPython.core.display.HTML object>"
      ]
     },
     "metadata": {},
     "output_type": "display_data"
    },
    {
     "data": {
      "text/html": [
       "Find logs at: <code>./wandb/run-20250409_155507-uvd8jtlx/logs</code>"
      ],
      "text/plain": [
       "<IPython.core.display.HTML object>"
      ]
     },
     "metadata": {},
     "output_type": "display_data"
    }
   ],
   "source": [
    "run.finish()"
   ]
  },
  {
   "cell_type": "markdown",
   "metadata": {},
   "source": [
    "# W&B Models"
   ]
  },
  {
   "cell_type": "markdown",
   "metadata": {},
   "source": [
    "Organise models, boot productivity and collaboration, and deliver production ML at scale.\n",
    "\n",
    "<u>Enables</u>\n",
    "\n",
    "* Tracking and visualisation of ML experiments\n",
    "* Optimisation and fine-tuning of models at scale with hyperparameter sweep\n",
    "* Maintain a centralised hub of all models with a seamless handoff point to devops and deployment\n",
    "* Configure custom automations that trigger key workflows for model CI/CD"
   ]
  },
  {
   "cell_type": "markdown",
   "metadata": {},
   "source": [
    "## Experiments"
   ]
  },
  {
   "cell_type": "markdown",
   "metadata": {},
   "source": [
    "Track machine learning experiments and view the performance on interactive dashboards\n",
    "\n",
    "* All hyperparameters are stored in `run.config()`\n",
    "* Log metrics using `run.log()` over the training loop\n",
    "* Save the model artifact using `run.log_artifact(model)`\n",
    "\n",
    "<u>Best Practices</u>\n",
    "\n",
    "1. Finish runs using `run.finish()`\n",
    "2. Use the config dictionary to track different parameters - these will show up in columns\n",
    "3. __Project__ are experiements that you can compare together, each project has a dedicated dashboard page\n",
    "4. __Notes__ quick commit messages about the run\n",
    "5. __Tags__ are used to organise runs\n",
    "6. __Run sets__ to make metrics easy to compare "
   ]
  },
  {
   "cell_type": "code",
   "execution_count": null,
   "metadata": {},
   "outputs": [],
   "source": [
    "# General format\n",
    "import wandb\n",
    "\n",
    "config = {\n",
    "  \"learning_rate\": 0.01,\n",
    "  \"momentum\": 0.2,\n",
    "  \"architecture\": \"CNN\",\n",
    "  \"dataset_id\": \"cats-0192\",\n",
    "}\n",
    "\n",
    "with wandb.init(\n",
    "  project=\"detect-cats\",\n",
    "  notes=\"tweak baseline\",\n",
    "  tags=[\"baseline\", \"paper1\"],\n",
    "  config=config,\n",
    ") as run:\n",
    "    ..."
   ]
  },
  {
   "cell_type": "markdown",
   "metadata": {},
   "source": [
    "Note: Specifying a `config-defaults.yaml` in the same directory as the run script, will automatically pick up the key-value pairs in the file\n",
    "\n",
    "```yaml\n",
    "batch_size:\n",
    "  desc: Size of each mini-batch\n",
    "  value: 32\n",
    "```\n",
    "\n",
    "```python\n",
    "config = {\n",
    "  'yaml': 'default_config.yaml'\n",
    "  'params': 'other_hyperparameters'\n",
    "}\n",
    "```"
   ]
  },
  {
   "cell_type": "markdown",
   "metadata": {},
   "source": [
    "See a list of how to track metrics [here](https://docs.wandb.ai/guides/track/log/)"
   ]
  },
  {
   "cell_type": "markdown",
   "metadata": {},
   "source": [
    "Can also use the jupyter magic command `%%wandb` to show the results inside jupyter"
   ]
  },
  {
   "cell_type": "code",
   "execution_count": 7,
   "metadata": {},
   "outputs": [
    {
     "name": "stderr",
     "output_type": "stream",
     "text": [
      "\u001b[34m\u001b[1mwandb\u001b[0m: \u001b[33mWARNING\u001b[0m Calling wandb.login() after wandb.init() has no effect.\n"
     ]
    },
    {
     "data": {
      "text/plain": [
       "True"
      ]
     },
     "execution_count": 7,
     "metadata": {},
     "output_type": "execute_result"
    }
   ],
   "source": [
    "wandb.login()"
   ]
  },
  {
   "cell_type": "code",
   "execution_count": 5,
   "metadata": {},
   "outputs": [
    {
     "data": {
      "text/html": [],
      "text/plain": [
       "<IPython.core.display.HTML object>"
      ]
     },
     "metadata": {},
     "output_type": "display_data"
    },
    {
     "data": {
      "text/html": [
       " View run <strong style=\"color:#cdcd00\">sparkling-cosmos-4</strong> at: <a href='https://wandb.ai/minimartzz/quickstart-project/runs/u1fxa7sx' target=\"_blank\">https://wandb.ai/minimartzz/quickstart-project/runs/u1fxa7sx</a><br> View project at: <a href='https://wandb.ai/minimartzz/quickstart-project' target=\"_blank\">https://wandb.ai/minimartzz/quickstart-project</a><br>Synced 5 W&B file(s), 0 media file(s), 0 artifact file(s) and 0 other file(s)"
      ],
      "text/plain": [
       "<IPython.core.display.HTML object>"
      ]
     },
     "metadata": {},
     "output_type": "display_data"
    },
    {
     "data": {
      "text/html": [
       "Find logs at: <code>./wandb/run-20250409_165921-u1fxa7sx/logs</code>"
      ],
      "text/plain": [
       "<IPython.core.display.HTML object>"
      ]
     },
     "metadata": {},
     "output_type": "display_data"
    },
    {
     "data": {
      "text/html": [
       "Tracking run with wandb version 0.19.9"
      ],
      "text/plain": [
       "<IPython.core.display.HTML object>"
      ]
     },
     "metadata": {},
     "output_type": "display_data"
    },
    {
     "data": {
      "text/html": [
       "Run data is saved locally in <code>/mnt/d/Projects/podcast-listening-time/wandb/run-20250409_170118-azlt9257</code>"
      ],
      "text/plain": [
       "<IPython.core.display.HTML object>"
      ]
     },
     "metadata": {},
     "output_type": "display_data"
    },
    {
     "data": {
      "text/html": [
       "Syncing run <strong><a href='https://wandb.ai/minimartzz/quickstart-project/runs/azlt9257' target=\"_blank\">copper-wildflower-5</a></strong> to <a href='https://wandb.ai/minimartzz/quickstart-project' target=\"_blank\">Weights & Biases</a> (<a href='https://wandb.me/developer-guide' target=\"_blank\">docs</a>)<br>"
      ],
      "text/plain": [
       "<IPython.core.display.HTML object>"
      ]
     },
     "metadata": {},
     "output_type": "display_data"
    },
    {
     "data": {
      "text/html": [
       " View project at <a href='https://wandb.ai/minimartzz/quickstart-project' target=\"_blank\">https://wandb.ai/minimartzz/quickstart-project</a>"
      ],
      "text/plain": [
       "<IPython.core.display.HTML object>"
      ]
     },
     "metadata": {},
     "output_type": "display_data"
    },
    {
     "data": {
      "text/html": [
       " View run at <a href='https://wandb.ai/minimartzz/quickstart-project/runs/azlt9257' target=\"_blank\">https://wandb.ai/minimartzz/quickstart-project/runs/azlt9257</a>"
      ],
      "text/plain": [
       "<IPython.core.display.HTML object>"
      ]
     },
     "metadata": {},
     "output_type": "display_data"
    },
    {
     "data": {
      "text/html": [
       "<button onClick=\"this.nextSibling.style.display='block';this.style.display='none';\">Display W&B run</button><iframe src='https://wandb.ai/minimartzz/quickstart-project/runs/azlt9257?jupyter=true' style='border:none;width:100%;height:420px;display:none;'></iframe>"
      ],
      "text/plain": [
       "<wandb.sdk.wandb_run.Run at 0x7fcbd220c2b0>"
      ]
     },
     "execution_count": 5,
     "metadata": {},
     "output_type": "execute_result"
    }
   ],
   "source": [
    "wandb.init(\n",
    "  project='quickstart-project',\n",
    "  config={\n",
    "    'learning_rate': 0.02,\n",
    "    'epochs': 10\n",
    "  }\n",
    ")"
   ]
  },
  {
   "cell_type": "code",
   "execution_count": 6,
   "metadata": {},
   "outputs": [
    {
     "data": {
      "text/html": [
       "<iframe src='https://wandb.ai/minimartzz/quickstart-project/runs/azlt9257?jupyter=true' style='border:none;width:100%;height:420px;'></iframe>"
      ],
      "text/plain": [
       "<wandb.jupyter.IFrame at 0x7fcbc3da5960>"
      ]
     },
     "metadata": {},
     "output_type": "display_data"
    },
    {
     "name": "stdout",
     "output_type": "stream",
     "text": [
      "epoch=2, accuracy=0.5183670376333211, loss=0.6759453934320535\n",
      "epoch=3, accuracy=0.8383977445997034, loss=0.24093967522166893\n",
      "epoch=4, accuracy=0.8686793873899916, loss=0.23332861067702584\n",
      "epoch=5, accuracy=0.8570040549179059, loss=0.2434978507387677\n",
      "epoch=6, accuracy=0.9161768095333718, loss=0.07419927913459555\n",
      "epoch=7, accuracy=0.8555819565233885, loss=0.034413526530138815\n",
      "epoch=8, accuracy=0.9432213444076092, loss=0.13045077375510647\n",
      "epoch=9, accuracy=0.8629570024822955, loss=0.05977272741076446\n"
     ]
    }
   ],
   "source": [
    "%%wandb\n",
    "\n",
    "offset = random.random() / 5\n",
    "for epoch in range(2, 10):\n",
    "  acc = 1 - 2**-epoch - random.random() / epoch - offset\n",
    "  loss = 2**-epoch + random.random() / epoch + offset\n",
    "  print(f\"epoch={epoch}, accuracy={acc}, loss={loss}\")\n",
    "  wandb.log({\"accuracy\": acc, \"loss\": loss})"
   ]
  },
  {
   "cell_type": "markdown",
   "metadata": {},
   "source": [
    "By default runs are considered as finished when the next `wandb.init()` is called"
   ]
  },
  {
   "cell_type": "code",
   "execution_count": null,
   "metadata": {},
   "outputs": [],
   "source": []
  },
  {
   "cell_type": "code",
   "execution_count": null,
   "metadata": {},
   "outputs": [],
   "source": []
  },
  {
   "cell_type": "code",
   "execution_count": null,
   "metadata": {},
   "outputs": [],
   "source": []
  },
  {
   "cell_type": "code",
   "execution_count": null,
   "metadata": {},
   "outputs": [],
   "source": []
  }
 ],
 "metadata": {
  "kernelspec": {
   "display_name": "py310_ubun",
   "language": "python",
   "name": "python3"
  },
  "language_info": {
   "codemirror_mode": {
    "name": "ipython",
    "version": 3
   },
   "file_extension": ".py",
   "mimetype": "text/x-python",
   "name": "python",
   "nbconvert_exporter": "python",
   "pygments_lexer": "ipython3",
   "version": "3.10.12"
  }
 },
 "nbformat": 4,
 "nbformat_minor": 2
}
